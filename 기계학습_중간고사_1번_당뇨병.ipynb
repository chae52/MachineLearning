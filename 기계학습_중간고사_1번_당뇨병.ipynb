{
  "nbformat": 4,
  "nbformat_minor": 0,
  "metadata": {
    "colab": {
      "name": "기계학습_중간고사_1번_당뇨병",
      "provenance": [],
      "collapsed_sections": [],
      "toc_visible": true,
      "authorship_tag": "ABX9TyPlcE9a3PUJ8w8xt/tsh8cc",
      "include_colab_link": true
    },
    "kernelspec": {
      "name": "python3",
      "display_name": "Python 3"
    }
  },
  "cells": [
    {
      "cell_type": "markdown",
      "metadata": {
        "id": "view-in-github",
        "colab_type": "text"
      },
      "source": [
        "<a href=\"https://colab.research.google.com/github/chae52/MachineLearning/blob/main/%EA%B8%B0%EA%B3%84%ED%95%99%EC%8A%B5_%EC%A4%91%EA%B0%84%EA%B3%A0%EC%82%AC_1%EB%B2%88_%EB%8B%B9%EB%87%A8%EB%B3%91.ipynb\" target=\"_parent\"><img src=\"https://colab.research.google.com/assets/colab-badge.svg\" alt=\"Open In Colab\"/></a>"
      ]
    },
    {
      "cell_type": "code",
      "metadata": {
        "id": "iBH_67XbVQvL",
        "colab": {
          "resources": {
            "http://localhost:8080/nbextensions/google.colab/files.js": {
              "data": "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",
              "ok": true,
              "headers": [
                [
                  "content-type",
                  "application/javascript"
                ]
              ],
              "status": 200,
              "status_text": ""
            }
          },
          "base_uri": "https://localhost:8080/",
          "height": 287
        },
        "outputId": "418e6e22-818b-4a16-a22d-5dca892d882a"
      },
      "source": [
        "!pip install kaggle\r\n",
        "from google.colab import files\r\n",
        "#kaggle.json 파일 업로드\r\n",
        "files.upload()"
      ],
      "execution_count": null,
      "outputs": [
        {
          "output_type": "stream",
          "text": [
            "Requirement already satisfied: kaggle in /usr/local/lib/python3.6/dist-packages (1.5.10)\n",
            "Requirement already satisfied: python-dateutil in /usr/local/lib/python3.6/dist-packages (from kaggle) (2.8.1)\n",
            "Requirement already satisfied: tqdm in /usr/local/lib/python3.6/dist-packages (from kaggle) (4.41.1)\n",
            "Requirement already satisfied: six>=1.10 in /usr/local/lib/python3.6/dist-packages (from kaggle) (1.15.0)\n",
            "Requirement already satisfied: requests in /usr/local/lib/python3.6/dist-packages (from kaggle) (2.23.0)\n",
            "Requirement already satisfied: python-slugify in /usr/local/lib/python3.6/dist-packages (from kaggle) (4.0.1)\n",
            "Requirement already satisfied: certifi in /usr/local/lib/python3.6/dist-packages (from kaggle) (2020.12.5)\n",
            "Requirement already satisfied: urllib3 in /usr/local/lib/python3.6/dist-packages (from kaggle) (1.24.3)\n",
            "Requirement already satisfied: chardet<4,>=3.0.2 in /usr/local/lib/python3.6/dist-packages (from requests->kaggle) (3.0.4)\n",
            "Requirement already satisfied: idna<3,>=2.5 in /usr/local/lib/python3.6/dist-packages (from requests->kaggle) (2.10)\n",
            "Requirement already satisfied: text-unidecode>=1.3 in /usr/local/lib/python3.6/dist-packages (from python-slugify->kaggle) (1.3)\n"
          ],
          "name": "stdout"
        },
        {
          "output_type": "display_data",
          "data": {
            "text/html": [
              "\n",
              "     <input type=\"file\" id=\"files-c6f9668d-2f8f-4e5b-a8b2-8086558d402e\" name=\"files[]\" multiple disabled\n",
              "        style=\"border:none\" />\n",
              "     <output id=\"result-c6f9668d-2f8f-4e5b-a8b2-8086558d402e\">\n",
              "      Upload widget is only available when the cell has been executed in the\n",
              "      current browser session. Please rerun this cell to enable.\n",
              "      </output>\n",
              "      <script src=\"/nbextensions/google.colab/files.js\"></script> "
            ],
            "text/plain": [
              "<IPython.core.display.HTML object>"
            ]
          },
          "metadata": {
            "tags": []
          }
        },
        {
          "output_type": "stream",
          "text": [
            "Saving kaggle.json to kaggle.json\n"
          ],
          "name": "stdout"
        },
        {
          "output_type": "execute_result",
          "data": {
            "text/plain": [
              "{'kaggle.json': b'{\"username\":\"chae52\",\"key\":\"7da198707d3eafd371c445d1f050221a\"}'}"
            ]
          },
          "metadata": {
            "tags": []
          },
          "execution_count": 1
        }
      ]
    },
    {
      "cell_type": "code",
      "metadata": {
        "id": "xCo72vsB8nix"
      },
      "source": [
        "#json 파일을 ~/.kaggle로 이동시키기\r\n",
        "#mkdir=폴더 만들기\r\n",
        "!mkdir -p ~/.kaggle\r\n",
        "#cp=copy\r\n",
        "!cp kaggle.json ~/.kaggle/\r\n",
        "\r\n",
        "#Permission Warning 이 일어나지 않도록\r\n",
        "#chmod:파일을 권한 변경\r\n",
        "#600:read/write...\r\n",
        "!chmod 600 ~/.kaggle/kaggle.json"
      ],
      "execution_count": null,
      "outputs": []
    },
    {
      "cell_type": "code",
      "metadata": {
        "colab": {
          "base_uri": "https://localhost:8080/"
        },
        "id": "vPB1xHPH-Umu",
        "outputId": "ac69943e-b6ea-4eee-94bd-99046eb8d698"
      },
      "source": [
        "!ls -lha kaggle.json\r\n",
        "!kaggle -v"
      ],
      "execution_count": null,
      "outputs": [
        {
          "output_type": "stream",
          "text": [
            "-rw-r--r-- 1 root root 62 Feb 21 11:22 kaggle.json\n",
            "Kaggle API 1.5.4\n"
          ],
          "name": "stdout"
        }
      ]
    },
    {
      "cell_type": "code",
      "metadata": {
        "colab": {
          "base_uri": "https://localhost:8080/"
        },
        "id": "Rl4EKQh59gQ4",
        "outputId": "0b53ad6d-a3dc-4bf9-80fb-2f9d88eddfa9"
      },
      "source": [
        "!pip uninstall -y kaggle\r\n",
        "!pip install --upgrade pip\r\n",
        "!pip install kaggle==1.5.10"
      ],
      "execution_count": null,
      "outputs": [
        {
          "output_type": "stream",
          "text": [
            "Uninstalling kaggle-1.5.10:\n",
            "  Successfully uninstalled kaggle-1.5.10\n",
            "Collecting pip\n",
            "\u001b[?25l  Downloading https://files.pythonhosted.org/packages/fe/ef/60d7ba03b5c442309ef42e7d69959f73aacccd0d86008362a681c4698e83/pip-21.0.1-py3-none-any.whl (1.5MB)\n",
            "\u001b[K     |████████████████████████████████| 1.5MB 9.0MB/s \n",
            "\u001b[?25hInstalling collected packages: pip\n",
            "  Found existing installation: pip 19.3.1\n",
            "    Uninstalling pip-19.3.1:\n",
            "      Successfully uninstalled pip-19.3.1\n",
            "Successfully installed pip-21.0.1\n",
            "Collecting kaggle==1.5.10\n",
            "  Downloading kaggle-1.5.10.tar.gz (59 kB)\n",
            "\u001b[K     |████████████████████████████████| 59 kB 4.1 MB/s \n",
            "\u001b[?25hRequirement already satisfied: six>=1.10 in /usr/local/lib/python3.6/dist-packages (from kaggle==1.5.10) (1.15.0)\n",
            "Requirement already satisfied: certifi in /usr/local/lib/python3.6/dist-packages (from kaggle==1.5.10) (2020.12.5)\n",
            "Requirement already satisfied: python-dateutil in /usr/local/lib/python3.6/dist-packages (from kaggle==1.5.10) (2.8.1)\n",
            "Requirement already satisfied: requests in /usr/local/lib/python3.6/dist-packages (from kaggle==1.5.10) (2.23.0)\n",
            "Requirement already satisfied: tqdm in /usr/local/lib/python3.6/dist-packages (from kaggle==1.5.10) (4.41.1)\n",
            "Requirement already satisfied: python-slugify in /usr/local/lib/python3.6/dist-packages (from kaggle==1.5.10) (4.0.1)\n",
            "Requirement already satisfied: urllib3 in /usr/local/lib/python3.6/dist-packages (from kaggle==1.5.10) (1.24.3)\n",
            "Requirement already satisfied: text-unidecode>=1.3 in /usr/local/lib/python3.6/dist-packages (from python-slugify->kaggle==1.5.10) (1.3)\n",
            "Requirement already satisfied: idna<3,>=2.5 in /usr/local/lib/python3.6/dist-packages (from requests->kaggle==1.5.10) (2.10)\n",
            "Requirement already satisfied: chardet<4,>=3.0.2 in /usr/local/lib/python3.6/dist-packages (from requests->kaggle==1.5.10) (3.0.4)\n",
            "Building wheels for collected packages: kaggle\n",
            "  Building wheel for kaggle (setup.py) ... \u001b[?25l\u001b[?25hdone\n",
            "  Created wheel for kaggle: filename=kaggle-1.5.10-py3-none-any.whl size=73268 sha256=7f5498f7276608a7d4972db7433cde8455bb784c8b16901487c28fd6115cc1ab\n",
            "  Stored in directory: /root/.cache/pip/wheels/1c/dd/dd/c493e6f981182c1411e288c553310f76e212bac3afbdac1294\n",
            "Successfully built kaggle\n",
            "Installing collected packages: kaggle\n",
            "Successfully installed kaggle-1.5.10\n"
          ],
          "name": "stdout"
        }
      ]
    },
    {
      "cell_type": "code",
      "metadata": {
        "colab": {
          "base_uri": "https://localhost:8080/"
        },
        "id": "lZkJH4yr861V",
        "outputId": "6c2bdbf0-764f-42ce-ef90-fd091e5c4bb2"
      },
      "source": [
        "!kaggle competitions download -c 2020ml1re"
      ],
      "execution_count": null,
      "outputs": [
        {
          "output_type": "stream",
          "text": [
            "Downloading 2020ml1re.zip to /content\n",
            "\r  0% 0.00/53.2k [00:00<?, ?B/s]\n",
            "\r100% 53.2k/53.2k [00:00<00:00, 30.2MB/s]\n"
          ],
          "name": "stdout"
        }
      ]
    },
    {
      "cell_type": "code",
      "metadata": {
        "colab": {
          "base_uri": "https://localhost:8080/"
        },
        "id": "GgNag9Yf9AI1",
        "outputId": "cb81fe39-8297-4127-ca9b-4563c9c2f845"
      },
      "source": [
        "!unzip 2020ml1re"
      ],
      "execution_count": null,
      "outputs": [
        {
          "output_type": "stream",
          "text": [
            "Archive:  2020ml1re.zip\n",
            "  inflating: sampleSubmission.csv    \n",
            "  inflating: test.csv                \n",
            "  inflating: train.csv               \n"
          ],
          "name": "stdout"
        }
      ]
    },
    {
      "cell_type": "markdown",
      "metadata": {
        "id": "iX2jsy0AHTLA"
      },
      "source": [
        "#Data load"
      ]
    },
    {
      "cell_type": "code",
      "metadata": {
        "id": "gTr2YDXO-ZuX"
      },
      "source": [
        "import numpy as np\r\n",
        "import torch\r\n",
        "import pandas as pd\r\n",
        "train=pd.read_csv(\"train.csv\")"
      ],
      "execution_count": null,
      "outputs": []
    },
    {
      "cell_type": "code",
      "metadata": {
        "colab": {
          "base_uri": "https://localhost:8080/",
          "height": 438
        },
        "id": "erREssL7AGTg",
        "outputId": "f5a5052d-5219-4775-fcb2-af212be038cc"
      },
      "source": [
        "train"
      ],
      "execution_count": null,
      "outputs": [
        {
          "output_type": "execute_result",
          "data": {
            "text/html": [
              "<div>\n",
              "<style scoped>\n",
              "    .dataframe tbody tr th:only-of-type {\n",
              "        vertical-align: middle;\n",
              "    }\n",
              "\n",
              "    .dataframe tbody tr th {\n",
              "        vertical-align: top;\n",
              "    }\n",
              "\n",
              "    .dataframe thead th {\n",
              "        text-align: right;\n",
              "    }\n",
              "</style>\n",
              "<table border=\"1\" class=\"dataframe\">\n",
              "  <thead>\n",
              "    <tr style=\"text-align: right;\">\n",
              "      <th></th>\n",
              "      <th>diagnosis</th>\n",
              "      <th>radius_mean</th>\n",
              "      <th>texture_mean</th>\n",
              "      <th>perimeter_mean</th>\n",
              "      <th>area_mean</th>\n",
              "      <th>smoothness_mean</th>\n",
              "      <th>compactness_mean</th>\n",
              "      <th>concavity_mean</th>\n",
              "      <th>concave points_mean</th>\n",
              "      <th>symmetry_mean</th>\n",
              "      <th>fractal_dimension_mean</th>\n",
              "      <th>radius_se</th>\n",
              "      <th>texture_se</th>\n",
              "      <th>perimeter_se</th>\n",
              "      <th>area_se</th>\n",
              "      <th>smoothness_se</th>\n",
              "      <th>compactness_se</th>\n",
              "      <th>concavity_se</th>\n",
              "      <th>concave points_se</th>\n",
              "      <th>symmetry_se</th>\n",
              "      <th>fractal_dimension_se</th>\n",
              "      <th>radius_worst</th>\n",
              "      <th>texture_worst</th>\n",
              "      <th>perimeter_worst</th>\n",
              "      <th>area_worst</th>\n",
              "      <th>smoothness_worst</th>\n",
              "      <th>compactness_worst</th>\n",
              "      <th>concavity_worst</th>\n",
              "      <th>concave points_worst</th>\n",
              "      <th>symmetry_worst</th>\n",
              "      <th>fractal_dimension_worst</th>\n",
              "      <th>Unnamed: 32</th>\n",
              "    </tr>\n",
              "  </thead>\n",
              "  <tbody>\n",
              "    <tr>\n",
              "      <th>0</th>\n",
              "      <td>0</td>\n",
              "      <td>8.734</td>\n",
              "      <td>16.84</td>\n",
              "      <td>55.27</td>\n",
              "      <td>234.3</td>\n",
              "      <td>0.10390</td>\n",
              "      <td>0.07428</td>\n",
              "      <td>0.00000</td>\n",
              "      <td>0.00000</td>\n",
              "      <td>0.1985</td>\n",
              "      <td>0.07098</td>\n",
              "      <td>0.5169</td>\n",
              "      <td>2.0790</td>\n",
              "      <td>3.167</td>\n",
              "      <td>28.85</td>\n",
              "      <td>0.015820</td>\n",
              "      <td>0.019660</td>\n",
              "      <td>0.000000</td>\n",
              "      <td>0.000000</td>\n",
              "      <td>0.01865</td>\n",
              "      <td>0.006736</td>\n",
              "      <td>10.17</td>\n",
              "      <td>22.80</td>\n",
              "      <td>64.01</td>\n",
              "      <td>317.0</td>\n",
              "      <td>0.1460</td>\n",
              "      <td>0.1310</td>\n",
              "      <td>0.00000</td>\n",
              "      <td>0.00000</td>\n",
              "      <td>0.2445</td>\n",
              "      <td>0.08865</td>\n",
              "      <td>NaN</td>\n",
              "    </tr>\n",
              "    <tr>\n",
              "      <th>1</th>\n",
              "      <td>0</td>\n",
              "      <td>11.360</td>\n",
              "      <td>17.57</td>\n",
              "      <td>72.49</td>\n",
              "      <td>399.8</td>\n",
              "      <td>0.08858</td>\n",
              "      <td>0.05313</td>\n",
              "      <td>0.02783</td>\n",
              "      <td>0.02100</td>\n",
              "      <td>0.1601</td>\n",
              "      <td>0.05913</td>\n",
              "      <td>0.1916</td>\n",
              "      <td>1.5550</td>\n",
              "      <td>1.359</td>\n",
              "      <td>13.66</td>\n",
              "      <td>0.005391</td>\n",
              "      <td>0.009947</td>\n",
              "      <td>0.011630</td>\n",
              "      <td>0.005872</td>\n",
              "      <td>0.01341</td>\n",
              "      <td>0.001659</td>\n",
              "      <td>13.05</td>\n",
              "      <td>36.32</td>\n",
              "      <td>85.07</td>\n",
              "      <td>521.3</td>\n",
              "      <td>0.1453</td>\n",
              "      <td>0.1622</td>\n",
              "      <td>0.18110</td>\n",
              "      <td>0.08698</td>\n",
              "      <td>0.2973</td>\n",
              "      <td>0.07745</td>\n",
              "      <td>NaN</td>\n",
              "    </tr>\n",
              "    <tr>\n",
              "      <th>2</th>\n",
              "      <td>1</td>\n",
              "      <td>14.950</td>\n",
              "      <td>17.57</td>\n",
              "      <td>96.85</td>\n",
              "      <td>678.1</td>\n",
              "      <td>0.11670</td>\n",
              "      <td>0.13050</td>\n",
              "      <td>0.15390</td>\n",
              "      <td>0.08624</td>\n",
              "      <td>0.1957</td>\n",
              "      <td>0.06216</td>\n",
              "      <td>1.2960</td>\n",
              "      <td>1.4520</td>\n",
              "      <td>8.419</td>\n",
              "      <td>101.90</td>\n",
              "      <td>0.010000</td>\n",
              "      <td>0.034800</td>\n",
              "      <td>0.065770</td>\n",
              "      <td>0.028010</td>\n",
              "      <td>0.05168</td>\n",
              "      <td>0.002887</td>\n",
              "      <td>18.55</td>\n",
              "      <td>21.43</td>\n",
              "      <td>121.40</td>\n",
              "      <td>971.4</td>\n",
              "      <td>0.1411</td>\n",
              "      <td>0.2164</td>\n",
              "      <td>0.33550</td>\n",
              "      <td>0.16670</td>\n",
              "      <td>0.3414</td>\n",
              "      <td>0.07147</td>\n",
              "      <td>NaN</td>\n",
              "    </tr>\n",
              "    <tr>\n",
              "      <th>3</th>\n",
              "      <td>1</td>\n",
              "      <td>17.350</td>\n",
              "      <td>23.06</td>\n",
              "      <td>111.00</td>\n",
              "      <td>933.1</td>\n",
              "      <td>0.08662</td>\n",
              "      <td>0.06290</td>\n",
              "      <td>0.02891</td>\n",
              "      <td>0.02837</td>\n",
              "      <td>0.1564</td>\n",
              "      <td>0.05307</td>\n",
              "      <td>0.4007</td>\n",
              "      <td>1.3170</td>\n",
              "      <td>2.577</td>\n",
              "      <td>44.41</td>\n",
              "      <td>0.005726</td>\n",
              "      <td>0.011060</td>\n",
              "      <td>0.012460</td>\n",
              "      <td>0.007671</td>\n",
              "      <td>0.01411</td>\n",
              "      <td>0.001578</td>\n",
              "      <td>19.85</td>\n",
              "      <td>31.47</td>\n",
              "      <td>128.20</td>\n",
              "      <td>1218.0</td>\n",
              "      <td>0.1240</td>\n",
              "      <td>0.1486</td>\n",
              "      <td>0.12110</td>\n",
              "      <td>0.08235</td>\n",
              "      <td>0.2452</td>\n",
              "      <td>0.06515</td>\n",
              "      <td>NaN</td>\n",
              "    </tr>\n",
              "    <tr>\n",
              "      <th>4</th>\n",
              "      <td>0</td>\n",
              "      <td>11.060</td>\n",
              "      <td>17.12</td>\n",
              "      <td>71.25</td>\n",
              "      <td>366.5</td>\n",
              "      <td>0.11940</td>\n",
              "      <td>0.10710</td>\n",
              "      <td>0.04063</td>\n",
              "      <td>0.04268</td>\n",
              "      <td>0.1954</td>\n",
              "      <td>0.07976</td>\n",
              "      <td>0.1779</td>\n",
              "      <td>1.0300</td>\n",
              "      <td>1.318</td>\n",
              "      <td>12.30</td>\n",
              "      <td>0.012620</td>\n",
              "      <td>0.023480</td>\n",
              "      <td>0.018000</td>\n",
              "      <td>0.012850</td>\n",
              "      <td>0.02220</td>\n",
              "      <td>0.008313</td>\n",
              "      <td>11.69</td>\n",
              "      <td>20.74</td>\n",
              "      <td>76.08</td>\n",
              "      <td>411.1</td>\n",
              "      <td>0.1662</td>\n",
              "      <td>0.2031</td>\n",
              "      <td>0.12560</td>\n",
              "      <td>0.09514</td>\n",
              "      <td>0.2780</td>\n",
              "      <td>0.11680</td>\n",
              "      <td>NaN</td>\n",
              "    </tr>\n",
              "    <tr>\n",
              "      <th>...</th>\n",
              "      <td>...</td>\n",
              "      <td>...</td>\n",
              "      <td>...</td>\n",
              "      <td>...</td>\n",
              "      <td>...</td>\n",
              "      <td>...</td>\n",
              "      <td>...</td>\n",
              "      <td>...</td>\n",
              "      <td>...</td>\n",
              "      <td>...</td>\n",
              "      <td>...</td>\n",
              "      <td>...</td>\n",
              "      <td>...</td>\n",
              "      <td>...</td>\n",
              "      <td>...</td>\n",
              "      <td>...</td>\n",
              "      <td>...</td>\n",
              "      <td>...</td>\n",
              "      <td>...</td>\n",
              "      <td>...</td>\n",
              "      <td>...</td>\n",
              "      <td>...</td>\n",
              "      <td>...</td>\n",
              "      <td>...</td>\n",
              "      <td>...</td>\n",
              "      <td>...</td>\n",
              "      <td>...</td>\n",
              "      <td>...</td>\n",
              "      <td>...</td>\n",
              "      <td>...</td>\n",
              "      <td>...</td>\n",
              "      <td>...</td>\n",
              "    </tr>\n",
              "    <tr>\n",
              "      <th>393</th>\n",
              "      <td>0</td>\n",
              "      <td>13.850</td>\n",
              "      <td>15.18</td>\n",
              "      <td>88.99</td>\n",
              "      <td>587.4</td>\n",
              "      <td>0.09516</td>\n",
              "      <td>0.07688</td>\n",
              "      <td>0.04479</td>\n",
              "      <td>0.03711</td>\n",
              "      <td>0.2110</td>\n",
              "      <td>0.05853</td>\n",
              "      <td>0.2479</td>\n",
              "      <td>0.9195</td>\n",
              "      <td>1.830</td>\n",
              "      <td>19.41</td>\n",
              "      <td>0.004235</td>\n",
              "      <td>0.015410</td>\n",
              "      <td>0.014570</td>\n",
              "      <td>0.010430</td>\n",
              "      <td>0.01528</td>\n",
              "      <td>0.001593</td>\n",
              "      <td>14.98</td>\n",
              "      <td>21.74</td>\n",
              "      <td>98.37</td>\n",
              "      <td>670.0</td>\n",
              "      <td>0.1185</td>\n",
              "      <td>0.1724</td>\n",
              "      <td>0.14560</td>\n",
              "      <td>0.09993</td>\n",
              "      <td>0.2955</td>\n",
              "      <td>0.06912</td>\n",
              "      <td>NaN</td>\n",
              "    </tr>\n",
              "    <tr>\n",
              "      <th>394</th>\n",
              "      <td>1</td>\n",
              "      <td>21.370</td>\n",
              "      <td>15.10</td>\n",
              "      <td>141.30</td>\n",
              "      <td>1386.0</td>\n",
              "      <td>0.10010</td>\n",
              "      <td>0.15150</td>\n",
              "      <td>0.19320</td>\n",
              "      <td>0.12550</td>\n",
              "      <td>0.1973</td>\n",
              "      <td>0.06183</td>\n",
              "      <td>0.3414</td>\n",
              "      <td>1.3090</td>\n",
              "      <td>2.407</td>\n",
              "      <td>39.06</td>\n",
              "      <td>0.004426</td>\n",
              "      <td>0.026750</td>\n",
              "      <td>0.034370</td>\n",
              "      <td>0.013430</td>\n",
              "      <td>0.01675</td>\n",
              "      <td>0.004367</td>\n",
              "      <td>22.69</td>\n",
              "      <td>21.84</td>\n",
              "      <td>152.10</td>\n",
              "      <td>1535.0</td>\n",
              "      <td>0.1192</td>\n",
              "      <td>0.2840</td>\n",
              "      <td>0.40240</td>\n",
              "      <td>0.19660</td>\n",
              "      <td>0.2730</td>\n",
              "      <td>0.08666</td>\n",
              "      <td>NaN</td>\n",
              "    </tr>\n",
              "    <tr>\n",
              "      <th>395</th>\n",
              "      <td>0</td>\n",
              "      <td>12.470</td>\n",
              "      <td>18.60</td>\n",
              "      <td>81.09</td>\n",
              "      <td>481.9</td>\n",
              "      <td>0.09965</td>\n",
              "      <td>0.10580</td>\n",
              "      <td>0.08005</td>\n",
              "      <td>0.03821</td>\n",
              "      <td>0.1925</td>\n",
              "      <td>0.06373</td>\n",
              "      <td>0.3961</td>\n",
              "      <td>1.0440</td>\n",
              "      <td>2.497</td>\n",
              "      <td>30.29</td>\n",
              "      <td>0.006953</td>\n",
              "      <td>0.019110</td>\n",
              "      <td>0.027010</td>\n",
              "      <td>0.010370</td>\n",
              "      <td>0.01782</td>\n",
              "      <td>0.003586</td>\n",
              "      <td>14.97</td>\n",
              "      <td>24.64</td>\n",
              "      <td>96.05</td>\n",
              "      <td>677.9</td>\n",
              "      <td>0.1426</td>\n",
              "      <td>0.2378</td>\n",
              "      <td>0.26710</td>\n",
              "      <td>0.10150</td>\n",
              "      <td>0.3014</td>\n",
              "      <td>0.08750</td>\n",
              "      <td>NaN</td>\n",
              "    </tr>\n",
              "    <tr>\n",
              "      <th>396</th>\n",
              "      <td>1</td>\n",
              "      <td>18.220</td>\n",
              "      <td>18.70</td>\n",
              "      <td>120.30</td>\n",
              "      <td>1033.0</td>\n",
              "      <td>0.11480</td>\n",
              "      <td>0.14850</td>\n",
              "      <td>0.17720</td>\n",
              "      <td>0.10600</td>\n",
              "      <td>0.2092</td>\n",
              "      <td>0.06310</td>\n",
              "      <td>0.8337</td>\n",
              "      <td>1.5930</td>\n",
              "      <td>4.877</td>\n",
              "      <td>98.81</td>\n",
              "      <td>0.003899</td>\n",
              "      <td>0.029610</td>\n",
              "      <td>0.028170</td>\n",
              "      <td>0.009222</td>\n",
              "      <td>0.02674</td>\n",
              "      <td>0.005126</td>\n",
              "      <td>20.60</td>\n",
              "      <td>24.13</td>\n",
              "      <td>135.10</td>\n",
              "      <td>1321.0</td>\n",
              "      <td>0.1280</td>\n",
              "      <td>0.2297</td>\n",
              "      <td>0.26230</td>\n",
              "      <td>0.13250</td>\n",
              "      <td>0.3021</td>\n",
              "      <td>0.07987</td>\n",
              "      <td>NaN</td>\n",
              "    </tr>\n",
              "    <tr>\n",
              "      <th>397</th>\n",
              "      <td>0</td>\n",
              "      <td>12.720</td>\n",
              "      <td>13.78</td>\n",
              "      <td>81.78</td>\n",
              "      <td>492.1</td>\n",
              "      <td>0.09667</td>\n",
              "      <td>0.08393</td>\n",
              "      <td>0.01288</td>\n",
              "      <td>0.01924</td>\n",
              "      <td>0.1638</td>\n",
              "      <td>0.06100</td>\n",
              "      <td>0.1807</td>\n",
              "      <td>0.6931</td>\n",
              "      <td>1.340</td>\n",
              "      <td>13.38</td>\n",
              "      <td>0.006064</td>\n",
              "      <td>0.011800</td>\n",
              "      <td>0.006564</td>\n",
              "      <td>0.007978</td>\n",
              "      <td>0.01374</td>\n",
              "      <td>0.001392</td>\n",
              "      <td>13.50</td>\n",
              "      <td>17.48</td>\n",
              "      <td>88.54</td>\n",
              "      <td>553.7</td>\n",
              "      <td>0.1298</td>\n",
              "      <td>0.1472</td>\n",
              "      <td>0.05233</td>\n",
              "      <td>0.06343</td>\n",
              "      <td>0.2369</td>\n",
              "      <td>0.06922</td>\n",
              "      <td>NaN</td>\n",
              "    </tr>\n",
              "  </tbody>\n",
              "</table>\n",
              "<p>398 rows × 32 columns</p>\n",
              "</div>"
            ],
            "text/plain": [
              "     diagnosis  radius_mean  ...  fractal_dimension_worst  Unnamed: 32\n",
              "0            0        8.734  ...                  0.08865          NaN\n",
              "1            0       11.360  ...                  0.07745          NaN\n",
              "2            1       14.950  ...                  0.07147          NaN\n",
              "3            1       17.350  ...                  0.06515          NaN\n",
              "4            0       11.060  ...                  0.11680          NaN\n",
              "..         ...          ...  ...                      ...          ...\n",
              "393          0       13.850  ...                  0.06912          NaN\n",
              "394          1       21.370  ...                  0.08666          NaN\n",
              "395          0       12.470  ...                  0.08750          NaN\n",
              "396          1       18.220  ...                  0.07987          NaN\n",
              "397          0       12.720  ...                  0.06922          NaN\n",
              "\n",
              "[398 rows x 32 columns]"
            ]
          },
          "metadata": {
            "tags": []
          },
          "execution_count": 8
        }
      ]
    },
    {
      "cell_type": "code",
      "metadata": {
        "id": "aTnrzQT-Ad2B"
      },
      "source": [
        "y_train=train['diagnosis']"
      ],
      "execution_count": null,
      "outputs": []
    },
    {
      "cell_type": "code",
      "metadata": {
        "colab": {
          "base_uri": "https://localhost:8080/"
        },
        "id": "DgJ2wRlhAw99",
        "outputId": "12535136-1c16-4afc-afe9-6a1ed7d31d82"
      },
      "source": [
        "y_train"
      ],
      "execution_count": null,
      "outputs": [
        {
          "output_type": "execute_result",
          "data": {
            "text/plain": [
              "0      0\n",
              "1      0\n",
              "2      1\n",
              "3      1\n",
              "4      0\n",
              "      ..\n",
              "393    0\n",
              "394    1\n",
              "395    0\n",
              "396    1\n",
              "397    0\n",
              "Name: diagnosis, Length: 398, dtype: int64"
            ]
          },
          "metadata": {
            "tags": []
          },
          "execution_count": 10
        }
      ]
    },
    {
      "cell_type": "code",
      "metadata": {
        "id": "A84RBf82AyC8"
      },
      "source": [
        "x_train=train.drop('diagnosis', axis=1)"
      ],
      "execution_count": null,
      "outputs": []
    },
    {
      "cell_type": "code",
      "metadata": {
        "colab": {
          "base_uri": "https://localhost:8080/",
          "height": 438
        },
        "id": "uo48zjPEA40Z",
        "outputId": "d3289849-112f-458b-f809-1894fa7c3a18"
      },
      "source": [
        "x_train"
      ],
      "execution_count": null,
      "outputs": [
        {
          "output_type": "execute_result",
          "data": {
            "text/html": [
              "<div>\n",
              "<style scoped>\n",
              "    .dataframe tbody tr th:only-of-type {\n",
              "        vertical-align: middle;\n",
              "    }\n",
              "\n",
              "    .dataframe tbody tr th {\n",
              "        vertical-align: top;\n",
              "    }\n",
              "\n",
              "    .dataframe thead th {\n",
              "        text-align: right;\n",
              "    }\n",
              "</style>\n",
              "<table border=\"1\" class=\"dataframe\">\n",
              "  <thead>\n",
              "    <tr style=\"text-align: right;\">\n",
              "      <th></th>\n",
              "      <th>radius_mean</th>\n",
              "      <th>texture_mean</th>\n",
              "      <th>perimeter_mean</th>\n",
              "      <th>area_mean</th>\n",
              "      <th>smoothness_mean</th>\n",
              "      <th>compactness_mean</th>\n",
              "      <th>concavity_mean</th>\n",
              "      <th>concave points_mean</th>\n",
              "      <th>symmetry_mean</th>\n",
              "      <th>fractal_dimension_mean</th>\n",
              "      <th>radius_se</th>\n",
              "      <th>texture_se</th>\n",
              "      <th>perimeter_se</th>\n",
              "      <th>area_se</th>\n",
              "      <th>smoothness_se</th>\n",
              "      <th>compactness_se</th>\n",
              "      <th>concavity_se</th>\n",
              "      <th>concave points_se</th>\n",
              "      <th>symmetry_se</th>\n",
              "      <th>fractal_dimension_se</th>\n",
              "      <th>radius_worst</th>\n",
              "      <th>texture_worst</th>\n",
              "      <th>perimeter_worst</th>\n",
              "      <th>area_worst</th>\n",
              "      <th>smoothness_worst</th>\n",
              "      <th>compactness_worst</th>\n",
              "      <th>concavity_worst</th>\n",
              "      <th>concave points_worst</th>\n",
              "      <th>symmetry_worst</th>\n",
              "      <th>fractal_dimension_worst</th>\n",
              "      <th>Unnamed: 32</th>\n",
              "    </tr>\n",
              "  </thead>\n",
              "  <tbody>\n",
              "    <tr>\n",
              "      <th>0</th>\n",
              "      <td>8.734</td>\n",
              "      <td>16.84</td>\n",
              "      <td>55.27</td>\n",
              "      <td>234.3</td>\n",
              "      <td>0.10390</td>\n",
              "      <td>0.07428</td>\n",
              "      <td>0.00000</td>\n",
              "      <td>0.00000</td>\n",
              "      <td>0.1985</td>\n",
              "      <td>0.07098</td>\n",
              "      <td>0.5169</td>\n",
              "      <td>2.0790</td>\n",
              "      <td>3.167</td>\n",
              "      <td>28.85</td>\n",
              "      <td>0.015820</td>\n",
              "      <td>0.019660</td>\n",
              "      <td>0.000000</td>\n",
              "      <td>0.000000</td>\n",
              "      <td>0.01865</td>\n",
              "      <td>0.006736</td>\n",
              "      <td>10.17</td>\n",
              "      <td>22.80</td>\n",
              "      <td>64.01</td>\n",
              "      <td>317.0</td>\n",
              "      <td>0.1460</td>\n",
              "      <td>0.1310</td>\n",
              "      <td>0.00000</td>\n",
              "      <td>0.00000</td>\n",
              "      <td>0.2445</td>\n",
              "      <td>0.08865</td>\n",
              "      <td>NaN</td>\n",
              "    </tr>\n",
              "    <tr>\n",
              "      <th>1</th>\n",
              "      <td>11.360</td>\n",
              "      <td>17.57</td>\n",
              "      <td>72.49</td>\n",
              "      <td>399.8</td>\n",
              "      <td>0.08858</td>\n",
              "      <td>0.05313</td>\n",
              "      <td>0.02783</td>\n",
              "      <td>0.02100</td>\n",
              "      <td>0.1601</td>\n",
              "      <td>0.05913</td>\n",
              "      <td>0.1916</td>\n",
              "      <td>1.5550</td>\n",
              "      <td>1.359</td>\n",
              "      <td>13.66</td>\n",
              "      <td>0.005391</td>\n",
              "      <td>0.009947</td>\n",
              "      <td>0.011630</td>\n",
              "      <td>0.005872</td>\n",
              "      <td>0.01341</td>\n",
              "      <td>0.001659</td>\n",
              "      <td>13.05</td>\n",
              "      <td>36.32</td>\n",
              "      <td>85.07</td>\n",
              "      <td>521.3</td>\n",
              "      <td>0.1453</td>\n",
              "      <td>0.1622</td>\n",
              "      <td>0.18110</td>\n",
              "      <td>0.08698</td>\n",
              "      <td>0.2973</td>\n",
              "      <td>0.07745</td>\n",
              "      <td>NaN</td>\n",
              "    </tr>\n",
              "    <tr>\n",
              "      <th>2</th>\n",
              "      <td>14.950</td>\n",
              "      <td>17.57</td>\n",
              "      <td>96.85</td>\n",
              "      <td>678.1</td>\n",
              "      <td>0.11670</td>\n",
              "      <td>0.13050</td>\n",
              "      <td>0.15390</td>\n",
              "      <td>0.08624</td>\n",
              "      <td>0.1957</td>\n",
              "      <td>0.06216</td>\n",
              "      <td>1.2960</td>\n",
              "      <td>1.4520</td>\n",
              "      <td>8.419</td>\n",
              "      <td>101.90</td>\n",
              "      <td>0.010000</td>\n",
              "      <td>0.034800</td>\n",
              "      <td>0.065770</td>\n",
              "      <td>0.028010</td>\n",
              "      <td>0.05168</td>\n",
              "      <td>0.002887</td>\n",
              "      <td>18.55</td>\n",
              "      <td>21.43</td>\n",
              "      <td>121.40</td>\n",
              "      <td>971.4</td>\n",
              "      <td>0.1411</td>\n",
              "      <td>0.2164</td>\n",
              "      <td>0.33550</td>\n",
              "      <td>0.16670</td>\n",
              "      <td>0.3414</td>\n",
              "      <td>0.07147</td>\n",
              "      <td>NaN</td>\n",
              "    </tr>\n",
              "    <tr>\n",
              "      <th>3</th>\n",
              "      <td>17.350</td>\n",
              "      <td>23.06</td>\n",
              "      <td>111.00</td>\n",
              "      <td>933.1</td>\n",
              "      <td>0.08662</td>\n",
              "      <td>0.06290</td>\n",
              "      <td>0.02891</td>\n",
              "      <td>0.02837</td>\n",
              "      <td>0.1564</td>\n",
              "      <td>0.05307</td>\n",
              "      <td>0.4007</td>\n",
              "      <td>1.3170</td>\n",
              "      <td>2.577</td>\n",
              "      <td>44.41</td>\n",
              "      <td>0.005726</td>\n",
              "      <td>0.011060</td>\n",
              "      <td>0.012460</td>\n",
              "      <td>0.007671</td>\n",
              "      <td>0.01411</td>\n",
              "      <td>0.001578</td>\n",
              "      <td>19.85</td>\n",
              "      <td>31.47</td>\n",
              "      <td>128.20</td>\n",
              "      <td>1218.0</td>\n",
              "      <td>0.1240</td>\n",
              "      <td>0.1486</td>\n",
              "      <td>0.12110</td>\n",
              "      <td>0.08235</td>\n",
              "      <td>0.2452</td>\n",
              "      <td>0.06515</td>\n",
              "      <td>NaN</td>\n",
              "    </tr>\n",
              "    <tr>\n",
              "      <th>4</th>\n",
              "      <td>11.060</td>\n",
              "      <td>17.12</td>\n",
              "      <td>71.25</td>\n",
              "      <td>366.5</td>\n",
              "      <td>0.11940</td>\n",
              "      <td>0.10710</td>\n",
              "      <td>0.04063</td>\n",
              "      <td>0.04268</td>\n",
              "      <td>0.1954</td>\n",
              "      <td>0.07976</td>\n",
              "      <td>0.1779</td>\n",
              "      <td>1.0300</td>\n",
              "      <td>1.318</td>\n",
              "      <td>12.30</td>\n",
              "      <td>0.012620</td>\n",
              "      <td>0.023480</td>\n",
              "      <td>0.018000</td>\n",
              "      <td>0.012850</td>\n",
              "      <td>0.02220</td>\n",
              "      <td>0.008313</td>\n",
              "      <td>11.69</td>\n",
              "      <td>20.74</td>\n",
              "      <td>76.08</td>\n",
              "      <td>411.1</td>\n",
              "      <td>0.1662</td>\n",
              "      <td>0.2031</td>\n",
              "      <td>0.12560</td>\n",
              "      <td>0.09514</td>\n",
              "      <td>0.2780</td>\n",
              "      <td>0.11680</td>\n",
              "      <td>NaN</td>\n",
              "    </tr>\n",
              "    <tr>\n",
              "      <th>...</th>\n",
              "      <td>...</td>\n",
              "      <td>...</td>\n",
              "      <td>...</td>\n",
              "      <td>...</td>\n",
              "      <td>...</td>\n",
              "      <td>...</td>\n",
              "      <td>...</td>\n",
              "      <td>...</td>\n",
              "      <td>...</td>\n",
              "      <td>...</td>\n",
              "      <td>...</td>\n",
              "      <td>...</td>\n",
              "      <td>...</td>\n",
              "      <td>...</td>\n",
              "      <td>...</td>\n",
              "      <td>...</td>\n",
              "      <td>...</td>\n",
              "      <td>...</td>\n",
              "      <td>...</td>\n",
              "      <td>...</td>\n",
              "      <td>...</td>\n",
              "      <td>...</td>\n",
              "      <td>...</td>\n",
              "      <td>...</td>\n",
              "      <td>...</td>\n",
              "      <td>...</td>\n",
              "      <td>...</td>\n",
              "      <td>...</td>\n",
              "      <td>...</td>\n",
              "      <td>...</td>\n",
              "      <td>...</td>\n",
              "    </tr>\n",
              "    <tr>\n",
              "      <th>393</th>\n",
              "      <td>13.850</td>\n",
              "      <td>15.18</td>\n",
              "      <td>88.99</td>\n",
              "      <td>587.4</td>\n",
              "      <td>0.09516</td>\n",
              "      <td>0.07688</td>\n",
              "      <td>0.04479</td>\n",
              "      <td>0.03711</td>\n",
              "      <td>0.2110</td>\n",
              "      <td>0.05853</td>\n",
              "      <td>0.2479</td>\n",
              "      <td>0.9195</td>\n",
              "      <td>1.830</td>\n",
              "      <td>19.41</td>\n",
              "      <td>0.004235</td>\n",
              "      <td>0.015410</td>\n",
              "      <td>0.014570</td>\n",
              "      <td>0.010430</td>\n",
              "      <td>0.01528</td>\n",
              "      <td>0.001593</td>\n",
              "      <td>14.98</td>\n",
              "      <td>21.74</td>\n",
              "      <td>98.37</td>\n",
              "      <td>670.0</td>\n",
              "      <td>0.1185</td>\n",
              "      <td>0.1724</td>\n",
              "      <td>0.14560</td>\n",
              "      <td>0.09993</td>\n",
              "      <td>0.2955</td>\n",
              "      <td>0.06912</td>\n",
              "      <td>NaN</td>\n",
              "    </tr>\n",
              "    <tr>\n",
              "      <th>394</th>\n",
              "      <td>21.370</td>\n",
              "      <td>15.10</td>\n",
              "      <td>141.30</td>\n",
              "      <td>1386.0</td>\n",
              "      <td>0.10010</td>\n",
              "      <td>0.15150</td>\n",
              "      <td>0.19320</td>\n",
              "      <td>0.12550</td>\n",
              "      <td>0.1973</td>\n",
              "      <td>0.06183</td>\n",
              "      <td>0.3414</td>\n",
              "      <td>1.3090</td>\n",
              "      <td>2.407</td>\n",
              "      <td>39.06</td>\n",
              "      <td>0.004426</td>\n",
              "      <td>0.026750</td>\n",
              "      <td>0.034370</td>\n",
              "      <td>0.013430</td>\n",
              "      <td>0.01675</td>\n",
              "      <td>0.004367</td>\n",
              "      <td>22.69</td>\n",
              "      <td>21.84</td>\n",
              "      <td>152.10</td>\n",
              "      <td>1535.0</td>\n",
              "      <td>0.1192</td>\n",
              "      <td>0.2840</td>\n",
              "      <td>0.40240</td>\n",
              "      <td>0.19660</td>\n",
              "      <td>0.2730</td>\n",
              "      <td>0.08666</td>\n",
              "      <td>NaN</td>\n",
              "    </tr>\n",
              "    <tr>\n",
              "      <th>395</th>\n",
              "      <td>12.470</td>\n",
              "      <td>18.60</td>\n",
              "      <td>81.09</td>\n",
              "      <td>481.9</td>\n",
              "      <td>0.09965</td>\n",
              "      <td>0.10580</td>\n",
              "      <td>0.08005</td>\n",
              "      <td>0.03821</td>\n",
              "      <td>0.1925</td>\n",
              "      <td>0.06373</td>\n",
              "      <td>0.3961</td>\n",
              "      <td>1.0440</td>\n",
              "      <td>2.497</td>\n",
              "      <td>30.29</td>\n",
              "      <td>0.006953</td>\n",
              "      <td>0.019110</td>\n",
              "      <td>0.027010</td>\n",
              "      <td>0.010370</td>\n",
              "      <td>0.01782</td>\n",
              "      <td>0.003586</td>\n",
              "      <td>14.97</td>\n",
              "      <td>24.64</td>\n",
              "      <td>96.05</td>\n",
              "      <td>677.9</td>\n",
              "      <td>0.1426</td>\n",
              "      <td>0.2378</td>\n",
              "      <td>0.26710</td>\n",
              "      <td>0.10150</td>\n",
              "      <td>0.3014</td>\n",
              "      <td>0.08750</td>\n",
              "      <td>NaN</td>\n",
              "    </tr>\n",
              "    <tr>\n",
              "      <th>396</th>\n",
              "      <td>18.220</td>\n",
              "      <td>18.70</td>\n",
              "      <td>120.30</td>\n",
              "      <td>1033.0</td>\n",
              "      <td>0.11480</td>\n",
              "      <td>0.14850</td>\n",
              "      <td>0.17720</td>\n",
              "      <td>0.10600</td>\n",
              "      <td>0.2092</td>\n",
              "      <td>0.06310</td>\n",
              "      <td>0.8337</td>\n",
              "      <td>1.5930</td>\n",
              "      <td>4.877</td>\n",
              "      <td>98.81</td>\n",
              "      <td>0.003899</td>\n",
              "      <td>0.029610</td>\n",
              "      <td>0.028170</td>\n",
              "      <td>0.009222</td>\n",
              "      <td>0.02674</td>\n",
              "      <td>0.005126</td>\n",
              "      <td>20.60</td>\n",
              "      <td>24.13</td>\n",
              "      <td>135.10</td>\n",
              "      <td>1321.0</td>\n",
              "      <td>0.1280</td>\n",
              "      <td>0.2297</td>\n",
              "      <td>0.26230</td>\n",
              "      <td>0.13250</td>\n",
              "      <td>0.3021</td>\n",
              "      <td>0.07987</td>\n",
              "      <td>NaN</td>\n",
              "    </tr>\n",
              "    <tr>\n",
              "      <th>397</th>\n",
              "      <td>12.720</td>\n",
              "      <td>13.78</td>\n",
              "      <td>81.78</td>\n",
              "      <td>492.1</td>\n",
              "      <td>0.09667</td>\n",
              "      <td>0.08393</td>\n",
              "      <td>0.01288</td>\n",
              "      <td>0.01924</td>\n",
              "      <td>0.1638</td>\n",
              "      <td>0.06100</td>\n",
              "      <td>0.1807</td>\n",
              "      <td>0.6931</td>\n",
              "      <td>1.340</td>\n",
              "      <td>13.38</td>\n",
              "      <td>0.006064</td>\n",
              "      <td>0.011800</td>\n",
              "      <td>0.006564</td>\n",
              "      <td>0.007978</td>\n",
              "      <td>0.01374</td>\n",
              "      <td>0.001392</td>\n",
              "      <td>13.50</td>\n",
              "      <td>17.48</td>\n",
              "      <td>88.54</td>\n",
              "      <td>553.7</td>\n",
              "      <td>0.1298</td>\n",
              "      <td>0.1472</td>\n",
              "      <td>0.05233</td>\n",
              "      <td>0.06343</td>\n",
              "      <td>0.2369</td>\n",
              "      <td>0.06922</td>\n",
              "      <td>NaN</td>\n",
              "    </tr>\n",
              "  </tbody>\n",
              "</table>\n",
              "<p>398 rows × 31 columns</p>\n",
              "</div>"
            ],
            "text/plain": [
              "     radius_mean  texture_mean  ...  fractal_dimension_worst  Unnamed: 32\n",
              "0          8.734         16.84  ...                  0.08865          NaN\n",
              "1         11.360         17.57  ...                  0.07745          NaN\n",
              "2         14.950         17.57  ...                  0.07147          NaN\n",
              "3         17.350         23.06  ...                  0.06515          NaN\n",
              "4         11.060         17.12  ...                  0.11680          NaN\n",
              "..           ...           ...  ...                      ...          ...\n",
              "393       13.850         15.18  ...                  0.06912          NaN\n",
              "394       21.370         15.10  ...                  0.08666          NaN\n",
              "395       12.470         18.60  ...                  0.08750          NaN\n",
              "396       18.220         18.70  ...                  0.07987          NaN\n",
              "397       12.720         13.78  ...                  0.06922          NaN\n",
              "\n",
              "[398 rows x 31 columns]"
            ]
          },
          "metadata": {
            "tags": []
          },
          "execution_count": 12
        }
      ]
    },
    {
      "cell_type": "code",
      "metadata": {
        "colab": {
          "base_uri": "https://localhost:8080/"
        },
        "id": "Jo72MKtgBlWz",
        "outputId": "75ba8b2b-b958-4552-9aa6-b5cba64e19de"
      },
      "source": [
        "x_train.shape"
      ],
      "execution_count": null,
      "outputs": [
        {
          "output_type": "execute_result",
          "data": {
            "text/plain": [
              "(398, 31)"
            ]
          },
          "metadata": {
            "tags": []
          },
          "execution_count": 13
        }
      ]
    },
    {
      "cell_type": "code",
      "metadata": {
        "id": "QE18oik7BpjM"
      },
      "source": [
        "x_train=x_train.drop(train.columns[31], axis=1)"
      ],
      "execution_count": null,
      "outputs": []
    },
    {
      "cell_type": "code",
      "metadata": {
        "colab": {
          "base_uri": "https://localhost:8080/"
        },
        "id": "qxI8GD1EB1nc",
        "outputId": "270b332e-1a6c-4a00-86a1-47eb9f53c61a"
      },
      "source": [
        "x_train.shape"
      ],
      "execution_count": null,
      "outputs": [
        {
          "output_type": "execute_result",
          "data": {
            "text/plain": [
              "(398, 30)"
            ]
          },
          "metadata": {
            "tags": []
          },
          "execution_count": 15
        }
      ]
    },
    {
      "cell_type": "code",
      "metadata": {
        "colab": {
          "base_uri": "https://localhost:8080/",
          "height": 438
        },
        "id": "N6Zx-OhJDEna",
        "outputId": "6a2a68b8-c9d7-4eef-a931-33e977cbca7a"
      },
      "source": [
        "x_train"
      ],
      "execution_count": null,
      "outputs": [
        {
          "output_type": "execute_result",
          "data": {
            "text/html": [
              "<div>\n",
              "<style scoped>\n",
              "    .dataframe tbody tr th:only-of-type {\n",
              "        vertical-align: middle;\n",
              "    }\n",
              "\n",
              "    .dataframe tbody tr th {\n",
              "        vertical-align: top;\n",
              "    }\n",
              "\n",
              "    .dataframe thead th {\n",
              "        text-align: right;\n",
              "    }\n",
              "</style>\n",
              "<table border=\"1\" class=\"dataframe\">\n",
              "  <thead>\n",
              "    <tr style=\"text-align: right;\">\n",
              "      <th></th>\n",
              "      <th>radius_mean</th>\n",
              "      <th>texture_mean</th>\n",
              "      <th>perimeter_mean</th>\n",
              "      <th>area_mean</th>\n",
              "      <th>smoothness_mean</th>\n",
              "      <th>compactness_mean</th>\n",
              "      <th>concavity_mean</th>\n",
              "      <th>concave points_mean</th>\n",
              "      <th>symmetry_mean</th>\n",
              "      <th>fractal_dimension_mean</th>\n",
              "      <th>radius_se</th>\n",
              "      <th>texture_se</th>\n",
              "      <th>perimeter_se</th>\n",
              "      <th>area_se</th>\n",
              "      <th>smoothness_se</th>\n",
              "      <th>compactness_se</th>\n",
              "      <th>concavity_se</th>\n",
              "      <th>concave points_se</th>\n",
              "      <th>symmetry_se</th>\n",
              "      <th>fractal_dimension_se</th>\n",
              "      <th>radius_worst</th>\n",
              "      <th>texture_worst</th>\n",
              "      <th>perimeter_worst</th>\n",
              "      <th>area_worst</th>\n",
              "      <th>smoothness_worst</th>\n",
              "      <th>compactness_worst</th>\n",
              "      <th>concavity_worst</th>\n",
              "      <th>concave points_worst</th>\n",
              "      <th>symmetry_worst</th>\n",
              "      <th>fractal_dimension_worst</th>\n",
              "    </tr>\n",
              "  </thead>\n",
              "  <tbody>\n",
              "    <tr>\n",
              "      <th>0</th>\n",
              "      <td>8.734</td>\n",
              "      <td>16.84</td>\n",
              "      <td>55.27</td>\n",
              "      <td>234.3</td>\n",
              "      <td>0.10390</td>\n",
              "      <td>0.07428</td>\n",
              "      <td>0.00000</td>\n",
              "      <td>0.00000</td>\n",
              "      <td>0.1985</td>\n",
              "      <td>0.07098</td>\n",
              "      <td>0.5169</td>\n",
              "      <td>2.0790</td>\n",
              "      <td>3.167</td>\n",
              "      <td>28.85</td>\n",
              "      <td>0.015820</td>\n",
              "      <td>0.019660</td>\n",
              "      <td>0.000000</td>\n",
              "      <td>0.000000</td>\n",
              "      <td>0.01865</td>\n",
              "      <td>0.006736</td>\n",
              "      <td>10.17</td>\n",
              "      <td>22.80</td>\n",
              "      <td>64.01</td>\n",
              "      <td>317.0</td>\n",
              "      <td>0.1460</td>\n",
              "      <td>0.1310</td>\n",
              "      <td>0.00000</td>\n",
              "      <td>0.00000</td>\n",
              "      <td>0.2445</td>\n",
              "      <td>0.08865</td>\n",
              "    </tr>\n",
              "    <tr>\n",
              "      <th>1</th>\n",
              "      <td>11.360</td>\n",
              "      <td>17.57</td>\n",
              "      <td>72.49</td>\n",
              "      <td>399.8</td>\n",
              "      <td>0.08858</td>\n",
              "      <td>0.05313</td>\n",
              "      <td>0.02783</td>\n",
              "      <td>0.02100</td>\n",
              "      <td>0.1601</td>\n",
              "      <td>0.05913</td>\n",
              "      <td>0.1916</td>\n",
              "      <td>1.5550</td>\n",
              "      <td>1.359</td>\n",
              "      <td>13.66</td>\n",
              "      <td>0.005391</td>\n",
              "      <td>0.009947</td>\n",
              "      <td>0.011630</td>\n",
              "      <td>0.005872</td>\n",
              "      <td>0.01341</td>\n",
              "      <td>0.001659</td>\n",
              "      <td>13.05</td>\n",
              "      <td>36.32</td>\n",
              "      <td>85.07</td>\n",
              "      <td>521.3</td>\n",
              "      <td>0.1453</td>\n",
              "      <td>0.1622</td>\n",
              "      <td>0.18110</td>\n",
              "      <td>0.08698</td>\n",
              "      <td>0.2973</td>\n",
              "      <td>0.07745</td>\n",
              "    </tr>\n",
              "    <tr>\n",
              "      <th>2</th>\n",
              "      <td>14.950</td>\n",
              "      <td>17.57</td>\n",
              "      <td>96.85</td>\n",
              "      <td>678.1</td>\n",
              "      <td>0.11670</td>\n",
              "      <td>0.13050</td>\n",
              "      <td>0.15390</td>\n",
              "      <td>0.08624</td>\n",
              "      <td>0.1957</td>\n",
              "      <td>0.06216</td>\n",
              "      <td>1.2960</td>\n",
              "      <td>1.4520</td>\n",
              "      <td>8.419</td>\n",
              "      <td>101.90</td>\n",
              "      <td>0.010000</td>\n",
              "      <td>0.034800</td>\n",
              "      <td>0.065770</td>\n",
              "      <td>0.028010</td>\n",
              "      <td>0.05168</td>\n",
              "      <td>0.002887</td>\n",
              "      <td>18.55</td>\n",
              "      <td>21.43</td>\n",
              "      <td>121.40</td>\n",
              "      <td>971.4</td>\n",
              "      <td>0.1411</td>\n",
              "      <td>0.2164</td>\n",
              "      <td>0.33550</td>\n",
              "      <td>0.16670</td>\n",
              "      <td>0.3414</td>\n",
              "      <td>0.07147</td>\n",
              "    </tr>\n",
              "    <tr>\n",
              "      <th>3</th>\n",
              "      <td>17.350</td>\n",
              "      <td>23.06</td>\n",
              "      <td>111.00</td>\n",
              "      <td>933.1</td>\n",
              "      <td>0.08662</td>\n",
              "      <td>0.06290</td>\n",
              "      <td>0.02891</td>\n",
              "      <td>0.02837</td>\n",
              "      <td>0.1564</td>\n",
              "      <td>0.05307</td>\n",
              "      <td>0.4007</td>\n",
              "      <td>1.3170</td>\n",
              "      <td>2.577</td>\n",
              "      <td>44.41</td>\n",
              "      <td>0.005726</td>\n",
              "      <td>0.011060</td>\n",
              "      <td>0.012460</td>\n",
              "      <td>0.007671</td>\n",
              "      <td>0.01411</td>\n",
              "      <td>0.001578</td>\n",
              "      <td>19.85</td>\n",
              "      <td>31.47</td>\n",
              "      <td>128.20</td>\n",
              "      <td>1218.0</td>\n",
              "      <td>0.1240</td>\n",
              "      <td>0.1486</td>\n",
              "      <td>0.12110</td>\n",
              "      <td>0.08235</td>\n",
              "      <td>0.2452</td>\n",
              "      <td>0.06515</td>\n",
              "    </tr>\n",
              "    <tr>\n",
              "      <th>4</th>\n",
              "      <td>11.060</td>\n",
              "      <td>17.12</td>\n",
              "      <td>71.25</td>\n",
              "      <td>366.5</td>\n",
              "      <td>0.11940</td>\n",
              "      <td>0.10710</td>\n",
              "      <td>0.04063</td>\n",
              "      <td>0.04268</td>\n",
              "      <td>0.1954</td>\n",
              "      <td>0.07976</td>\n",
              "      <td>0.1779</td>\n",
              "      <td>1.0300</td>\n",
              "      <td>1.318</td>\n",
              "      <td>12.30</td>\n",
              "      <td>0.012620</td>\n",
              "      <td>0.023480</td>\n",
              "      <td>0.018000</td>\n",
              "      <td>0.012850</td>\n",
              "      <td>0.02220</td>\n",
              "      <td>0.008313</td>\n",
              "      <td>11.69</td>\n",
              "      <td>20.74</td>\n",
              "      <td>76.08</td>\n",
              "      <td>411.1</td>\n",
              "      <td>0.1662</td>\n",
              "      <td>0.2031</td>\n",
              "      <td>0.12560</td>\n",
              "      <td>0.09514</td>\n",
              "      <td>0.2780</td>\n",
              "      <td>0.11680</td>\n",
              "    </tr>\n",
              "    <tr>\n",
              "      <th>...</th>\n",
              "      <td>...</td>\n",
              "      <td>...</td>\n",
              "      <td>...</td>\n",
              "      <td>...</td>\n",
              "      <td>...</td>\n",
              "      <td>...</td>\n",
              "      <td>...</td>\n",
              "      <td>...</td>\n",
              "      <td>...</td>\n",
              "      <td>...</td>\n",
              "      <td>...</td>\n",
              "      <td>...</td>\n",
              "      <td>...</td>\n",
              "      <td>...</td>\n",
              "      <td>...</td>\n",
              "      <td>...</td>\n",
              "      <td>...</td>\n",
              "      <td>...</td>\n",
              "      <td>...</td>\n",
              "      <td>...</td>\n",
              "      <td>...</td>\n",
              "      <td>...</td>\n",
              "      <td>...</td>\n",
              "      <td>...</td>\n",
              "      <td>...</td>\n",
              "      <td>...</td>\n",
              "      <td>...</td>\n",
              "      <td>...</td>\n",
              "      <td>...</td>\n",
              "      <td>...</td>\n",
              "    </tr>\n",
              "    <tr>\n",
              "      <th>393</th>\n",
              "      <td>13.850</td>\n",
              "      <td>15.18</td>\n",
              "      <td>88.99</td>\n",
              "      <td>587.4</td>\n",
              "      <td>0.09516</td>\n",
              "      <td>0.07688</td>\n",
              "      <td>0.04479</td>\n",
              "      <td>0.03711</td>\n",
              "      <td>0.2110</td>\n",
              "      <td>0.05853</td>\n",
              "      <td>0.2479</td>\n",
              "      <td>0.9195</td>\n",
              "      <td>1.830</td>\n",
              "      <td>19.41</td>\n",
              "      <td>0.004235</td>\n",
              "      <td>0.015410</td>\n",
              "      <td>0.014570</td>\n",
              "      <td>0.010430</td>\n",
              "      <td>0.01528</td>\n",
              "      <td>0.001593</td>\n",
              "      <td>14.98</td>\n",
              "      <td>21.74</td>\n",
              "      <td>98.37</td>\n",
              "      <td>670.0</td>\n",
              "      <td>0.1185</td>\n",
              "      <td>0.1724</td>\n",
              "      <td>0.14560</td>\n",
              "      <td>0.09993</td>\n",
              "      <td>0.2955</td>\n",
              "      <td>0.06912</td>\n",
              "    </tr>\n",
              "    <tr>\n",
              "      <th>394</th>\n",
              "      <td>21.370</td>\n",
              "      <td>15.10</td>\n",
              "      <td>141.30</td>\n",
              "      <td>1386.0</td>\n",
              "      <td>0.10010</td>\n",
              "      <td>0.15150</td>\n",
              "      <td>0.19320</td>\n",
              "      <td>0.12550</td>\n",
              "      <td>0.1973</td>\n",
              "      <td>0.06183</td>\n",
              "      <td>0.3414</td>\n",
              "      <td>1.3090</td>\n",
              "      <td>2.407</td>\n",
              "      <td>39.06</td>\n",
              "      <td>0.004426</td>\n",
              "      <td>0.026750</td>\n",
              "      <td>0.034370</td>\n",
              "      <td>0.013430</td>\n",
              "      <td>0.01675</td>\n",
              "      <td>0.004367</td>\n",
              "      <td>22.69</td>\n",
              "      <td>21.84</td>\n",
              "      <td>152.10</td>\n",
              "      <td>1535.0</td>\n",
              "      <td>0.1192</td>\n",
              "      <td>0.2840</td>\n",
              "      <td>0.40240</td>\n",
              "      <td>0.19660</td>\n",
              "      <td>0.2730</td>\n",
              "      <td>0.08666</td>\n",
              "    </tr>\n",
              "    <tr>\n",
              "      <th>395</th>\n",
              "      <td>12.470</td>\n",
              "      <td>18.60</td>\n",
              "      <td>81.09</td>\n",
              "      <td>481.9</td>\n",
              "      <td>0.09965</td>\n",
              "      <td>0.10580</td>\n",
              "      <td>0.08005</td>\n",
              "      <td>0.03821</td>\n",
              "      <td>0.1925</td>\n",
              "      <td>0.06373</td>\n",
              "      <td>0.3961</td>\n",
              "      <td>1.0440</td>\n",
              "      <td>2.497</td>\n",
              "      <td>30.29</td>\n",
              "      <td>0.006953</td>\n",
              "      <td>0.019110</td>\n",
              "      <td>0.027010</td>\n",
              "      <td>0.010370</td>\n",
              "      <td>0.01782</td>\n",
              "      <td>0.003586</td>\n",
              "      <td>14.97</td>\n",
              "      <td>24.64</td>\n",
              "      <td>96.05</td>\n",
              "      <td>677.9</td>\n",
              "      <td>0.1426</td>\n",
              "      <td>0.2378</td>\n",
              "      <td>0.26710</td>\n",
              "      <td>0.10150</td>\n",
              "      <td>0.3014</td>\n",
              "      <td>0.08750</td>\n",
              "    </tr>\n",
              "    <tr>\n",
              "      <th>396</th>\n",
              "      <td>18.220</td>\n",
              "      <td>18.70</td>\n",
              "      <td>120.30</td>\n",
              "      <td>1033.0</td>\n",
              "      <td>0.11480</td>\n",
              "      <td>0.14850</td>\n",
              "      <td>0.17720</td>\n",
              "      <td>0.10600</td>\n",
              "      <td>0.2092</td>\n",
              "      <td>0.06310</td>\n",
              "      <td>0.8337</td>\n",
              "      <td>1.5930</td>\n",
              "      <td>4.877</td>\n",
              "      <td>98.81</td>\n",
              "      <td>0.003899</td>\n",
              "      <td>0.029610</td>\n",
              "      <td>0.028170</td>\n",
              "      <td>0.009222</td>\n",
              "      <td>0.02674</td>\n",
              "      <td>0.005126</td>\n",
              "      <td>20.60</td>\n",
              "      <td>24.13</td>\n",
              "      <td>135.10</td>\n",
              "      <td>1321.0</td>\n",
              "      <td>0.1280</td>\n",
              "      <td>0.2297</td>\n",
              "      <td>0.26230</td>\n",
              "      <td>0.13250</td>\n",
              "      <td>0.3021</td>\n",
              "      <td>0.07987</td>\n",
              "    </tr>\n",
              "    <tr>\n",
              "      <th>397</th>\n",
              "      <td>12.720</td>\n",
              "      <td>13.78</td>\n",
              "      <td>81.78</td>\n",
              "      <td>492.1</td>\n",
              "      <td>0.09667</td>\n",
              "      <td>0.08393</td>\n",
              "      <td>0.01288</td>\n",
              "      <td>0.01924</td>\n",
              "      <td>0.1638</td>\n",
              "      <td>0.06100</td>\n",
              "      <td>0.1807</td>\n",
              "      <td>0.6931</td>\n",
              "      <td>1.340</td>\n",
              "      <td>13.38</td>\n",
              "      <td>0.006064</td>\n",
              "      <td>0.011800</td>\n",
              "      <td>0.006564</td>\n",
              "      <td>0.007978</td>\n",
              "      <td>0.01374</td>\n",
              "      <td>0.001392</td>\n",
              "      <td>13.50</td>\n",
              "      <td>17.48</td>\n",
              "      <td>88.54</td>\n",
              "      <td>553.7</td>\n",
              "      <td>0.1298</td>\n",
              "      <td>0.1472</td>\n",
              "      <td>0.05233</td>\n",
              "      <td>0.06343</td>\n",
              "      <td>0.2369</td>\n",
              "      <td>0.06922</td>\n",
              "    </tr>\n",
              "  </tbody>\n",
              "</table>\n",
              "<p>398 rows × 30 columns</p>\n",
              "</div>"
            ],
            "text/plain": [
              "     radius_mean  texture_mean  ...  symmetry_worst  fractal_dimension_worst\n",
              "0          8.734         16.84  ...          0.2445                  0.08865\n",
              "1         11.360         17.57  ...          0.2973                  0.07745\n",
              "2         14.950         17.57  ...          0.3414                  0.07147\n",
              "3         17.350         23.06  ...          0.2452                  0.06515\n",
              "4         11.060         17.12  ...          0.2780                  0.11680\n",
              "..           ...           ...  ...             ...                      ...\n",
              "393       13.850         15.18  ...          0.2955                  0.06912\n",
              "394       21.370         15.10  ...          0.2730                  0.08666\n",
              "395       12.470         18.60  ...          0.3014                  0.08750\n",
              "396       18.220         18.70  ...          0.3021                  0.07987\n",
              "397       12.720         13.78  ...          0.2369                  0.06922\n",
              "\n",
              "[398 rows x 30 columns]"
            ]
          },
          "metadata": {
            "tags": []
          },
          "execution_count": 16
        }
      ]
    },
    {
      "cell_type": "code",
      "metadata": {
        "id": "XP0kYt2DDJWx"
      },
      "source": [
        "test=pd.read_csv(\"test.csv\")"
      ],
      "execution_count": null,
      "outputs": []
    },
    {
      "cell_type": "code",
      "metadata": {
        "colab": {
          "base_uri": "https://localhost:8080/",
          "height": 438
        },
        "id": "nOXvEmk6DWFI",
        "outputId": "2fd710ff-daeb-42da-9043-0f089f429afd"
      },
      "source": [
        "test"
      ],
      "execution_count": null,
      "outputs": [
        {
          "output_type": "execute_result",
          "data": {
            "text/html": [
              "<div>\n",
              "<style scoped>\n",
              "    .dataframe tbody tr th:only-of-type {\n",
              "        vertical-align: middle;\n",
              "    }\n",
              "\n",
              "    .dataframe tbody tr th {\n",
              "        vertical-align: top;\n",
              "    }\n",
              "\n",
              "    .dataframe thead th {\n",
              "        text-align: right;\n",
              "    }\n",
              "</style>\n",
              "<table border=\"1\" class=\"dataframe\">\n",
              "  <thead>\n",
              "    <tr style=\"text-align: right;\">\n",
              "      <th></th>\n",
              "      <th>radius_mean</th>\n",
              "      <th>texture_mean</th>\n",
              "      <th>perimeter_mean</th>\n",
              "      <th>area_mean</th>\n",
              "      <th>smoothness_mean</th>\n",
              "      <th>compactness_mean</th>\n",
              "      <th>concavity_mean</th>\n",
              "      <th>concave points_mean</th>\n",
              "      <th>symmetry_mean</th>\n",
              "      <th>fractal_dimension_mean</th>\n",
              "      <th>radius_se</th>\n",
              "      <th>texture_se</th>\n",
              "      <th>perimeter_se</th>\n",
              "      <th>area_se</th>\n",
              "      <th>smoothness_se</th>\n",
              "      <th>compactness_se</th>\n",
              "      <th>concavity_se</th>\n",
              "      <th>concave points_se</th>\n",
              "      <th>symmetry_se</th>\n",
              "      <th>fractal_dimension_se</th>\n",
              "      <th>radius_worst</th>\n",
              "      <th>texture_worst</th>\n",
              "      <th>perimeter_worst</th>\n",
              "      <th>area_worst</th>\n",
              "      <th>smoothness_worst</th>\n",
              "      <th>compactness_worst</th>\n",
              "      <th>concavity_worst</th>\n",
              "      <th>concave points_worst</th>\n",
              "      <th>symmetry_worst</th>\n",
              "      <th>fractal_dimension_worst</th>\n",
              "      <th>Unnamed: 32</th>\n",
              "    </tr>\n",
              "  </thead>\n",
              "  <tbody>\n",
              "    <tr>\n",
              "      <th>0</th>\n",
              "      <td>11.670</td>\n",
              "      <td>20.02</td>\n",
              "      <td>75.21</td>\n",
              "      <td>416.2</td>\n",
              "      <td>0.10160</td>\n",
              "      <td>0.09453</td>\n",
              "      <td>0.04200</td>\n",
              "      <td>0.021570</td>\n",
              "      <td>0.1859</td>\n",
              "      <td>0.06461</td>\n",
              "      <td>0.2067</td>\n",
              "      <td>0.8745</td>\n",
              "      <td>1.393</td>\n",
              "      <td>15.34</td>\n",
              "      <td>0.005251</td>\n",
              "      <td>0.017270</td>\n",
              "      <td>0.01840</td>\n",
              "      <td>0.005298</td>\n",
              "      <td>0.01449</td>\n",
              "      <td>0.002671</td>\n",
              "      <td>13.35</td>\n",
              "      <td>28.81</td>\n",
              "      <td>87.00</td>\n",
              "      <td>550.6</td>\n",
              "      <td>0.15500</td>\n",
              "      <td>0.29640</td>\n",
              "      <td>0.275800</td>\n",
              "      <td>0.081200</td>\n",
              "      <td>0.3206</td>\n",
              "      <td>0.08950</td>\n",
              "      <td>NaN</td>\n",
              "    </tr>\n",
              "    <tr>\n",
              "      <th>1</th>\n",
              "      <td>10.800</td>\n",
              "      <td>9.71</td>\n",
              "      <td>68.77</td>\n",
              "      <td>357.6</td>\n",
              "      <td>0.09594</td>\n",
              "      <td>0.05736</td>\n",
              "      <td>0.02531</td>\n",
              "      <td>0.016980</td>\n",
              "      <td>0.1381</td>\n",
              "      <td>0.06400</td>\n",
              "      <td>0.1728</td>\n",
              "      <td>0.4064</td>\n",
              "      <td>1.126</td>\n",
              "      <td>11.48</td>\n",
              "      <td>0.007809</td>\n",
              "      <td>0.009816</td>\n",
              "      <td>0.01099</td>\n",
              "      <td>0.005344</td>\n",
              "      <td>0.01254</td>\n",
              "      <td>0.002120</td>\n",
              "      <td>11.60</td>\n",
              "      <td>12.02</td>\n",
              "      <td>73.66</td>\n",
              "      <td>414.0</td>\n",
              "      <td>0.14360</td>\n",
              "      <td>0.12570</td>\n",
              "      <td>0.104700</td>\n",
              "      <td>0.046030</td>\n",
              "      <td>0.2090</td>\n",
              "      <td>0.07699</td>\n",
              "      <td>NaN</td>\n",
              "    </tr>\n",
              "    <tr>\n",
              "      <th>2</th>\n",
              "      <td>12.450</td>\n",
              "      <td>16.41</td>\n",
              "      <td>82.85</td>\n",
              "      <td>476.7</td>\n",
              "      <td>0.09514</td>\n",
              "      <td>0.15110</td>\n",
              "      <td>0.15440</td>\n",
              "      <td>0.048460</td>\n",
              "      <td>0.2082</td>\n",
              "      <td>0.07325</td>\n",
              "      <td>0.3921</td>\n",
              "      <td>1.2070</td>\n",
              "      <td>5.004</td>\n",
              "      <td>30.19</td>\n",
              "      <td>0.007234</td>\n",
              "      <td>0.074710</td>\n",
              "      <td>0.11140</td>\n",
              "      <td>0.027210</td>\n",
              "      <td>0.03232</td>\n",
              "      <td>0.009627</td>\n",
              "      <td>13.78</td>\n",
              "      <td>21.03</td>\n",
              "      <td>97.82</td>\n",
              "      <td>580.6</td>\n",
              "      <td>0.11750</td>\n",
              "      <td>0.40610</td>\n",
              "      <td>0.489600</td>\n",
              "      <td>0.134200</td>\n",
              "      <td>0.3231</td>\n",
              "      <td>0.10340</td>\n",
              "      <td>NaN</td>\n",
              "    </tr>\n",
              "    <tr>\n",
              "      <th>3</th>\n",
              "      <td>9.465</td>\n",
              "      <td>21.01</td>\n",
              "      <td>60.11</td>\n",
              "      <td>269.4</td>\n",
              "      <td>0.10440</td>\n",
              "      <td>0.07773</td>\n",
              "      <td>0.02172</td>\n",
              "      <td>0.015040</td>\n",
              "      <td>0.1717</td>\n",
              "      <td>0.06899</td>\n",
              "      <td>0.2351</td>\n",
              "      <td>2.0110</td>\n",
              "      <td>1.660</td>\n",
              "      <td>14.20</td>\n",
              "      <td>0.010520</td>\n",
              "      <td>0.017550</td>\n",
              "      <td>0.01714</td>\n",
              "      <td>0.009333</td>\n",
              "      <td>0.02279</td>\n",
              "      <td>0.004237</td>\n",
              "      <td>10.41</td>\n",
              "      <td>31.56</td>\n",
              "      <td>67.03</td>\n",
              "      <td>330.7</td>\n",
              "      <td>0.15480</td>\n",
              "      <td>0.16640</td>\n",
              "      <td>0.094120</td>\n",
              "      <td>0.065170</td>\n",
              "      <td>0.2878</td>\n",
              "      <td>0.09211</td>\n",
              "      <td>NaN</td>\n",
              "    </tr>\n",
              "    <tr>\n",
              "      <th>4</th>\n",
              "      <td>13.650</td>\n",
              "      <td>13.16</td>\n",
              "      <td>87.88</td>\n",
              "      <td>568.9</td>\n",
              "      <td>0.09646</td>\n",
              "      <td>0.08711</td>\n",
              "      <td>0.03888</td>\n",
              "      <td>0.025630</td>\n",
              "      <td>0.1360</td>\n",
              "      <td>0.06344</td>\n",
              "      <td>0.2102</td>\n",
              "      <td>0.4336</td>\n",
              "      <td>1.391</td>\n",
              "      <td>17.40</td>\n",
              "      <td>0.004133</td>\n",
              "      <td>0.016950</td>\n",
              "      <td>0.01652</td>\n",
              "      <td>0.006659</td>\n",
              "      <td>0.01371</td>\n",
              "      <td>0.002735</td>\n",
              "      <td>15.34</td>\n",
              "      <td>16.35</td>\n",
              "      <td>99.71</td>\n",
              "      <td>706.2</td>\n",
              "      <td>0.13110</td>\n",
              "      <td>0.24740</td>\n",
              "      <td>0.175900</td>\n",
              "      <td>0.080560</td>\n",
              "      <td>0.2380</td>\n",
              "      <td>0.08718</td>\n",
              "      <td>NaN</td>\n",
              "    </tr>\n",
              "    <tr>\n",
              "      <th>...</th>\n",
              "      <td>...</td>\n",
              "      <td>...</td>\n",
              "      <td>...</td>\n",
              "      <td>...</td>\n",
              "      <td>...</td>\n",
              "      <td>...</td>\n",
              "      <td>...</td>\n",
              "      <td>...</td>\n",
              "      <td>...</td>\n",
              "      <td>...</td>\n",
              "      <td>...</td>\n",
              "      <td>...</td>\n",
              "      <td>...</td>\n",
              "      <td>...</td>\n",
              "      <td>...</td>\n",
              "      <td>...</td>\n",
              "      <td>...</td>\n",
              "      <td>...</td>\n",
              "      <td>...</td>\n",
              "      <td>...</td>\n",
              "      <td>...</td>\n",
              "      <td>...</td>\n",
              "      <td>...</td>\n",
              "      <td>...</td>\n",
              "      <td>...</td>\n",
              "      <td>...</td>\n",
              "      <td>...</td>\n",
              "      <td>...</td>\n",
              "      <td>...</td>\n",
              "      <td>...</td>\n",
              "      <td>...</td>\n",
              "    </tr>\n",
              "    <tr>\n",
              "      <th>166</th>\n",
              "      <td>11.600</td>\n",
              "      <td>24.49</td>\n",
              "      <td>74.23</td>\n",
              "      <td>417.2</td>\n",
              "      <td>0.07474</td>\n",
              "      <td>0.05688</td>\n",
              "      <td>0.01974</td>\n",
              "      <td>0.013130</td>\n",
              "      <td>0.1935</td>\n",
              "      <td>0.05878</td>\n",
              "      <td>0.2512</td>\n",
              "      <td>1.7860</td>\n",
              "      <td>1.961</td>\n",
              "      <td>18.21</td>\n",
              "      <td>0.006122</td>\n",
              "      <td>0.023370</td>\n",
              "      <td>0.01596</td>\n",
              "      <td>0.006998</td>\n",
              "      <td>0.03194</td>\n",
              "      <td>0.002211</td>\n",
              "      <td>12.44</td>\n",
              "      <td>31.62</td>\n",
              "      <td>81.39</td>\n",
              "      <td>476.5</td>\n",
              "      <td>0.09545</td>\n",
              "      <td>0.13610</td>\n",
              "      <td>0.072390</td>\n",
              "      <td>0.048150</td>\n",
              "      <td>0.3244</td>\n",
              "      <td>0.06745</td>\n",
              "      <td>NaN</td>\n",
              "    </tr>\n",
              "    <tr>\n",
              "      <th>167</th>\n",
              "      <td>14.050</td>\n",
              "      <td>27.15</td>\n",
              "      <td>91.38</td>\n",
              "      <td>600.4</td>\n",
              "      <td>0.09929</td>\n",
              "      <td>0.11260</td>\n",
              "      <td>0.04462</td>\n",
              "      <td>0.043040</td>\n",
              "      <td>0.1537</td>\n",
              "      <td>0.06171</td>\n",
              "      <td>0.3645</td>\n",
              "      <td>1.4920</td>\n",
              "      <td>2.888</td>\n",
              "      <td>29.84</td>\n",
              "      <td>0.007256</td>\n",
              "      <td>0.026780</td>\n",
              "      <td>0.02071</td>\n",
              "      <td>0.016260</td>\n",
              "      <td>0.02080</td>\n",
              "      <td>0.005304</td>\n",
              "      <td>15.30</td>\n",
              "      <td>33.17</td>\n",
              "      <td>100.20</td>\n",
              "      <td>706.7</td>\n",
              "      <td>0.12410</td>\n",
              "      <td>0.22640</td>\n",
              "      <td>0.132600</td>\n",
              "      <td>0.104800</td>\n",
              "      <td>0.2250</td>\n",
              "      <td>0.08321</td>\n",
              "      <td>NaN</td>\n",
              "    </tr>\n",
              "    <tr>\n",
              "      <th>168</th>\n",
              "      <td>12.580</td>\n",
              "      <td>18.40</td>\n",
              "      <td>79.83</td>\n",
              "      <td>489.0</td>\n",
              "      <td>0.08393</td>\n",
              "      <td>0.04216</td>\n",
              "      <td>0.00186</td>\n",
              "      <td>0.002924</td>\n",
              "      <td>0.1697</td>\n",
              "      <td>0.05855</td>\n",
              "      <td>0.2719</td>\n",
              "      <td>1.3500</td>\n",
              "      <td>1.721</td>\n",
              "      <td>22.45</td>\n",
              "      <td>0.006383</td>\n",
              "      <td>0.008008</td>\n",
              "      <td>0.00186</td>\n",
              "      <td>0.002924</td>\n",
              "      <td>0.02571</td>\n",
              "      <td>0.002015</td>\n",
              "      <td>13.50</td>\n",
              "      <td>23.08</td>\n",
              "      <td>85.56</td>\n",
              "      <td>564.1</td>\n",
              "      <td>0.10380</td>\n",
              "      <td>0.06624</td>\n",
              "      <td>0.005579</td>\n",
              "      <td>0.008772</td>\n",
              "      <td>0.2505</td>\n",
              "      <td>0.06431</td>\n",
              "      <td>NaN</td>\n",
              "    </tr>\n",
              "    <tr>\n",
              "      <th>169</th>\n",
              "      <td>12.560</td>\n",
              "      <td>19.07</td>\n",
              "      <td>81.92</td>\n",
              "      <td>485.8</td>\n",
              "      <td>0.08760</td>\n",
              "      <td>0.10380</td>\n",
              "      <td>0.10300</td>\n",
              "      <td>0.043910</td>\n",
              "      <td>0.1533</td>\n",
              "      <td>0.06184</td>\n",
              "      <td>0.3602</td>\n",
              "      <td>1.4780</td>\n",
              "      <td>3.212</td>\n",
              "      <td>27.49</td>\n",
              "      <td>0.009853</td>\n",
              "      <td>0.042350</td>\n",
              "      <td>0.06271</td>\n",
              "      <td>0.019660</td>\n",
              "      <td>0.02639</td>\n",
              "      <td>0.004205</td>\n",
              "      <td>13.37</td>\n",
              "      <td>22.43</td>\n",
              "      <td>89.02</td>\n",
              "      <td>547.4</td>\n",
              "      <td>0.10960</td>\n",
              "      <td>0.20020</td>\n",
              "      <td>0.238800</td>\n",
              "      <td>0.092650</td>\n",
              "      <td>0.2121</td>\n",
              "      <td>0.07188</td>\n",
              "      <td>NaN</td>\n",
              "    </tr>\n",
              "    <tr>\n",
              "      <th>170</th>\n",
              "      <td>16.260</td>\n",
              "      <td>21.88</td>\n",
              "      <td>107.50</td>\n",
              "      <td>826.8</td>\n",
              "      <td>0.11650</td>\n",
              "      <td>0.12830</td>\n",
              "      <td>0.17990</td>\n",
              "      <td>0.079810</td>\n",
              "      <td>0.1869</td>\n",
              "      <td>0.06532</td>\n",
              "      <td>0.5706</td>\n",
              "      <td>1.4570</td>\n",
              "      <td>2.961</td>\n",
              "      <td>57.72</td>\n",
              "      <td>0.010560</td>\n",
              "      <td>0.037560</td>\n",
              "      <td>0.05839</td>\n",
              "      <td>0.011860</td>\n",
              "      <td>0.04022</td>\n",
              "      <td>0.006187</td>\n",
              "      <td>17.73</td>\n",
              "      <td>25.21</td>\n",
              "      <td>113.70</td>\n",
              "      <td>975.2</td>\n",
              "      <td>0.14260</td>\n",
              "      <td>0.21160</td>\n",
              "      <td>0.334400</td>\n",
              "      <td>0.104700</td>\n",
              "      <td>0.2736</td>\n",
              "      <td>0.07953</td>\n",
              "      <td>NaN</td>\n",
              "    </tr>\n",
              "  </tbody>\n",
              "</table>\n",
              "<p>171 rows × 31 columns</p>\n",
              "</div>"
            ],
            "text/plain": [
              "     radius_mean  texture_mean  ...  fractal_dimension_worst  Unnamed: 32\n",
              "0         11.670         20.02  ...                  0.08950          NaN\n",
              "1         10.800          9.71  ...                  0.07699          NaN\n",
              "2         12.450         16.41  ...                  0.10340          NaN\n",
              "3          9.465         21.01  ...                  0.09211          NaN\n",
              "4         13.650         13.16  ...                  0.08718          NaN\n",
              "..           ...           ...  ...                      ...          ...\n",
              "166       11.600         24.49  ...                  0.06745          NaN\n",
              "167       14.050         27.15  ...                  0.08321          NaN\n",
              "168       12.580         18.40  ...                  0.06431          NaN\n",
              "169       12.560         19.07  ...                  0.07188          NaN\n",
              "170       16.260         21.88  ...                  0.07953          NaN\n",
              "\n",
              "[171 rows x 31 columns]"
            ]
          },
          "metadata": {
            "tags": []
          },
          "execution_count": 18
        }
      ]
    },
    {
      "cell_type": "code",
      "metadata": {
        "colab": {
          "base_uri": "https://localhost:8080/"
        },
        "id": "ZXW7T_KiDmUj",
        "outputId": "326cc605-4407-46bb-a18b-d5fe077e4e32"
      },
      "source": [
        "test.shape"
      ],
      "execution_count": null,
      "outputs": [
        {
          "output_type": "execute_result",
          "data": {
            "text/plain": [
              "(171, 31)"
            ]
          },
          "metadata": {
            "tags": []
          },
          "execution_count": 19
        }
      ]
    },
    {
      "cell_type": "code",
      "metadata": {
        "id": "jUFg_gpXDWfi"
      },
      "source": [
        "test=test.drop(test.columns[30],axis=1)"
      ],
      "execution_count": null,
      "outputs": []
    },
    {
      "cell_type": "code",
      "metadata": {
        "colab": {
          "base_uri": "https://localhost:8080/",
          "height": 438
        },
        "id": "CWw0jKT6DflP",
        "outputId": "12c15e9f-4f0f-43dc-d48c-ebe26169b7c5"
      },
      "source": [
        "test"
      ],
      "execution_count": null,
      "outputs": [
        {
          "output_type": "execute_result",
          "data": {
            "text/html": [
              "<div>\n",
              "<style scoped>\n",
              "    .dataframe tbody tr th:only-of-type {\n",
              "        vertical-align: middle;\n",
              "    }\n",
              "\n",
              "    .dataframe tbody tr th {\n",
              "        vertical-align: top;\n",
              "    }\n",
              "\n",
              "    .dataframe thead th {\n",
              "        text-align: right;\n",
              "    }\n",
              "</style>\n",
              "<table border=\"1\" class=\"dataframe\">\n",
              "  <thead>\n",
              "    <tr style=\"text-align: right;\">\n",
              "      <th></th>\n",
              "      <th>radius_mean</th>\n",
              "      <th>texture_mean</th>\n",
              "      <th>perimeter_mean</th>\n",
              "      <th>area_mean</th>\n",
              "      <th>smoothness_mean</th>\n",
              "      <th>compactness_mean</th>\n",
              "      <th>concavity_mean</th>\n",
              "      <th>concave points_mean</th>\n",
              "      <th>symmetry_mean</th>\n",
              "      <th>fractal_dimension_mean</th>\n",
              "      <th>radius_se</th>\n",
              "      <th>texture_se</th>\n",
              "      <th>perimeter_se</th>\n",
              "      <th>area_se</th>\n",
              "      <th>smoothness_se</th>\n",
              "      <th>compactness_se</th>\n",
              "      <th>concavity_se</th>\n",
              "      <th>concave points_se</th>\n",
              "      <th>symmetry_se</th>\n",
              "      <th>fractal_dimension_se</th>\n",
              "      <th>radius_worst</th>\n",
              "      <th>texture_worst</th>\n",
              "      <th>perimeter_worst</th>\n",
              "      <th>area_worst</th>\n",
              "      <th>smoothness_worst</th>\n",
              "      <th>compactness_worst</th>\n",
              "      <th>concavity_worst</th>\n",
              "      <th>concave points_worst</th>\n",
              "      <th>symmetry_worst</th>\n",
              "      <th>fractal_dimension_worst</th>\n",
              "    </tr>\n",
              "  </thead>\n",
              "  <tbody>\n",
              "    <tr>\n",
              "      <th>0</th>\n",
              "      <td>11.670</td>\n",
              "      <td>20.02</td>\n",
              "      <td>75.21</td>\n",
              "      <td>416.2</td>\n",
              "      <td>0.10160</td>\n",
              "      <td>0.09453</td>\n",
              "      <td>0.04200</td>\n",
              "      <td>0.021570</td>\n",
              "      <td>0.1859</td>\n",
              "      <td>0.06461</td>\n",
              "      <td>0.2067</td>\n",
              "      <td>0.8745</td>\n",
              "      <td>1.393</td>\n",
              "      <td>15.34</td>\n",
              "      <td>0.005251</td>\n",
              "      <td>0.017270</td>\n",
              "      <td>0.01840</td>\n",
              "      <td>0.005298</td>\n",
              "      <td>0.01449</td>\n",
              "      <td>0.002671</td>\n",
              "      <td>13.35</td>\n",
              "      <td>28.81</td>\n",
              "      <td>87.00</td>\n",
              "      <td>550.6</td>\n",
              "      <td>0.15500</td>\n",
              "      <td>0.29640</td>\n",
              "      <td>0.275800</td>\n",
              "      <td>0.081200</td>\n",
              "      <td>0.3206</td>\n",
              "      <td>0.08950</td>\n",
              "    </tr>\n",
              "    <tr>\n",
              "      <th>1</th>\n",
              "      <td>10.800</td>\n",
              "      <td>9.71</td>\n",
              "      <td>68.77</td>\n",
              "      <td>357.6</td>\n",
              "      <td>0.09594</td>\n",
              "      <td>0.05736</td>\n",
              "      <td>0.02531</td>\n",
              "      <td>0.016980</td>\n",
              "      <td>0.1381</td>\n",
              "      <td>0.06400</td>\n",
              "      <td>0.1728</td>\n",
              "      <td>0.4064</td>\n",
              "      <td>1.126</td>\n",
              "      <td>11.48</td>\n",
              "      <td>0.007809</td>\n",
              "      <td>0.009816</td>\n",
              "      <td>0.01099</td>\n",
              "      <td>0.005344</td>\n",
              "      <td>0.01254</td>\n",
              "      <td>0.002120</td>\n",
              "      <td>11.60</td>\n",
              "      <td>12.02</td>\n",
              "      <td>73.66</td>\n",
              "      <td>414.0</td>\n",
              "      <td>0.14360</td>\n",
              "      <td>0.12570</td>\n",
              "      <td>0.104700</td>\n",
              "      <td>0.046030</td>\n",
              "      <td>0.2090</td>\n",
              "      <td>0.07699</td>\n",
              "    </tr>\n",
              "    <tr>\n",
              "      <th>2</th>\n",
              "      <td>12.450</td>\n",
              "      <td>16.41</td>\n",
              "      <td>82.85</td>\n",
              "      <td>476.7</td>\n",
              "      <td>0.09514</td>\n",
              "      <td>0.15110</td>\n",
              "      <td>0.15440</td>\n",
              "      <td>0.048460</td>\n",
              "      <td>0.2082</td>\n",
              "      <td>0.07325</td>\n",
              "      <td>0.3921</td>\n",
              "      <td>1.2070</td>\n",
              "      <td>5.004</td>\n",
              "      <td>30.19</td>\n",
              "      <td>0.007234</td>\n",
              "      <td>0.074710</td>\n",
              "      <td>0.11140</td>\n",
              "      <td>0.027210</td>\n",
              "      <td>0.03232</td>\n",
              "      <td>0.009627</td>\n",
              "      <td>13.78</td>\n",
              "      <td>21.03</td>\n",
              "      <td>97.82</td>\n",
              "      <td>580.6</td>\n",
              "      <td>0.11750</td>\n",
              "      <td>0.40610</td>\n",
              "      <td>0.489600</td>\n",
              "      <td>0.134200</td>\n",
              "      <td>0.3231</td>\n",
              "      <td>0.10340</td>\n",
              "    </tr>\n",
              "    <tr>\n",
              "      <th>3</th>\n",
              "      <td>9.465</td>\n",
              "      <td>21.01</td>\n",
              "      <td>60.11</td>\n",
              "      <td>269.4</td>\n",
              "      <td>0.10440</td>\n",
              "      <td>0.07773</td>\n",
              "      <td>0.02172</td>\n",
              "      <td>0.015040</td>\n",
              "      <td>0.1717</td>\n",
              "      <td>0.06899</td>\n",
              "      <td>0.2351</td>\n",
              "      <td>2.0110</td>\n",
              "      <td>1.660</td>\n",
              "      <td>14.20</td>\n",
              "      <td>0.010520</td>\n",
              "      <td>0.017550</td>\n",
              "      <td>0.01714</td>\n",
              "      <td>0.009333</td>\n",
              "      <td>0.02279</td>\n",
              "      <td>0.004237</td>\n",
              "      <td>10.41</td>\n",
              "      <td>31.56</td>\n",
              "      <td>67.03</td>\n",
              "      <td>330.7</td>\n",
              "      <td>0.15480</td>\n",
              "      <td>0.16640</td>\n",
              "      <td>0.094120</td>\n",
              "      <td>0.065170</td>\n",
              "      <td>0.2878</td>\n",
              "      <td>0.09211</td>\n",
              "    </tr>\n",
              "    <tr>\n",
              "      <th>4</th>\n",
              "      <td>13.650</td>\n",
              "      <td>13.16</td>\n",
              "      <td>87.88</td>\n",
              "      <td>568.9</td>\n",
              "      <td>0.09646</td>\n",
              "      <td>0.08711</td>\n",
              "      <td>0.03888</td>\n",
              "      <td>0.025630</td>\n",
              "      <td>0.1360</td>\n",
              "      <td>0.06344</td>\n",
              "      <td>0.2102</td>\n",
              "      <td>0.4336</td>\n",
              "      <td>1.391</td>\n",
              "      <td>17.40</td>\n",
              "      <td>0.004133</td>\n",
              "      <td>0.016950</td>\n",
              "      <td>0.01652</td>\n",
              "      <td>0.006659</td>\n",
              "      <td>0.01371</td>\n",
              "      <td>0.002735</td>\n",
              "      <td>15.34</td>\n",
              "      <td>16.35</td>\n",
              "      <td>99.71</td>\n",
              "      <td>706.2</td>\n",
              "      <td>0.13110</td>\n",
              "      <td>0.24740</td>\n",
              "      <td>0.175900</td>\n",
              "      <td>0.080560</td>\n",
              "      <td>0.2380</td>\n",
              "      <td>0.08718</td>\n",
              "    </tr>\n",
              "    <tr>\n",
              "      <th>...</th>\n",
              "      <td>...</td>\n",
              "      <td>...</td>\n",
              "      <td>...</td>\n",
              "      <td>...</td>\n",
              "      <td>...</td>\n",
              "      <td>...</td>\n",
              "      <td>...</td>\n",
              "      <td>...</td>\n",
              "      <td>...</td>\n",
              "      <td>...</td>\n",
              "      <td>...</td>\n",
              "      <td>...</td>\n",
              "      <td>...</td>\n",
              "      <td>...</td>\n",
              "      <td>...</td>\n",
              "      <td>...</td>\n",
              "      <td>...</td>\n",
              "      <td>...</td>\n",
              "      <td>...</td>\n",
              "      <td>...</td>\n",
              "      <td>...</td>\n",
              "      <td>...</td>\n",
              "      <td>...</td>\n",
              "      <td>...</td>\n",
              "      <td>...</td>\n",
              "      <td>...</td>\n",
              "      <td>...</td>\n",
              "      <td>...</td>\n",
              "      <td>...</td>\n",
              "      <td>...</td>\n",
              "    </tr>\n",
              "    <tr>\n",
              "      <th>166</th>\n",
              "      <td>11.600</td>\n",
              "      <td>24.49</td>\n",
              "      <td>74.23</td>\n",
              "      <td>417.2</td>\n",
              "      <td>0.07474</td>\n",
              "      <td>0.05688</td>\n",
              "      <td>0.01974</td>\n",
              "      <td>0.013130</td>\n",
              "      <td>0.1935</td>\n",
              "      <td>0.05878</td>\n",
              "      <td>0.2512</td>\n",
              "      <td>1.7860</td>\n",
              "      <td>1.961</td>\n",
              "      <td>18.21</td>\n",
              "      <td>0.006122</td>\n",
              "      <td>0.023370</td>\n",
              "      <td>0.01596</td>\n",
              "      <td>0.006998</td>\n",
              "      <td>0.03194</td>\n",
              "      <td>0.002211</td>\n",
              "      <td>12.44</td>\n",
              "      <td>31.62</td>\n",
              "      <td>81.39</td>\n",
              "      <td>476.5</td>\n",
              "      <td>0.09545</td>\n",
              "      <td>0.13610</td>\n",
              "      <td>0.072390</td>\n",
              "      <td>0.048150</td>\n",
              "      <td>0.3244</td>\n",
              "      <td>0.06745</td>\n",
              "    </tr>\n",
              "    <tr>\n",
              "      <th>167</th>\n",
              "      <td>14.050</td>\n",
              "      <td>27.15</td>\n",
              "      <td>91.38</td>\n",
              "      <td>600.4</td>\n",
              "      <td>0.09929</td>\n",
              "      <td>0.11260</td>\n",
              "      <td>0.04462</td>\n",
              "      <td>0.043040</td>\n",
              "      <td>0.1537</td>\n",
              "      <td>0.06171</td>\n",
              "      <td>0.3645</td>\n",
              "      <td>1.4920</td>\n",
              "      <td>2.888</td>\n",
              "      <td>29.84</td>\n",
              "      <td>0.007256</td>\n",
              "      <td>0.026780</td>\n",
              "      <td>0.02071</td>\n",
              "      <td>0.016260</td>\n",
              "      <td>0.02080</td>\n",
              "      <td>0.005304</td>\n",
              "      <td>15.30</td>\n",
              "      <td>33.17</td>\n",
              "      <td>100.20</td>\n",
              "      <td>706.7</td>\n",
              "      <td>0.12410</td>\n",
              "      <td>0.22640</td>\n",
              "      <td>0.132600</td>\n",
              "      <td>0.104800</td>\n",
              "      <td>0.2250</td>\n",
              "      <td>0.08321</td>\n",
              "    </tr>\n",
              "    <tr>\n",
              "      <th>168</th>\n",
              "      <td>12.580</td>\n",
              "      <td>18.40</td>\n",
              "      <td>79.83</td>\n",
              "      <td>489.0</td>\n",
              "      <td>0.08393</td>\n",
              "      <td>0.04216</td>\n",
              "      <td>0.00186</td>\n",
              "      <td>0.002924</td>\n",
              "      <td>0.1697</td>\n",
              "      <td>0.05855</td>\n",
              "      <td>0.2719</td>\n",
              "      <td>1.3500</td>\n",
              "      <td>1.721</td>\n",
              "      <td>22.45</td>\n",
              "      <td>0.006383</td>\n",
              "      <td>0.008008</td>\n",
              "      <td>0.00186</td>\n",
              "      <td>0.002924</td>\n",
              "      <td>0.02571</td>\n",
              "      <td>0.002015</td>\n",
              "      <td>13.50</td>\n",
              "      <td>23.08</td>\n",
              "      <td>85.56</td>\n",
              "      <td>564.1</td>\n",
              "      <td>0.10380</td>\n",
              "      <td>0.06624</td>\n",
              "      <td>0.005579</td>\n",
              "      <td>0.008772</td>\n",
              "      <td>0.2505</td>\n",
              "      <td>0.06431</td>\n",
              "    </tr>\n",
              "    <tr>\n",
              "      <th>169</th>\n",
              "      <td>12.560</td>\n",
              "      <td>19.07</td>\n",
              "      <td>81.92</td>\n",
              "      <td>485.8</td>\n",
              "      <td>0.08760</td>\n",
              "      <td>0.10380</td>\n",
              "      <td>0.10300</td>\n",
              "      <td>0.043910</td>\n",
              "      <td>0.1533</td>\n",
              "      <td>0.06184</td>\n",
              "      <td>0.3602</td>\n",
              "      <td>1.4780</td>\n",
              "      <td>3.212</td>\n",
              "      <td>27.49</td>\n",
              "      <td>0.009853</td>\n",
              "      <td>0.042350</td>\n",
              "      <td>0.06271</td>\n",
              "      <td>0.019660</td>\n",
              "      <td>0.02639</td>\n",
              "      <td>0.004205</td>\n",
              "      <td>13.37</td>\n",
              "      <td>22.43</td>\n",
              "      <td>89.02</td>\n",
              "      <td>547.4</td>\n",
              "      <td>0.10960</td>\n",
              "      <td>0.20020</td>\n",
              "      <td>0.238800</td>\n",
              "      <td>0.092650</td>\n",
              "      <td>0.2121</td>\n",
              "      <td>0.07188</td>\n",
              "    </tr>\n",
              "    <tr>\n",
              "      <th>170</th>\n",
              "      <td>16.260</td>\n",
              "      <td>21.88</td>\n",
              "      <td>107.50</td>\n",
              "      <td>826.8</td>\n",
              "      <td>0.11650</td>\n",
              "      <td>0.12830</td>\n",
              "      <td>0.17990</td>\n",
              "      <td>0.079810</td>\n",
              "      <td>0.1869</td>\n",
              "      <td>0.06532</td>\n",
              "      <td>0.5706</td>\n",
              "      <td>1.4570</td>\n",
              "      <td>2.961</td>\n",
              "      <td>57.72</td>\n",
              "      <td>0.010560</td>\n",
              "      <td>0.037560</td>\n",
              "      <td>0.05839</td>\n",
              "      <td>0.011860</td>\n",
              "      <td>0.04022</td>\n",
              "      <td>0.006187</td>\n",
              "      <td>17.73</td>\n",
              "      <td>25.21</td>\n",
              "      <td>113.70</td>\n",
              "      <td>975.2</td>\n",
              "      <td>0.14260</td>\n",
              "      <td>0.21160</td>\n",
              "      <td>0.334400</td>\n",
              "      <td>0.104700</td>\n",
              "      <td>0.2736</td>\n",
              "      <td>0.07953</td>\n",
              "    </tr>\n",
              "  </tbody>\n",
              "</table>\n",
              "<p>171 rows × 30 columns</p>\n",
              "</div>"
            ],
            "text/plain": [
              "     radius_mean  texture_mean  ...  symmetry_worst  fractal_dimension_worst\n",
              "0         11.670         20.02  ...          0.3206                  0.08950\n",
              "1         10.800          9.71  ...          0.2090                  0.07699\n",
              "2         12.450         16.41  ...          0.3231                  0.10340\n",
              "3          9.465         21.01  ...          0.2878                  0.09211\n",
              "4         13.650         13.16  ...          0.2380                  0.08718\n",
              "..           ...           ...  ...             ...                      ...\n",
              "166       11.600         24.49  ...          0.3244                  0.06745\n",
              "167       14.050         27.15  ...          0.2250                  0.08321\n",
              "168       12.580         18.40  ...          0.2505                  0.06431\n",
              "169       12.560         19.07  ...          0.2121                  0.07188\n",
              "170       16.260         21.88  ...          0.2736                  0.07953\n",
              "\n",
              "[171 rows x 30 columns]"
            ]
          },
          "metadata": {
            "tags": []
          },
          "execution_count": 21
        }
      ]
    },
    {
      "cell_type": "markdown",
      "metadata": {
        "id": "_pFbvW6mRJXO"
      },
      "source": [
        "#raw data"
      ]
    },
    {
      "cell_type": "markdown",
      "metadata": {
        "id": "v7kSVUyXHO3m"
      },
      "source": [
        "##Logistic Regression"
      ]
    },
    {
      "cell_type": "code",
      "metadata": {
        "colab": {
          "base_uri": "https://localhost:8080/"
        },
        "id": "Rkm94N5NDrP2",
        "outputId": "26241327-3f63-435c-e7f3-8b4ea85a7000"
      },
      "source": [
        "from sklearn.linear_model import LogisticRegression\r\n",
        "\r\n",
        "lr=LogisticRegression(random_state=11)\r\n",
        "lr.fit(x_train,y_train)\r\n",
        "y_train_pred=lr.predict(x_train)\r\n",
        "y_test_pred=lr.predict(test)"
      ],
      "execution_count": null,
      "outputs": [
        {
          "output_type": "stream",
          "text": [
            "/usr/local/lib/python3.6/dist-packages/sklearn/linear_model/_logistic.py:940: ConvergenceWarning: lbfgs failed to converge (status=1):\n",
            "STOP: TOTAL NO. of ITERATIONS REACHED LIMIT.\n",
            "\n",
            "Increase the number of iterations (max_iter) or scale the data as shown in:\n",
            "    https://scikit-learn.org/stable/modules/preprocessing.html\n",
            "Please also refer to the documentation for alternative solver options:\n",
            "    https://scikit-learn.org/stable/modules/linear_model.html#logistic-regression\n",
            "  extra_warning_msg=_LOGISTIC_SOLVER_CONVERGENCE_MSG)\n"
          ],
          "name": "stderr"
        }
      ]
    },
    {
      "cell_type": "code",
      "metadata": {
        "colab": {
          "base_uri": "https://localhost:8080/"
        },
        "id": "aBp90FutD6E0",
        "outputId": "10660688-5fb8-4351-db0e-9b809f3fcc8f"
      },
      "source": [
        "from sklearn.metrics import accuracy_score\r\n",
        "print(accuracy_score(y_train,y_train_pred))"
      ],
      "execution_count": null,
      "outputs": [
        {
          "output_type": "stream",
          "text": [
            "0.9522613065326633\n"
          ],
          "name": "stdout"
        }
      ]
    },
    {
      "cell_type": "code",
      "metadata": {
        "colab": {
          "base_uri": "https://localhost:8080/"
        },
        "id": "3rxY6QfCEdW4",
        "outputId": "27274e30-74d4-4776-dbc2-d9dd0c4c9e04"
      },
      "source": [
        "y_test_pred"
      ],
      "execution_count": null,
      "outputs": [
        {
          "output_type": "execute_result",
          "data": {
            "text/plain": [
              "array([0, 0, 0, 0, 0, 0, 1, 0, 1, 1, 1, 0, 0, 0, 0, 1, 0, 0, 0, 1, 0, 1,\n",
              "       1, 1, 1, 0, 1, 0, 0, 0, 0, 0, 1, 0, 0, 0, 0, 1, 1, 0, 1, 0, 1, 0,\n",
              "       0, 0, 0, 0, 1, 0, 0, 0, 0, 1, 1, 0, 0, 0, 0, 1, 0, 0, 0, 0, 0, 1,\n",
              "       1, 0, 0, 0, 0, 1, 0, 0, 0, 0, 0, 1, 0, 1, 0, 0, 0, 0, 1, 1, 1, 1,\n",
              "       0, 0, 0, 0, 0, 1, 0, 0, 0, 0, 0, 0, 1, 1, 0, 0, 1, 0, 0, 1, 1, 0,\n",
              "       1, 1, 1, 1, 0, 0, 0, 1, 0, 0, 0, 0, 0, 0, 1, 0, 1, 1, 0, 0, 1, 0,\n",
              "       1, 0, 1, 0, 0, 1, 0, 1, 0, 1, 1, 0, 1, 0, 0, 0, 1, 0, 0, 0, 1, 0,\n",
              "       0, 0, 0, 1, 1, 0, 0, 0, 1, 0, 0, 1, 0, 0, 0, 0, 0])"
            ]
          },
          "metadata": {
            "tags": []
          },
          "execution_count": 24
        }
      ]
    },
    {
      "cell_type": "code",
      "metadata": {
        "id": "aCc1i56dEyLR"
      },
      "source": [
        "submit=pd.read_csv(\"sampleSubmission.csv\")"
      ],
      "execution_count": null,
      "outputs": []
    },
    {
      "cell_type": "code",
      "metadata": {
        "colab": {
          "base_uri": "https://localhost:8080/",
          "height": 402
        },
        "id": "iMn5sg4KE31Q",
        "outputId": "3d846942-e32e-4a8b-ca8e-a86f9b59d2d0"
      },
      "source": [
        "submit"
      ],
      "execution_count": null,
      "outputs": [
        {
          "output_type": "execute_result",
          "data": {
            "text/html": [
              "<div>\n",
              "<style scoped>\n",
              "    .dataframe tbody tr th:only-of-type {\n",
              "        vertical-align: middle;\n",
              "    }\n",
              "\n",
              "    .dataframe tbody tr th {\n",
              "        vertical-align: top;\n",
              "    }\n",
              "\n",
              "    .dataframe thead th {\n",
              "        text-align: right;\n",
              "    }\n",
              "</style>\n",
              "<table border=\"1\" class=\"dataframe\">\n",
              "  <thead>\n",
              "    <tr style=\"text-align: right;\">\n",
              "      <th></th>\n",
              "      <th>id</th>\n",
              "      <th>diagnosis</th>\n",
              "    </tr>\n",
              "  </thead>\n",
              "  <tbody>\n",
              "    <tr>\n",
              "      <th>0</th>\n",
              "      <td>0</td>\n",
              "      <td>1</td>\n",
              "    </tr>\n",
              "    <tr>\n",
              "      <th>1</th>\n",
              "      <td>1</td>\n",
              "      <td>1</td>\n",
              "    </tr>\n",
              "    <tr>\n",
              "      <th>2</th>\n",
              "      <td>2</td>\n",
              "      <td>1</td>\n",
              "    </tr>\n",
              "    <tr>\n",
              "      <th>3</th>\n",
              "      <td>3</td>\n",
              "      <td>1</td>\n",
              "    </tr>\n",
              "    <tr>\n",
              "      <th>4</th>\n",
              "      <td>4</td>\n",
              "      <td>1</td>\n",
              "    </tr>\n",
              "    <tr>\n",
              "      <th>...</th>\n",
              "      <td>...</td>\n",
              "      <td>...</td>\n",
              "    </tr>\n",
              "    <tr>\n",
              "      <th>166</th>\n",
              "      <td>166</td>\n",
              "      <td>1</td>\n",
              "    </tr>\n",
              "    <tr>\n",
              "      <th>167</th>\n",
              "      <td>167</td>\n",
              "      <td>1</td>\n",
              "    </tr>\n",
              "    <tr>\n",
              "      <th>168</th>\n",
              "      <td>168</td>\n",
              "      <td>1</td>\n",
              "    </tr>\n",
              "    <tr>\n",
              "      <th>169</th>\n",
              "      <td>169</td>\n",
              "      <td>1</td>\n",
              "    </tr>\n",
              "    <tr>\n",
              "      <th>170</th>\n",
              "      <td>170</td>\n",
              "      <td>1</td>\n",
              "    </tr>\n",
              "  </tbody>\n",
              "</table>\n",
              "<p>171 rows × 2 columns</p>\n",
              "</div>"
            ],
            "text/plain": [
              "      id  diagnosis\n",
              "0      0          1\n",
              "1      1          1\n",
              "2      2          1\n",
              "3      3          1\n",
              "4      4          1\n",
              "..   ...        ...\n",
              "166  166          1\n",
              "167  167          1\n",
              "168  168          1\n",
              "169  169          1\n",
              "170  170          1\n",
              "\n",
              "[171 rows x 2 columns]"
            ]
          },
          "metadata": {
            "tags": []
          },
          "execution_count": 26
        }
      ]
    },
    {
      "cell_type": "code",
      "metadata": {
        "id": "2FQv6OObE4Sr"
      },
      "source": [
        "submit['diagnosis']=y_test_pred"
      ],
      "execution_count": null,
      "outputs": []
    },
    {
      "cell_type": "code",
      "metadata": {
        "colab": {
          "base_uri": "https://localhost:8080/",
          "height": 343
        },
        "id": "qiiQDgALFuky",
        "outputId": "bf89f3f0-f2fa-4fe8-cac9-ca3122e0eb53"
      },
      "source": [
        "submit[:10]"
      ],
      "execution_count": null,
      "outputs": [
        {
          "output_type": "execute_result",
          "data": {
            "text/html": [
              "<div>\n",
              "<style scoped>\n",
              "    .dataframe tbody tr th:only-of-type {\n",
              "        vertical-align: middle;\n",
              "    }\n",
              "\n",
              "    .dataframe tbody tr th {\n",
              "        vertical-align: top;\n",
              "    }\n",
              "\n",
              "    .dataframe thead th {\n",
              "        text-align: right;\n",
              "    }\n",
              "</style>\n",
              "<table border=\"1\" class=\"dataframe\">\n",
              "  <thead>\n",
              "    <tr style=\"text-align: right;\">\n",
              "      <th></th>\n",
              "      <th>id</th>\n",
              "      <th>diagnosis</th>\n",
              "    </tr>\n",
              "  </thead>\n",
              "  <tbody>\n",
              "    <tr>\n",
              "      <th>0</th>\n",
              "      <td>0</td>\n",
              "      <td>0</td>\n",
              "    </tr>\n",
              "    <tr>\n",
              "      <th>1</th>\n",
              "      <td>1</td>\n",
              "      <td>0</td>\n",
              "    </tr>\n",
              "    <tr>\n",
              "      <th>2</th>\n",
              "      <td>2</td>\n",
              "      <td>0</td>\n",
              "    </tr>\n",
              "    <tr>\n",
              "      <th>3</th>\n",
              "      <td>3</td>\n",
              "      <td>0</td>\n",
              "    </tr>\n",
              "    <tr>\n",
              "      <th>4</th>\n",
              "      <td>4</td>\n",
              "      <td>0</td>\n",
              "    </tr>\n",
              "    <tr>\n",
              "      <th>5</th>\n",
              "      <td>5</td>\n",
              "      <td>0</td>\n",
              "    </tr>\n",
              "    <tr>\n",
              "      <th>6</th>\n",
              "      <td>6</td>\n",
              "      <td>1</td>\n",
              "    </tr>\n",
              "    <tr>\n",
              "      <th>7</th>\n",
              "      <td>7</td>\n",
              "      <td>0</td>\n",
              "    </tr>\n",
              "    <tr>\n",
              "      <th>8</th>\n",
              "      <td>8</td>\n",
              "      <td>1</td>\n",
              "    </tr>\n",
              "    <tr>\n",
              "      <th>9</th>\n",
              "      <td>9</td>\n",
              "      <td>1</td>\n",
              "    </tr>\n",
              "  </tbody>\n",
              "</table>\n",
              "</div>"
            ],
            "text/plain": [
              "   id  diagnosis\n",
              "0   0          0\n",
              "1   1          0\n",
              "2   2          0\n",
              "3   3          0\n",
              "4   4          0\n",
              "5   5          0\n",
              "6   6          1\n",
              "7   7          0\n",
              "8   8          1\n",
              "9   9          1"
            ]
          },
          "metadata": {
            "tags": []
          },
          "execution_count": 28
        }
      ]
    },
    {
      "cell_type": "code",
      "metadata": {
        "id": "9L45cFuzFyuB"
      },
      "source": [
        "submit.to_csv('submit.csv',mode='w', index=False)\r\n",
        "#!kaggle competitions submit -c 2020ml1re -f submit.csv -m \"Logistic Regression\""
      ],
      "execution_count": null,
      "outputs": []
    },
    {
      "cell_type": "markdown",
      "metadata": {
        "id": "c2Y_sC4yPWWy"
      },
      "source": [
        "score=0.91228"
      ]
    },
    {
      "cell_type": "markdown",
      "metadata": {
        "id": "b--ZK7M3HyVn"
      },
      "source": [
        "##KNN"
      ]
    },
    {
      "cell_type": "code",
      "metadata": {
        "colab": {
          "base_uri": "https://localhost:8080/"
        },
        "id": "Qb9jB0EZHm9U",
        "outputId": "3a73ba56-113c-4667-da43-96105fecc884"
      },
      "source": [
        "from sklearn.neighbors import KNeighborsClassifier\r\n",
        "knn=KNeighborsClassifier()\r\n",
        "knn.fit(x_train,y_train)"
      ],
      "execution_count": null,
      "outputs": [
        {
          "output_type": "execute_result",
          "data": {
            "text/plain": [
              "KNeighborsClassifier(algorithm='auto', leaf_size=30, metric='minkowski',\n",
              "                     metric_params=None, n_jobs=None, n_neighbors=5, p=2,\n",
              "                     weights='uniform')"
            ]
          },
          "metadata": {
            "tags": []
          },
          "execution_count": 30
        }
      ]
    },
    {
      "cell_type": "code",
      "metadata": {
        "colab": {
          "base_uri": "https://localhost:8080/"
        },
        "id": "ECRjnGlmIClu",
        "outputId": "06c7aa9d-9048-4901-a207-359595e5b9f9"
      },
      "source": [
        "y_train_pred=knn.predict(x_train)\r\n",
        "y_test_pred=knn.predict(test)\r\n",
        "print(accuracy_score(y_train, y_train_pred))"
      ],
      "execution_count": null,
      "outputs": [
        {
          "output_type": "stream",
          "text": [
            "0.9447236180904522\n"
          ],
          "name": "stdout"
        }
      ]
    },
    {
      "cell_type": "code",
      "metadata": {
        "id": "9ZgoYAD6LFm7"
      },
      "source": [
        "submit['diagnosis']=y_test_pred\r\n",
        "submit.to_csv('submit.csv',mode='w', index=False)\r\n",
        "#!kaggle competitions submit -c 2020ml1re -f submit.csv -m \"KNN\""
      ],
      "execution_count": null,
      "outputs": []
    },
    {
      "cell_type": "markdown",
      "metadata": {
        "id": "GMWnrqxAPOyo"
      },
      "source": [
        "score=0.93567"
      ]
    },
    {
      "cell_type": "markdown",
      "metadata": {
        "id": "6vO-6so0Lbyn"
      },
      "source": [
        "##LDA"
      ]
    },
    {
      "cell_type": "code",
      "metadata": {
        "id": "IU2cIo8YLa30"
      },
      "source": [
        "from sklearn.discriminant_analysis import LinearDiscriminantAnalysis\r\n",
        "lda=LinearDiscriminantAnalysis(store_covariance=True)"
      ],
      "execution_count": null,
      "outputs": []
    },
    {
      "cell_type": "code",
      "metadata": {
        "colab": {
          "base_uri": "https://localhost:8080/"
        },
        "id": "K9J7bC2kLMH7",
        "outputId": "ccd4f349-1a92-4cbc-90e0-a3be68aec2cb"
      },
      "source": [
        "lda.fit(x_train,y_train)\r\n",
        "y_train_pred=lda.predict(x_train)\r\n",
        "y_test_pred=lda.predict(test)\r\n",
        "\r\n",
        "print(accuracy_score(y_train,y_train_pred))"
      ],
      "execution_count": null,
      "outputs": [
        {
          "output_type": "stream",
          "text": [
            "0.9698492462311558\n"
          ],
          "name": "stdout"
        }
      ]
    },
    {
      "cell_type": "code",
      "metadata": {
        "id": "-MerDPhzL9QL"
      },
      "source": [
        "submit['diagnosis']=y_test_pred\r\n",
        "submit.to_csv('submit.csv',mode='w', index=False)\r\n",
        "#!kaggle competitions submit -c 2020ml1re -f submit.csv -m \"LDA\""
      ],
      "execution_count": 72,
      "outputs": []
    },
    {
      "cell_type": "markdown",
      "metadata": {
        "id": "Scw3P35KPK5Q"
      },
      "source": [
        "score=0.94152"
      ]
    },
    {
      "cell_type": "markdown",
      "metadata": {
        "id": "g46MSLC5MWPz"
      },
      "source": [
        "##QDA"
      ]
    },
    {
      "cell_type": "code",
      "metadata": {
        "colab": {
          "base_uri": "https://localhost:8080/"
        },
        "id": "rt6Zq-7EMHM2",
        "outputId": "24f863c8-f6b8-4260-eef5-f75295364a8f"
      },
      "source": [
        "from sklearn.discriminant_analysis import QuadraticDiscriminantAnalysis\r\n",
        "qda=QuadraticDiscriminantAnalysis()\r\n",
        "qda.fit(x_train,y_train)"
      ],
      "execution_count": null,
      "outputs": [
        {
          "output_type": "execute_result",
          "data": {
            "text/plain": [
              "QuadraticDiscriminantAnalysis(priors=None, reg_param=0.0,\n",
              "                              store_covariance=False, tol=0.0001)"
            ]
          },
          "metadata": {
            "tags": []
          },
          "execution_count": 36
        }
      ]
    },
    {
      "cell_type": "code",
      "metadata": {
        "colab": {
          "base_uri": "https://localhost:8080/"
        },
        "id": "tgzn4lhwMe66",
        "outputId": "471c89f1-4c2c-404f-fc67-444421565d4d"
      },
      "source": [
        "y_train_pred=qda.predict(x_train)\r\n",
        "y_test_pred=qda.predict(test)\r\n",
        "\r\n",
        "print(accuracy_score(y_train,y_train_pred))"
      ],
      "execution_count": null,
      "outputs": [
        {
          "output_type": "stream",
          "text": [
            "0.9798994974874372\n"
          ],
          "name": "stdout"
        }
      ]
    },
    {
      "cell_type": "code",
      "metadata": {
        "id": "2NTjQEOHMq_6"
      },
      "source": [
        "submit['diagnosis']=y_test_pred\r\n",
        "submit.to_csv(\"submit.csv\", mode='w', index=False)\r\n",
        "#!kaggle competitions submit -c 2020ml1re -f submit.csv -m \"QDA\""
      ],
      "execution_count": null,
      "outputs": []
    },
    {
      "cell_type": "markdown",
      "metadata": {
        "id": "-4MvgQFsPJGb"
      },
      "source": [
        "score=0.94152"
      ]
    },
    {
      "cell_type": "markdown",
      "metadata": {
        "id": "pS8SmaGtNGXi"
      },
      "source": [
        "##Decision Tree"
      ]
    },
    {
      "cell_type": "code",
      "metadata": {
        "colab": {
          "base_uri": "https://localhost:8080/"
        },
        "id": "pW3KEiO4M-Bj",
        "outputId": "16d8908c-7e69-4fba-eded-9e5f0d4be348"
      },
      "source": [
        "from sklearn.tree import DecisionTreeClassifier\r\n",
        "dtc=DecisionTreeClassifier(max_depth=5)\r\n",
        "dtc.fit(x_train,y_train)"
      ],
      "execution_count": null,
      "outputs": [
        {
          "output_type": "execute_result",
          "data": {
            "text/plain": [
              "DecisionTreeClassifier(ccp_alpha=0.0, class_weight=None, criterion='gini',\n",
              "                       max_depth=5, max_features=None, max_leaf_nodes=None,\n",
              "                       min_impurity_decrease=0.0, min_impurity_split=None,\n",
              "                       min_samples_leaf=1, min_samples_split=2,\n",
              "                       min_weight_fraction_leaf=0.0, presort='deprecated',\n",
              "                       random_state=None, splitter='best')"
            ]
          },
          "metadata": {
            "tags": []
          },
          "execution_count": 39
        }
      ]
    },
    {
      "cell_type": "code",
      "metadata": {
        "colab": {
          "base_uri": "https://localhost:8080/"
        },
        "id": "gcHKAXJONbkp",
        "outputId": "9f70b648-6865-472b-a34a-7d2e15fcaa4c"
      },
      "source": [
        "y_train_pred=dtc.predict(x_train)\r\n",
        "y_test_pred=dtc.predict(test)\r\n",
        "\r\n",
        "print(accuracy_score(y_train,y_train_pred))"
      ],
      "execution_count": null,
      "outputs": [
        {
          "output_type": "stream",
          "text": [
            "0.992462311557789\n"
          ],
          "name": "stdout"
        }
      ]
    },
    {
      "cell_type": "code",
      "metadata": {
        "id": "1Yr9hRzANv7R"
      },
      "source": [
        "submit['diagnosis']=y_test_pred\r\n",
        "submit.to_csv(\"submit.csv\", mode='w',index=False)\r\n",
        "#!kaggle competitions submit -c 2020ml1re -f submit.csv -m \"Decision Tree max_depth=5\""
      ],
      "execution_count": null,
      "outputs": []
    },
    {
      "cell_type": "markdown",
      "metadata": {
        "id": "stYmv0rHPBvS"
      },
      "source": [
        "score=0.95321"
      ]
    },
    {
      "cell_type": "markdown",
      "metadata": {
        "id": "Sjjs841uQOxW"
      },
      "source": [
        "#표준화"
      ]
    },
    {
      "cell_type": "code",
      "metadata": {
        "id": "C6rFZ1vLQQy-"
      },
      "source": [
        "from sklearn.preprocessing import StandardScaler\r\n",
        "sc=StandardScaler()"
      ],
      "execution_count": null,
      "outputs": []
    },
    {
      "cell_type": "code",
      "metadata": {
        "id": "YEF8EIucQRur"
      },
      "source": [
        "sc.fit(x_train)\r\n",
        "test_std=sc.transform(test)\r\n",
        "x_train_std=sc.transform(x_train)"
      ],
      "execution_count": null,
      "outputs": []
    },
    {
      "cell_type": "markdown",
      "metadata": {
        "id": "H6vwDQtdRUOH"
      },
      "source": [
        "##Logistic Regression"
      ]
    },
    {
      "cell_type": "code",
      "metadata": {
        "id": "qIZWy8pORXfi"
      },
      "source": [
        "lr=LogisticRegression(random_state=11)\r\n",
        "lr.fit(x_train_std,y_train)\r\n",
        "y_train_pred=lr.predict(x_train_std)\r\n",
        "y_test_pred=lr.predict(test_std)"
      ],
      "execution_count": null,
      "outputs": []
    },
    {
      "cell_type": "code",
      "metadata": {
        "colab": {
          "base_uri": "https://localhost:8080/"
        },
        "id": "50fmcFDRRgiX",
        "outputId": "b82a422e-f6d1-42f0-8140-f9b5b6affbf8"
      },
      "source": [
        "print(accuracy_score(y_train,y_train_pred))"
      ],
      "execution_count": null,
      "outputs": [
        {
          "output_type": "stream",
          "text": [
            "0.9949748743718593\n"
          ],
          "name": "stdout"
        }
      ]
    },
    {
      "cell_type": "code",
      "metadata": {
        "id": "UinNLzekRlDL"
      },
      "source": [
        "submit['diagnosis']=y_test_pred\r\n",
        "submit.to_csv(\"submit.csv\", mode='w',index=False)\r\n",
        "#!kaggle competitions submit -c 2020ml1re -f submit.csv -m \"Logistic Regression std\""
      ],
      "execution_count": null,
      "outputs": []
    },
    {
      "cell_type": "markdown",
      "metadata": {
        "id": "qr7DtQCSRyEO"
      },
      "source": [
        "score=0.94152"
      ]
    },
    {
      "cell_type": "markdown",
      "metadata": {
        "id": "nCgQTu3HR05i"
      },
      "source": [
        "##KNN"
      ]
    },
    {
      "cell_type": "code",
      "metadata": {
        "colab": {
          "base_uri": "https://localhost:8080/"
        },
        "id": "UURTsEQgR266",
        "outputId": "ea28abb3-285a-4fb8-dc43-d0dd03847b12"
      },
      "source": [
        "knn=KNeighborsClassifier()\r\n",
        "knn.fit(x_train_std,y_train)"
      ],
      "execution_count": null,
      "outputs": [
        {
          "output_type": "execute_result",
          "data": {
            "text/plain": [
              "KNeighborsClassifier(algorithm='auto', leaf_size=30, metric='minkowski',\n",
              "                     metric_params=None, n_jobs=None, n_neighbors=5, p=2,\n",
              "                     weights='uniform')"
            ]
          },
          "metadata": {
            "tags": []
          },
          "execution_count": 47
        }
      ]
    },
    {
      "cell_type": "code",
      "metadata": {
        "colab": {
          "base_uri": "https://localhost:8080/"
        },
        "id": "H2Nz9JjRR8kO",
        "outputId": "27bd4153-68d8-4e02-b9b0-c047ffb870dd"
      },
      "source": [
        "y_train_pred=knn.predict(x_train_std)\r\n",
        "y_test_pred=knn.predict(test_std)\r\n",
        "print(accuracy_score(y_train, y_train_pred))"
      ],
      "execution_count": null,
      "outputs": [
        {
          "output_type": "stream",
          "text": [
            "0.9849246231155779\n"
          ],
          "name": "stdout"
        }
      ]
    },
    {
      "cell_type": "code",
      "metadata": {
        "id": "fRtvzoMeR_tH"
      },
      "source": [
        "submit['diagnosis']=y_test_pred\r\n",
        "submit.to_csv('submit.csv',mode='w', index=False)\r\n",
        "#!kaggle competitions submit -c 2020ml1re -f submit.csv -m \"KNN std\""
      ],
      "execution_count": null,
      "outputs": []
    },
    {
      "cell_type": "markdown",
      "metadata": {
        "id": "cHmOlrKqSSOn"
      },
      "source": [
        "score=0.92397"
      ]
    },
    {
      "cell_type": "markdown",
      "metadata": {
        "id": "RsgldXKdSVHx"
      },
      "source": [
        "##LDA"
      ]
    },
    {
      "cell_type": "code",
      "metadata": {
        "colab": {
          "base_uri": "https://localhost:8080/"
        },
        "id": "5YXi0HOtSZR3",
        "outputId": "25e638a1-bcd8-402e-ef4b-94e08a195d20"
      },
      "source": [
        "lda.fit(x_train_std,y_train)\r\n",
        "y_train_pred=lda.predict(x_train_std)\r\n",
        "y_test_pred=lda.predict(test_std)\r\n",
        "\r\n",
        "print(accuracy_score(y_train,y_train_pred))"
      ],
      "execution_count": null,
      "outputs": [
        {
          "output_type": "stream",
          "text": [
            "0.9698492462311558\n"
          ],
          "name": "stdout"
        }
      ]
    },
    {
      "cell_type": "code",
      "metadata": {
        "colab": {
          "base_uri": "https://localhost:8080/"
        },
        "id": "f1HzdEQCSZOK",
        "outputId": "b580734c-7895-4fbc-d592-a0b9058f4c6a"
      },
      "source": [
        "submit['diagnosis']=y_test_pred\r\n",
        "submit.to_csv('submit.csv',mode='w', index=False)\r\n",
        "!kaggle competitions submit -c 2020ml1re -f submit.csv -m \"LDA std\""
      ],
      "execution_count": null,
      "outputs": [
        {
          "output_type": "stream",
          "text": [
            "100% 929/929 [00:01<00:00, 530B/s]\n",
            "Successfully submitted to 2020.ML.중간고사.문제1.다시풀기"
          ],
          "name": "stdout"
        }
      ]
    },
    {
      "cell_type": "markdown",
      "metadata": {
        "id": "ArDxlT2uSwfS"
      },
      "source": [
        "score=0.94152"
      ]
    },
    {
      "cell_type": "markdown",
      "metadata": {
        "id": "1RvSiRPESWgD"
      },
      "source": [
        "##QDA"
      ]
    },
    {
      "cell_type": "code",
      "metadata": {
        "colab": {
          "base_uri": "https://localhost:8080/"
        },
        "id": "O2UrFfxTSaFt",
        "outputId": "6e192c4b-036f-49f8-f8e6-2624b1ba1ed8"
      },
      "source": [
        "qda=QuadraticDiscriminantAnalysis()\r\n",
        "qda.fit(x_train_std,y_train)"
      ],
      "execution_count": null,
      "outputs": [
        {
          "output_type": "execute_result",
          "data": {
            "text/plain": [
              "QuadraticDiscriminantAnalysis(priors=None, reg_param=0.0,\n",
              "                              store_covariance=False, tol=0.0001)"
            ]
          },
          "metadata": {
            "tags": []
          },
          "execution_count": 52
        }
      ]
    },
    {
      "cell_type": "code",
      "metadata": {
        "colab": {
          "base_uri": "https://localhost:8080/"
        },
        "id": "JhGFlQHlSaDR",
        "outputId": "145b1886-fb13-436b-a51d-b402bd2e8e83"
      },
      "source": [
        "y_train_pred=qda.predict(x_train_std)\r\n",
        "y_test_pred=qda.predict(test_std)\r\n",
        "\r\n",
        "print(accuracy_score(y_train,y_train_pred))"
      ],
      "execution_count": null,
      "outputs": [
        {
          "output_type": "stream",
          "text": [
            "0.9798994974874372\n"
          ],
          "name": "stdout"
        }
      ]
    },
    {
      "cell_type": "code",
      "metadata": {
        "colab": {
          "base_uri": "https://localhost:8080/"
        },
        "id": "WgpQc53xSaAl",
        "outputId": "e77b0f73-8f41-4b47-9acd-b0441cf4ce04"
      },
      "source": [
        "submit['diagnosis']=y_test_pred\r\n",
        "submit.to_csv(\"submit.csv\", mode='w', index=False)\r\n",
        "#!kaggle competitions submit -c 2020ml1re -f submit.csv -m \"QDA std\""
      ],
      "execution_count": null,
      "outputs": [
        {
          "output_type": "stream",
          "text": [
            "100% 929/929 [00:02<00:00, 354B/s]\n",
            "Successfully submitted to 2020.ML.중간고사.문제1.다시풀기"
          ],
          "name": "stdout"
        }
      ]
    },
    {
      "cell_type": "markdown",
      "metadata": {
        "id": "1cLSNwXwS17D"
      },
      "source": [
        "score=0.94152"
      ]
    },
    {
      "cell_type": "markdown",
      "metadata": {
        "id": "1_OUaWRxQrBF"
      },
      "source": [
        "##Decision Tree"
      ]
    },
    {
      "cell_type": "code",
      "metadata": {
        "colab": {
          "base_uri": "https://localhost:8080/"
        },
        "id": "KbLFfgLtQeVF",
        "outputId": "92b9b75f-0f9c-4043-9d04-feba8d27ea38"
      },
      "source": [
        "from sklearn.tree import DecisionTreeClassifier\r\n",
        "dtc=DecisionTreeClassifier(max_depth=5)\r\n",
        "dtc.fit(x_train_std,y_train)"
      ],
      "execution_count": null,
      "outputs": [
        {
          "output_type": "execute_result",
          "data": {
            "text/plain": [
              "DecisionTreeClassifier(ccp_alpha=0.0, class_weight=None, criterion='gini',\n",
              "                       max_depth=5, max_features=None, max_leaf_nodes=None,\n",
              "                       min_impurity_decrease=0.0, min_impurity_split=None,\n",
              "                       min_samples_leaf=1, min_samples_split=2,\n",
              "                       min_weight_fraction_leaf=0.0, presort='deprecated',\n",
              "                       random_state=None, splitter='best')"
            ]
          },
          "metadata": {
            "tags": []
          },
          "execution_count": 55
        }
      ]
    },
    {
      "cell_type": "code",
      "metadata": {
        "colab": {
          "base_uri": "https://localhost:8080/"
        },
        "id": "mOslLbZtQyPI",
        "outputId": "c4039241-4f11-4351-bc15-79b2bb681a11"
      },
      "source": [
        "y_train_pred=dtc.predict(x_train_std)\r\n",
        "y_test_pred=dtc.predict(test_std)\r\n",
        "\r\n",
        "print(accuracy_score(y_train,y_train_pred))"
      ],
      "execution_count": null,
      "outputs": [
        {
          "output_type": "stream",
          "text": [
            "0.992462311557789\n"
          ],
          "name": "stdout"
        }
      ]
    },
    {
      "cell_type": "code",
      "metadata": {
        "id": "GDVCP4mDQ16P"
      },
      "source": [
        "submit['diagnosis']=y_test_pred\r\n",
        "submit.to_csv(\"submit.csv\", mode='w',index=False)\r\n",
        "#!kaggle competitions submit -c 2020ml1re -f submit.csv -m \"Decision Tree max_depth=5 std\""
      ],
      "execution_count": null,
      "outputs": []
    },
    {
      "cell_type": "markdown",
      "metadata": {
        "id": "EAIt99BPRDv-"
      },
      "source": [
        "score=0.94152"
      ]
    },
    {
      "cell_type": "markdown",
      "metadata": {
        "id": "QOnVBllsOWIe"
      },
      "source": [
        "#파라미터 변경하며 실험"
      ]
    },
    {
      "cell_type": "markdown",
      "metadata": {
        "id": "fMX2xRK3OYTR"
      },
      "source": [
        "##Logistic Regression"
      ]
    },
    {
      "cell_type": "code",
      "metadata": {
        "id": "sHDsuwjyQ5G7",
        "colab": {
          "base_uri": "https://localhost:8080/"
        },
        "outputId": "76bbd9f9-4588-462e-c05c-431c898df862"
      },
      "source": [
        "lr=LogisticRegression(C=1000,random_state=11)\r\n",
        "lr.fit(x_train_std,y_train)\r\n",
        "y_train_pred=lr.predict(x_train_std)\r\n",
        "y_test_pred=lr.predict(test_std)"
      ],
      "execution_count": null,
      "outputs": [
        {
          "output_type": "stream",
          "text": [
            "/usr/local/lib/python3.6/dist-packages/sklearn/linear_model/_logistic.py:940: ConvergenceWarning: lbfgs failed to converge (status=1):\n",
            "STOP: TOTAL NO. of ITERATIONS REACHED LIMIT.\n",
            "\n",
            "Increase the number of iterations (max_iter) or scale the data as shown in:\n",
            "    https://scikit-learn.org/stable/modules/preprocessing.html\n",
            "Please also refer to the documentation for alternative solver options:\n",
            "    https://scikit-learn.org/stable/modules/linear_model.html#logistic-regression\n",
            "  extra_warning_msg=_LOGISTIC_SOLVER_CONVERGENCE_MSG)\n"
          ],
          "name": "stderr"
        }
      ]
    },
    {
      "cell_type": "code",
      "metadata": {
        "colab": {
          "base_uri": "https://localhost:8080/"
        },
        "id": "5hezIKO-OyRk",
        "outputId": "b5e9da75-b7ff-43c0-effe-9593c3c5e678"
      },
      "source": [
        "print(accuracy_score(y_train,y_train_pred))"
      ],
      "execution_count": null,
      "outputs": [
        {
          "output_type": "stream",
          "text": [
            "1.0\n"
          ],
          "name": "stdout"
        }
      ]
    },
    {
      "cell_type": "code",
      "metadata": {
        "id": "Nuec5fsHOyse"
      },
      "source": [
        "submit['diagnosis']=y_test_pred\r\n",
        "submit.to_csv(\"submit.csv\", mode='w',index=False)\r\n",
        "#!kaggle competitions submit -c 2020ml1re -f submit.csv -m \"Logistic Regression std c=1000\""
      ],
      "execution_count": null,
      "outputs": []
    },
    {
      "cell_type": "markdown",
      "metadata": {
        "id": "hj6lFN9sO-v9"
      },
      "source": [
        "c=200 score=0.96491/\r\n",
        "c=100 score=0.96491/\r\n",
        "c=1000 score=0.97076"
      ]
    },
    {
      "cell_type": "markdown",
      "metadata": {
        "id": "q8zJmQDrOa3s"
      },
      "source": [
        "##KNN"
      ]
    },
    {
      "cell_type": "code",
      "metadata": {
        "id": "riK9RSOpObbO",
        "colab": {
          "base_uri": "https://localhost:8080/"
        },
        "outputId": "cc84f39a-fba0-4c30-81b6-037094106f07"
      },
      "source": [
        "knn=KNeighborsClassifier(n_neighbors=20,weights=\"distance\")\r\n",
        "#p=2:유클리드거리계산\r\n",
        "knn.fit(x_train_std,y_train)"
      ],
      "execution_count": null,
      "outputs": [
        {
          "output_type": "execute_result",
          "data": {
            "text/plain": [
              "KNeighborsClassifier(algorithm='auto', leaf_size=30, metric='minkowski',\n",
              "                     metric_params=None, n_jobs=None, n_neighbors=20, p=2,\n",
              "                     weights='distance')"
            ]
          },
          "metadata": {
            "tags": []
          },
          "execution_count": 61
        }
      ]
    },
    {
      "cell_type": "code",
      "metadata": {
        "id": "BYPo3-BfOjgV",
        "colab": {
          "base_uri": "https://localhost:8080/"
        },
        "outputId": "a49282d1-1f8c-48d7-9106-71467e2c01c2"
      },
      "source": [
        "print(accuracy_score(y_train,y_train_pred))"
      ],
      "execution_count": null,
      "outputs": [
        {
          "output_type": "stream",
          "text": [
            "1.0\n"
          ],
          "name": "stdout"
        }
      ]
    },
    {
      "cell_type": "code",
      "metadata": {
        "id": "VBBrVS4yOi6G"
      },
      "source": [
        "submit['diagnosis']=y_test_pred\r\n",
        "submit.to_csv(\"submit.csv\", mode='w',index=False)\r\n",
        "#!kaggle competitions submit -c 2020ml1re -f submit.csv -m \"Logistic Regression std n_neighbors=20\""
      ],
      "execution_count": null,
      "outputs": []
    },
    {
      "cell_type": "markdown",
      "metadata": {
        "id": "1aTqSNiGN0WE"
      },
      "source": [
        "n_neighbors=3,10,20,weights=\"distance\" 설정 모두 score=0.92397"
      ]
    },
    {
      "cell_type": "markdown",
      "metadata": {
        "id": "DSfAvxpNS2iu"
      },
      "source": [
        "##LDA"
      ]
    },
    {
      "cell_type": "code",
      "metadata": {
        "id": "xc1OV0iZS27s"
      },
      "source": [
        "lda=LinearDiscriminantAnalysis(store_covariance=True,n_components=30)"
      ],
      "execution_count": null,
      "outputs": []
    },
    {
      "cell_type": "code",
      "metadata": {
        "colab": {
          "base_uri": "https://localhost:8080/"
        },
        "id": "As-hx82dTEFg",
        "outputId": "139a43bf-8354-471f-f134-8c44a27b4006"
      },
      "source": [
        "lda.fit(x_train_std,y_train)\r\n",
        "y_train_pred=lda.predict(x_train_std)\r\n",
        "y_test_pred=lda.predict(test_std)\r\n",
        "\r\n",
        "print(accuracy_score(y_train,y_train_pred))"
      ],
      "execution_count": null,
      "outputs": [
        {
          "output_type": "stream",
          "text": [
            "0.9698492462311558\n"
          ],
          "name": "stdout"
        },
        {
          "output_type": "stream",
          "text": [
            "/usr/local/lib/python3.6/dist-packages/sklearn/discriminant_analysis.py:463: ChangedBehaviorWarning: n_components cannot be larger than min(n_features, n_classes - 1). Using min(n_features, n_classes - 1) = min(30, 2 - 1) = 1 components.\n",
            "  ChangedBehaviorWarning)\n",
            "/usr/local/lib/python3.6/dist-packages/sklearn/discriminant_analysis.py:469: FutureWarning: In version 0.23, setting n_components > min(n_features, n_classes - 1) will raise a ValueError. You should set n_components to None (default), or a value smaller or equal to min(n_features, n_classes - 1).\n",
            "  warnings.warn(future_msg, FutureWarning)\n"
          ],
          "name": "stderr"
        }
      ]
    },
    {
      "cell_type": "code",
      "metadata": {
        "id": "eUIXF0mYTHPt"
      },
      "source": [
        "submit['diagnosis']=y_test_pred\r\n",
        "submit.to_csv('submit.csv',mode='w', index=False)\r\n",
        "#!kaggle competitions submit -c 2020ml1re -f submit.csv -m \"LDA std n_components=30\""
      ],
      "execution_count": null,
      "outputs": []
    },
    {
      "cell_type": "markdown",
      "metadata": {
        "id": "1l10MtXtTV-c"
      },
      "source": [
        "n_components=10 score=0.94152/\r\n",
        "n_components=5 score=0.94152/\r\n",
        "n_components=30 score=0.94152"
      ]
    },
    {
      "cell_type": "markdown",
      "metadata": {
        "id": "nbu9Ro0KUhVP"
      },
      "source": [
        "##Decision Tree"
      ]
    },
    {
      "cell_type": "code",
      "metadata": {
        "colab": {
          "base_uri": "https://localhost:8080/"
        },
        "id": "9tNkIwqMUfDi",
        "outputId": "524dedbd-2509-4778-b06a-051ec63d1534"
      },
      "source": [
        "from sklearn.tree import DecisionTreeClassifier\r\n",
        "dtc=DecisionTreeClassifier(max_depth=5,random_state=1,criterion='entropy', splitter='best')\r\n",
        "dtc.fit(x_train_std,y_train)"
      ],
      "execution_count": null,
      "outputs": [
        {
          "output_type": "execute_result",
          "data": {
            "text/plain": [
              "DecisionTreeClassifier(ccp_alpha=0.0, class_weight=None, criterion='entropy',\n",
              "                       max_depth=5, max_features=None, max_leaf_nodes=None,\n",
              "                       min_impurity_decrease=0.0, min_impurity_split=None,\n",
              "                       min_samples_leaf=1, min_samples_split=2,\n",
              "                       min_weight_fraction_leaf=0.0, presort='deprecated',\n",
              "                       random_state=1, splitter='best')"
            ]
          },
          "metadata": {
            "tags": []
          },
          "execution_count": 67
        }
      ]
    },
    {
      "cell_type": "code",
      "metadata": {
        "colab": {
          "base_uri": "https://localhost:8080/"
        },
        "id": "vTnSXGELUzmL",
        "outputId": "17af7b41-84c2-495d-9b44-51af0d8949c4"
      },
      "source": [
        "y_train_pred=dtc.predict(x_train_std)\r\n",
        "y_test_pred=dtc.predict(test_std)\r\n",
        "\r\n",
        "print(accuracy_score(y_train,y_train_pred))"
      ],
      "execution_count": null,
      "outputs": [
        {
          "output_type": "stream",
          "text": [
            "0.992462311557789\n"
          ],
          "name": "stdout"
        }
      ]
    },
    {
      "cell_type": "code",
      "metadata": {
        "id": "tI-xwXFfVJu7"
      },
      "source": [
        "submit['diagnosis']=y_test_pred\r\n",
        "submit.to_csv(\"submit.csv\", mode='w',index=False)\r\n",
        "#!kaggle competitions submit -c 2020ml1re -f submit.csv -m \"Decision Tree max_depth=5 std max_depth=5,random_state=1,criterion='entropy', splitter='best'\""
      ],
      "execution_count": null,
      "outputs": []
    },
    {
      "cell_type": "markdown",
      "metadata": {
        "id": "404f7O4KVhld"
      },
      "source": [
        "max_depth=5,random_state=1,criterion='gini', splitter='best' score=0.95906/\r\n",
        "max_depth=5,random_state=1,criterion='gini', splitter='random' score=0.91228/\r\n",
        "max_depth=5,random_state=1,criterion='entropy', splitter='best' score=0.91812"
      ]
    }
  ]
}