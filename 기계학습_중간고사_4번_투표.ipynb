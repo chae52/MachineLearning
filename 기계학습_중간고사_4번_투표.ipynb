{
  "nbformat": 4,
  "nbformat_minor": 0,
  "metadata": {
    "colab": {
      "name": "기계학습_중간고사_4번_투표",
      "provenance": [],
      "collapsed_sections": [
        "uoJL6KTMqCa7",
        "PcspUqOS0vaF",
        "E1e6BruP4lBy",
        "ZEsLReTw5NwQ",
        "nv6N-LrP5Xgp",
        "atlRpMM95uC6"
      ],
      "toc_visible": true,
      "authorship_tag": "ABX9TyN6q4P/W6Y5KEUbfBEQFIHk",
      "include_colab_link": true
    },
    "kernelspec": {
      "name": "python3",
      "display_name": "Python 3"
    }
  },
  "cells": [
    {
      "cell_type": "markdown",
      "metadata": {
        "id": "view-in-github",
        "colab_type": "text"
      },
      "source": [
        "<a href=\"https://colab.research.google.com/github/chae52/MachineLearning/blob/main/%EA%B8%B0%EA%B3%84%ED%95%99%EC%8A%B5_%EC%A4%91%EA%B0%84%EA%B3%A0%EC%82%AC_4%EB%B2%88_%ED%88%AC%ED%91%9C.ipynb\" target=\"_parent\"><img src=\"https://colab.research.google.com/assets/colab-badge.svg\" alt=\"Open In Colab\"/></a>"
      ]
    },
    {
      "cell_type": "markdown",
      "metadata": {
        "id": "5Ontb4PO7gqc"
      },
      "source": [
        "#Kaggle Setting"
      ]
    },
    {
      "cell_type": "code",
      "metadata": {
        "colab": {
          "resources": {
            "http://localhost:8080/nbextensions/google.colab/files.js": {
              "data": "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",
              "ok": true,
              "headers": [
                [
                  "content-type",
                  "application/javascript"
                ]
              ],
              "status": 200,
              "status_text": ""
            }
          },
          "base_uri": "https://localhost:8080/",
          "height": 287
        },
        "id": "2kDTRPkA7iek",
        "outputId": "bc828229-10f8-4dc0-8ae1-c5da362bd854"
      },
      "source": [
        "!pip install kaggle\r\n",
        "from google.colab import files\r\n",
        "#kaggle.json 파일 업로드\r\n",
        "files.upload()"
      ],
      "execution_count": 162,
      "outputs": [
        {
          "output_type": "stream",
          "text": [
            "Requirement already satisfied: kaggle in /usr/local/lib/python3.6/dist-packages (1.5.10)\n",
            "Requirement already satisfied: python-slugify in /usr/local/lib/python3.6/dist-packages (from kaggle) (4.0.1)\n",
            "Requirement already satisfied: certifi in /usr/local/lib/python3.6/dist-packages (from kaggle) (2020.12.5)\n",
            "Requirement already satisfied: six>=1.10 in /usr/local/lib/python3.6/dist-packages (from kaggle) (1.15.0)\n",
            "Requirement already satisfied: python-dateutil in /usr/local/lib/python3.6/dist-packages (from kaggle) (2.8.1)\n",
            "Requirement already satisfied: requests in /usr/local/lib/python3.6/dist-packages (from kaggle) (2.23.0)\n",
            "Requirement already satisfied: urllib3 in /usr/local/lib/python3.6/dist-packages (from kaggle) (1.24.3)\n",
            "Requirement already satisfied: tqdm in /usr/local/lib/python3.6/dist-packages (from kaggle) (4.41.1)\n",
            "Requirement already satisfied: text-unidecode>=1.3 in /usr/local/lib/python3.6/dist-packages (from python-slugify->kaggle) (1.3)\n",
            "Requirement already satisfied: chardet<4,>=3.0.2 in /usr/local/lib/python3.6/dist-packages (from requests->kaggle) (3.0.4)\n",
            "Requirement already satisfied: idna<3,>=2.5 in /usr/local/lib/python3.6/dist-packages (from requests->kaggle) (2.10)\n"
          ],
          "name": "stdout"
        },
        {
          "output_type": "display_data",
          "data": {
            "text/html": [
              "\n",
              "     <input type=\"file\" id=\"files-ab4aca28-8fdf-4583-b0be-d6be84c0a619\" name=\"files[]\" multiple disabled\n",
              "        style=\"border:none\" />\n",
              "     <output id=\"result-ab4aca28-8fdf-4583-b0be-d6be84c0a619\">\n",
              "      Upload widget is only available when the cell has been executed in the\n",
              "      current browser session. Please rerun this cell to enable.\n",
              "      </output>\n",
              "      <script src=\"/nbextensions/google.colab/files.js\"></script> "
            ],
            "text/plain": [
              "<IPython.core.display.HTML object>"
            ]
          },
          "metadata": {
            "tags": []
          }
        },
        {
          "output_type": "stream",
          "text": [
            "Saving kaggle.json to kaggle (1).json\n"
          ],
          "name": "stdout"
        },
        {
          "output_type": "execute_result",
          "data": {
            "text/plain": [
              "{'kaggle.json': b'{\"username\":\"chae52\",\"key\":\"7da198707d3eafd371c445d1f050221a\"}'}"
            ]
          },
          "metadata": {
            "tags": []
          },
          "execution_count": 162
        }
      ]
    },
    {
      "cell_type": "code",
      "metadata": {
        "id": "i9htfwMN7rGP"
      },
      "source": [
        "#json 파일을 ~/.kaggle로 이동시키기\r\n",
        "#mkdir=폴더 만들기\r\n",
        "!mkdir -p ~/.kaggle\r\n",
        "#cp=copy\r\n",
        "!cp kaggle.json ~/.kaggle/\r\n",
        "\r\n",
        "#Permission Warning 이 일어나지 않도록\r\n",
        "#chmod:파일을 권한 변경\r\n",
        "#600:read/write...\r\n",
        "!chmod 600 ~/.kaggle/kaggle.json"
      ],
      "execution_count": 163,
      "outputs": []
    },
    {
      "cell_type": "code",
      "metadata": {
        "colab": {
          "base_uri": "https://localhost:8080/"
        },
        "id": "jASxyaSN7uiT",
        "outputId": "d996ac2b-59b8-48e8-8b6f-b7c6fda0bf9f"
      },
      "source": [
        "!ls -lha kaggle.json\r\n",
        "!kaggle -v"
      ],
      "execution_count": 164,
      "outputs": [
        {
          "output_type": "stream",
          "text": [
            "-rw-r--r-- 1 root root 62 Feb 23 14:29 kaggle.json\n",
            "Kaggle API 1.5.10\n"
          ],
          "name": "stdout"
        }
      ]
    },
    {
      "cell_type": "code",
      "metadata": {
        "colab": {
          "base_uri": "https://localhost:8080/"
        },
        "id": "1op8xjkB7u8n",
        "outputId": "f1b015e4-1733-4ce0-b537-1c31da2e80ff"
      },
      "source": [
        "!pip uninstall -y kaggle\r\n",
        "!pip install --upgrade pip\r\n",
        "!pip install kaggle==1.5.10"
      ],
      "execution_count": 165,
      "outputs": [
        {
          "output_type": "stream",
          "text": [
            "Found existing installation: kaggle 1.5.10\n",
            "Uninstalling kaggle-1.5.10:\n",
            "  Successfully uninstalled kaggle-1.5.10\n",
            "Requirement already satisfied: pip in /usr/local/lib/python3.6/dist-packages (21.0.1)\n",
            "Collecting kaggle==1.5.10\n",
            "  Using cached kaggle-1.5.10-py3-none-any.whl\n",
            "Requirement already satisfied: urllib3 in /usr/local/lib/python3.6/dist-packages (from kaggle==1.5.10) (1.24.3)\n",
            "Requirement already satisfied: python-slugify in /usr/local/lib/python3.6/dist-packages (from kaggle==1.5.10) (4.0.1)\n",
            "Requirement already satisfied: six>=1.10 in /usr/local/lib/python3.6/dist-packages (from kaggle==1.5.10) (1.15.0)\n",
            "Requirement already satisfied: requests in /usr/local/lib/python3.6/dist-packages (from kaggle==1.5.10) (2.23.0)\n",
            "Requirement already satisfied: tqdm in /usr/local/lib/python3.6/dist-packages (from kaggle==1.5.10) (4.41.1)\n",
            "Requirement already satisfied: python-dateutil in /usr/local/lib/python3.6/dist-packages (from kaggle==1.5.10) (2.8.1)\n",
            "Requirement already satisfied: certifi in /usr/local/lib/python3.6/dist-packages (from kaggle==1.5.10) (2020.12.5)\n",
            "Requirement already satisfied: text-unidecode>=1.3 in /usr/local/lib/python3.6/dist-packages (from python-slugify->kaggle==1.5.10) (1.3)\n",
            "Requirement already satisfied: idna<3,>=2.5 in /usr/local/lib/python3.6/dist-packages (from requests->kaggle==1.5.10) (2.10)\n",
            "Requirement already satisfied: chardet<4,>=3.0.2 in /usr/local/lib/python3.6/dist-packages (from requests->kaggle==1.5.10) (3.0.4)\n",
            "Installing collected packages: kaggle\n",
            "Successfully installed kaggle-1.5.10\n"
          ],
          "name": "stdout"
        }
      ]
    },
    {
      "cell_type": "markdown",
      "metadata": {
        "id": "YyeWqDofQe--"
      },
      "source": [
        "#Data Load"
      ]
    },
    {
      "cell_type": "code",
      "metadata": {
        "colab": {
          "base_uri": "https://localhost:8080/"
        },
        "id": "WRsJSapjQddA",
        "outputId": "27f18e78-bf1b-4b59-8a3e-ce9e361c542a"
      },
      "source": [
        "!kaggle competitions download -c 2020ml4re"
      ],
      "execution_count": 166,
      "outputs": [
        {
          "output_type": "stream",
          "text": [
            "2020ml4re.zip: Skipping, found more recently modified local copy (use --force to force download)\n"
          ],
          "name": "stdout"
        }
      ]
    },
    {
      "cell_type": "code",
      "metadata": {
        "colab": {
          "base_uri": "https://localhost:8080/"
        },
        "id": "f0lzjj89QiQC",
        "outputId": "905bad98-1fcf-43ca-8361-efef6b028b26"
      },
      "source": [
        "!unzip 2020ml4re.zip"
      ],
      "execution_count": 167,
      "outputs": [
        {
          "output_type": "stream",
          "text": [
            "Archive:  2020ml4re.zip\n",
            "replace sampleSubmission.csv? [y]es, [n]o, [A]ll, [N]one, [r]ename: A\n",
            "  inflating: sampleSubmission.csv    \n",
            "  inflating: test.csv                \n",
            "  inflating: train.csv               \n"
          ],
          "name": "stdout"
        }
      ]
    },
    {
      "cell_type": "code",
      "metadata": {
        "id": "5mveZhXQQnTe"
      },
      "source": [
        "import pandas as pd\r\n",
        "test=pd.read_csv(\"test.csv\",index_col=0)\r\n",
        "train=pd.read_csv(\"train.csv\",index_col=0)\r\n",
        "submit=pd.read_csv(\"sampleSubmission.csv\",index_col=0)"
      ],
      "execution_count": 168,
      "outputs": []
    },
    {
      "cell_type": "code",
      "metadata": {
        "colab": {
          "base_uri": "https://localhost:8080/",
          "height": 245
        },
        "id": "n-5Io9cVQ2Xj",
        "outputId": "a6f1187f-d832-4b7f-f27d-165a621de0bc"
      },
      "source": [
        "train.head()"
      ],
      "execution_count": 169,
      "outputs": [
        {
          "output_type": "execute_result",
          "data": {
            "text/html": [
              "<div>\n",
              "<style scoped>\n",
              "    .dataframe tbody tr th:only-of-type {\n",
              "        vertical-align: middle;\n",
              "    }\n",
              "\n",
              "    .dataframe tbody tr th {\n",
              "        vertical-align: top;\n",
              "    }\n",
              "\n",
              "    .dataframe thead th {\n",
              "        text-align: right;\n",
              "    }\n",
              "</style>\n",
              "<table border=\"1\" class=\"dataframe\">\n",
              "  <thead>\n",
              "    <tr style=\"text-align: right;\">\n",
              "      <th></th>\n",
              "      <th>QaA</th>\n",
              "      <th>QaE</th>\n",
              "      <th>QbA</th>\n",
              "      <th>QbE</th>\n",
              "      <th>QcA</th>\n",
              "      <th>QcE</th>\n",
              "      <th>QdA</th>\n",
              "      <th>QdE</th>\n",
              "      <th>QeA</th>\n",
              "      <th>QeE</th>\n",
              "      <th>QfA</th>\n",
              "      <th>QfE</th>\n",
              "      <th>QgA</th>\n",
              "      <th>QgE</th>\n",
              "      <th>QhA</th>\n",
              "      <th>QhE</th>\n",
              "      <th>QiA</th>\n",
              "      <th>QiE</th>\n",
              "      <th>QjA</th>\n",
              "      <th>QjE</th>\n",
              "      <th>QkA</th>\n",
              "      <th>QkE</th>\n",
              "      <th>QlA</th>\n",
              "      <th>QlE</th>\n",
              "      <th>QmA</th>\n",
              "      <th>QmE</th>\n",
              "      <th>QnA</th>\n",
              "      <th>QnE</th>\n",
              "      <th>QoA</th>\n",
              "      <th>QoE</th>\n",
              "      <th>QpA</th>\n",
              "      <th>QpE</th>\n",
              "      <th>QqA</th>\n",
              "      <th>QqE</th>\n",
              "      <th>QrA</th>\n",
              "      <th>QrE</th>\n",
              "      <th>QsA</th>\n",
              "      <th>QsE</th>\n",
              "      <th>QtA</th>\n",
              "      <th>QtE</th>\n",
              "      <th>age_group</th>\n",
              "      <th>education</th>\n",
              "      <th>engnat</th>\n",
              "      <th>familysize</th>\n",
              "      <th>gender</th>\n",
              "      <th>hand</th>\n",
              "      <th>married</th>\n",
              "      <th>race</th>\n",
              "      <th>religion</th>\n",
              "      <th>tp01</th>\n",
              "      <th>tp02</th>\n",
              "      <th>tp03</th>\n",
              "      <th>tp04</th>\n",
              "      <th>tp05</th>\n",
              "      <th>tp06</th>\n",
              "      <th>tp07</th>\n",
              "      <th>tp08</th>\n",
              "      <th>tp09</th>\n",
              "      <th>tp10</th>\n",
              "      <th>urban</th>\n",
              "      <th>wf_01</th>\n",
              "      <th>wf_02</th>\n",
              "      <th>wf_03</th>\n",
              "      <th>wr_01</th>\n",
              "      <th>wr_02</th>\n",
              "      <th>wr_03</th>\n",
              "      <th>wr_04</th>\n",
              "      <th>wr_05</th>\n",
              "      <th>wr_06</th>\n",
              "      <th>wr_07</th>\n",
              "      <th>wr_08</th>\n",
              "      <th>wr_09</th>\n",
              "      <th>wr_10</th>\n",
              "      <th>wr_11</th>\n",
              "      <th>wr_12</th>\n",
              "      <th>wr_13</th>\n",
              "      <th>voted</th>\n",
              "    </tr>\n",
              "    <tr>\n",
              "      <th>index</th>\n",
              "      <th></th>\n",
              "      <th></th>\n",
              "      <th></th>\n",
              "      <th></th>\n",
              "      <th></th>\n",
              "      <th></th>\n",
              "      <th></th>\n",
              "      <th></th>\n",
              "      <th></th>\n",
              "      <th></th>\n",
              "      <th></th>\n",
              "      <th></th>\n",
              "      <th></th>\n",
              "      <th></th>\n",
              "      <th></th>\n",
              "      <th></th>\n",
              "      <th></th>\n",
              "      <th></th>\n",
              "      <th></th>\n",
              "      <th></th>\n",
              "      <th></th>\n",
              "      <th></th>\n",
              "      <th></th>\n",
              "      <th></th>\n",
              "      <th></th>\n",
              "      <th></th>\n",
              "      <th></th>\n",
              "      <th></th>\n",
              "      <th></th>\n",
              "      <th></th>\n",
              "      <th></th>\n",
              "      <th></th>\n",
              "      <th></th>\n",
              "      <th></th>\n",
              "      <th></th>\n",
              "      <th></th>\n",
              "      <th></th>\n",
              "      <th></th>\n",
              "      <th></th>\n",
              "      <th></th>\n",
              "      <th></th>\n",
              "      <th></th>\n",
              "      <th></th>\n",
              "      <th></th>\n",
              "      <th></th>\n",
              "      <th></th>\n",
              "      <th></th>\n",
              "      <th></th>\n",
              "      <th></th>\n",
              "      <th></th>\n",
              "      <th></th>\n",
              "      <th></th>\n",
              "      <th></th>\n",
              "      <th></th>\n",
              "      <th></th>\n",
              "      <th></th>\n",
              "      <th></th>\n",
              "      <th></th>\n",
              "      <th></th>\n",
              "      <th></th>\n",
              "      <th></th>\n",
              "      <th></th>\n",
              "      <th></th>\n",
              "      <th></th>\n",
              "      <th></th>\n",
              "      <th></th>\n",
              "      <th></th>\n",
              "      <th></th>\n",
              "      <th></th>\n",
              "      <th></th>\n",
              "      <th></th>\n",
              "      <th></th>\n",
              "      <th></th>\n",
              "      <th></th>\n",
              "      <th></th>\n",
              "      <th></th>\n",
              "      <th></th>\n",
              "    </tr>\n",
              "  </thead>\n",
              "  <tbody>\n",
              "    <tr>\n",
              "      <th>2</th>\n",
              "      <td>4.0</td>\n",
              "      <td>1623</td>\n",
              "      <td>1.0</td>\n",
              "      <td>1480</td>\n",
              "      <td>1.0</td>\n",
              "      <td>1021</td>\n",
              "      <td>4.0</td>\n",
              "      <td>3374</td>\n",
              "      <td>5.0</td>\n",
              "      <td>1333</td>\n",
              "      <td>1.0</td>\n",
              "      <td>531</td>\n",
              "      <td>4.0</td>\n",
              "      <td>1167</td>\n",
              "      <td>1.0</td>\n",
              "      <td>1016</td>\n",
              "      <td>3.0</td>\n",
              "      <td>2653</td>\n",
              "      <td>2.0</td>\n",
              "      <td>1569</td>\n",
              "      <td>5.0</td>\n",
              "      <td>998</td>\n",
              "      <td>5.0</td>\n",
              "      <td>2547</td>\n",
              "      <td>2.0</td>\n",
              "      <td>918</td>\n",
              "      <td>4.0</td>\n",
              "      <td>2153</td>\n",
              "      <td>2.0</td>\n",
              "      <td>1304</td>\n",
              "      <td>1.0</td>\n",
              "      <td>1131</td>\n",
              "      <td>5.0</td>\n",
              "      <td>937</td>\n",
              "      <td>4.0</td>\n",
              "      <td>1327</td>\n",
              "      <td>1.0</td>\n",
              "      <td>1170</td>\n",
              "      <td>1.0</td>\n",
              "      <td>1409</td>\n",
              "      <td>30s</td>\n",
              "      <td>3</td>\n",
              "      <td>1</td>\n",
              "      <td>3</td>\n",
              "      <td>Male</td>\n",
              "      <td>1</td>\n",
              "      <td>2</td>\n",
              "      <td>White</td>\n",
              "      <td>Other</td>\n",
              "      <td>2</td>\n",
              "      <td>3</td>\n",
              "      <td>1</td>\n",
              "      <td>5</td>\n",
              "      <td>3</td>\n",
              "      <td>4</td>\n",
              "      <td>2</td>\n",
              "      <td>6</td>\n",
              "      <td>1</td>\n",
              "      <td>3</td>\n",
              "      <td>2</td>\n",
              "      <td>0</td>\n",
              "      <td>0</td>\n",
              "      <td>1</td>\n",
              "      <td>1</td>\n",
              "      <td>1</td>\n",
              "      <td>0</td>\n",
              "      <td>1</td>\n",
              "      <td>1</td>\n",
              "      <td>0</td>\n",
              "      <td>1</td>\n",
              "      <td>1</td>\n",
              "      <td>1</td>\n",
              "      <td>1</td>\n",
              "      <td>0</td>\n",
              "      <td>1</td>\n",
              "      <td>1</td>\n",
              "      <td>1</td>\n",
              "    </tr>\n",
              "    <tr>\n",
              "      <th>3</th>\n",
              "      <td>3.0</td>\n",
              "      <td>504</td>\n",
              "      <td>3.0</td>\n",
              "      <td>2311</td>\n",
              "      <td>4.0</td>\n",
              "      <td>992</td>\n",
              "      <td>3.0</td>\n",
              "      <td>3245</td>\n",
              "      <td>1.0</td>\n",
              "      <td>357</td>\n",
              "      <td>2.0</td>\n",
              "      <td>1519</td>\n",
              "      <td>4.0</td>\n",
              "      <td>159</td>\n",
              "      <td>3.0</td>\n",
              "      <td>2275</td>\n",
              "      <td>5.0</td>\n",
              "      <td>2809</td>\n",
              "      <td>4.0</td>\n",
              "      <td>5614</td>\n",
              "      <td>3.0</td>\n",
              "      <td>3219</td>\n",
              "      <td>4.0</td>\n",
              "      <td>1296</td>\n",
              "      <td>4.0</td>\n",
              "      <td>9046</td>\n",
              "      <td>4.0</td>\n",
              "      <td>1216</td>\n",
              "      <td>4.0</td>\n",
              "      <td>1169</td>\n",
              "      <td>4.0</td>\n",
              "      <td>23868</td>\n",
              "      <td>3.0</td>\n",
              "      <td>581</td>\n",
              "      <td>4.0</td>\n",
              "      <td>8830</td>\n",
              "      <td>4.0</td>\n",
              "      <td>2392</td>\n",
              "      <td>5.0</td>\n",
              "      <td>1312</td>\n",
              "      <td>20s</td>\n",
              "      <td>4</td>\n",
              "      <td>2</td>\n",
              "      <td>0</td>\n",
              "      <td>Female</td>\n",
              "      <td>1</td>\n",
              "      <td>1</td>\n",
              "      <td>Asian</td>\n",
              "      <td>Hindu</td>\n",
              "      <td>2</td>\n",
              "      <td>4</td>\n",
              "      <td>1</td>\n",
              "      <td>1</td>\n",
              "      <td>1</td>\n",
              "      <td>3</td>\n",
              "      <td>1</td>\n",
              "      <td>3</td>\n",
              "      <td>1</td>\n",
              "      <td>3</td>\n",
              "      <td>3</td>\n",
              "      <td>0</td>\n",
              "      <td>0</td>\n",
              "      <td>0</td>\n",
              "      <td>0</td>\n",
              "      <td>1</td>\n",
              "      <td>0</td>\n",
              "      <td>0</td>\n",
              "      <td>0</td>\n",
              "      <td>0</td>\n",
              "      <td>0</td>\n",
              "      <td>1</td>\n",
              "      <td>0</td>\n",
              "      <td>1</td>\n",
              "      <td>0</td>\n",
              "      <td>1</td>\n",
              "      <td>1</td>\n",
              "      <td>1</td>\n",
              "    </tr>\n",
              "    <tr>\n",
              "      <th>5</th>\n",
              "      <td>2.0</td>\n",
              "      <td>834</td>\n",
              "      <td>1.0</td>\n",
              "      <td>1769</td>\n",
              "      <td>4.0</td>\n",
              "      <td>2105</td>\n",
              "      <td>1.0</td>\n",
              "      <td>1070</td>\n",
              "      <td>5.0</td>\n",
              "      <td>1930</td>\n",
              "      <td>2.0</td>\n",
              "      <td>1258</td>\n",
              "      <td>5.0</td>\n",
              "      <td>1451</td>\n",
              "      <td>1.0</td>\n",
              "      <td>1029</td>\n",
              "      <td>3.0</td>\n",
              "      <td>1633</td>\n",
              "      <td>1.0</td>\n",
              "      <td>2254</td>\n",
              "      <td>5.0</td>\n",
              "      <td>1984</td>\n",
              "      <td>1.0</td>\n",
              "      <td>1158</td>\n",
              "      <td>3.0</td>\n",
              "      <td>1194</td>\n",
              "      <td>3.0</td>\n",
              "      <td>483</td>\n",
              "      <td>1.0</td>\n",
              "      <td>983</td>\n",
              "      <td>1.0</td>\n",
              "      <td>817</td>\n",
              "      <td>5.0</td>\n",
              "      <td>1052</td>\n",
              "      <td>1.0</td>\n",
              "      <td>1354</td>\n",
              "      <td>1.0</td>\n",
              "      <td>747</td>\n",
              "      <td>2.0</td>\n",
              "      <td>1826</td>\n",
              "      <td>40s</td>\n",
              "      <td>2</td>\n",
              "      <td>1</td>\n",
              "      <td>6</td>\n",
              "      <td>Female</td>\n",
              "      <td>1</td>\n",
              "      <td>3</td>\n",
              "      <td>White</td>\n",
              "      <td>Other</td>\n",
              "      <td>5</td>\n",
              "      <td>5</td>\n",
              "      <td>5</td>\n",
              "      <td>4</td>\n",
              "      <td>5</td>\n",
              "      <td>3</td>\n",
              "      <td>3</td>\n",
              "      <td>7</td>\n",
              "      <td>5</td>\n",
              "      <td>3</td>\n",
              "      <td>2</td>\n",
              "      <td>0</td>\n",
              "      <td>0</td>\n",
              "      <td>0</td>\n",
              "      <td>0</td>\n",
              "      <td>1</td>\n",
              "      <td>0</td>\n",
              "      <td>0</td>\n",
              "      <td>0</td>\n",
              "      <td>0</td>\n",
              "      <td>0</td>\n",
              "      <td>1</td>\n",
              "      <td>0</td>\n",
              "      <td>0</td>\n",
              "      <td>0</td>\n",
              "      <td>0</td>\n",
              "      <td>0</td>\n",
              "      <td>2</td>\n",
              "    </tr>\n",
              "    <tr>\n",
              "      <th>8</th>\n",
              "      <td>5.0</td>\n",
              "      <td>795</td>\n",
              "      <td>2.0</td>\n",
              "      <td>3469</td>\n",
              "      <td>4.0</td>\n",
              "      <td>1693</td>\n",
              "      <td>3.0</td>\n",
              "      <td>1991</td>\n",
              "      <td>4.0</td>\n",
              "      <td>5922</td>\n",
              "      <td>2.0</td>\n",
              "      <td>1322</td>\n",
              "      <td>5.0</td>\n",
              "      <td>1014</td>\n",
              "      <td>5.0</td>\n",
              "      <td>3014</td>\n",
              "      <td>3.0</td>\n",
              "      <td>3771</td>\n",
              "      <td>3.0</td>\n",
              "      <td>13295</td>\n",
              "      <td>5.0</td>\n",
              "      <td>3605</td>\n",
              "      <td>3.0</td>\n",
              "      <td>9265</td>\n",
              "      <td>4.0</td>\n",
              "      <td>2531</td>\n",
              "      <td>1.0</td>\n",
              "      <td>812</td>\n",
              "      <td>4.0</td>\n",
              "      <td>2595</td>\n",
              "      <td>5.0</td>\n",
              "      <td>1227</td>\n",
              "      <td>5.0</td>\n",
              "      <td>1837</td>\n",
              "      <td>4.0</td>\n",
              "      <td>1218</td>\n",
              "      <td>4.0</td>\n",
              "      <td>9923</td>\n",
              "      <td>5.0</td>\n",
              "      <td>1631</td>\n",
              "      <td>20s</td>\n",
              "      <td>4</td>\n",
              "      <td>2</td>\n",
              "      <td>0</td>\n",
              "      <td>Female</td>\n",
              "      <td>2</td>\n",
              "      <td>1</td>\n",
              "      <td>Other</td>\n",
              "      <td>Christian_Other</td>\n",
              "      <td>1</td>\n",
              "      <td>1</td>\n",
              "      <td>2</td>\n",
              "      <td>1</td>\n",
              "      <td>2</td>\n",
              "      <td>2</td>\n",
              "      <td>2</td>\n",
              "      <td>2</td>\n",
              "      <td>2</td>\n",
              "      <td>3</td>\n",
              "      <td>1</td>\n",
              "      <td>0</td>\n",
              "      <td>0</td>\n",
              "      <td>0</td>\n",
              "      <td>0</td>\n",
              "      <td>0</td>\n",
              "      <td>0</td>\n",
              "      <td>0</td>\n",
              "      <td>0</td>\n",
              "      <td>0</td>\n",
              "      <td>0</td>\n",
              "      <td>1</td>\n",
              "      <td>0</td>\n",
              "      <td>0</td>\n",
              "      <td>0</td>\n",
              "      <td>1</td>\n",
              "      <td>1</td>\n",
              "      <td>1</td>\n",
              "    </tr>\n",
              "    <tr>\n",
              "      <th>9</th>\n",
              "      <td>2.0</td>\n",
              "      <td>1668</td>\n",
              "      <td>1.0</td>\n",
              "      <td>866</td>\n",
              "      <td>1.0</td>\n",
              "      <td>895</td>\n",
              "      <td>1.0</td>\n",
              "      <td>1308</td>\n",
              "      <td>2.0</td>\n",
              "      <td>1715</td>\n",
              "      <td>5.0</td>\n",
              "      <td>563</td>\n",
              "      <td>5.0</td>\n",
              "      <td>574</td>\n",
              "      <td>1.0</td>\n",
              "      <td>1406</td>\n",
              "      <td>5.0</td>\n",
              "      <td>1698</td>\n",
              "      <td>3.0</td>\n",
              "      <td>1354</td>\n",
              "      <td>5.0</td>\n",
              "      <td>774</td>\n",
              "      <td>1.0</td>\n",
              "      <td>1299</td>\n",
              "      <td>1.0</td>\n",
              "      <td>810</td>\n",
              "      <td>5.0</td>\n",
              "      <td>327</td>\n",
              "      <td>1.0</td>\n",
              "      <td>646</td>\n",
              "      <td>1.0</td>\n",
              "      <td>957</td>\n",
              "      <td>4.0</td>\n",
              "      <td>850</td>\n",
              "      <td>5.0</td>\n",
              "      <td>693</td>\n",
              "      <td>1.0</td>\n",
              "      <td>1313</td>\n",
              "      <td>1.0</td>\n",
              "      <td>986</td>\n",
              "      <td>50s</td>\n",
              "      <td>3</td>\n",
              "      <td>1</td>\n",
              "      <td>3</td>\n",
              "      <td>Female</td>\n",
              "      <td>1</td>\n",
              "      <td>1</td>\n",
              "      <td>White</td>\n",
              "      <td>Christian_Other</td>\n",
              "      <td>0</td>\n",
              "      <td>1</td>\n",
              "      <td>1</td>\n",
              "      <td>2</td>\n",
              "      <td>0</td>\n",
              "      <td>3</td>\n",
              "      <td>0</td>\n",
              "      <td>4</td>\n",
              "      <td>1</td>\n",
              "      <td>5</td>\n",
              "      <td>2</td>\n",
              "      <td>0</td>\n",
              "      <td>0</td>\n",
              "      <td>1</td>\n",
              "      <td>1</td>\n",
              "      <td>1</td>\n",
              "      <td>0</td>\n",
              "      <td>1</td>\n",
              "      <td>1</td>\n",
              "      <td>0</td>\n",
              "      <td>1</td>\n",
              "      <td>1</td>\n",
              "      <td>0</td>\n",
              "      <td>1</td>\n",
              "      <td>1</td>\n",
              "      <td>1</td>\n",
              "      <td>1</td>\n",
              "      <td>1</td>\n",
              "    </tr>\n",
              "  </tbody>\n",
              "</table>\n",
              "</div>"
            ],
            "text/plain": [
              "       QaA   QaE  QbA   QbE  QcA  ...  wr_10  wr_11  wr_12  wr_13  voted\n",
              "index                             ...                                   \n",
              "2      4.0  1623  1.0  1480  1.0  ...      1      0      1      1      1\n",
              "3      3.0   504  3.0  2311  4.0  ...      1      0      1      1      1\n",
              "5      2.0   834  1.0  1769  4.0  ...      0      0      0      0      2\n",
              "8      5.0   795  2.0  3469  4.0  ...      0      0      1      1      1\n",
              "9      2.0  1668  1.0   866  1.0  ...      1      1      1      1      1\n",
              "\n",
              "[5 rows x 77 columns]"
            ]
          },
          "metadata": {
            "tags": []
          },
          "execution_count": 169
        }
      ]
    },
    {
      "cell_type": "code",
      "metadata": {
        "id": "rS_RNqQrQ3WW"
      },
      "source": [
        "x_train=train.drop('voted',axis=1)\r\n",
        "y_train=train['voted']"
      ],
      "execution_count": 170,
      "outputs": []
    },
    {
      "cell_type": "code",
      "metadata": {
        "colab": {
          "base_uri": "https://localhost:8080/"
        },
        "id": "HDZRO9juRbS6",
        "outputId": "243358fe-42b9-4800-8322-4f7e47177a37"
      },
      "source": [
        "y_train"
      ],
      "execution_count": 171,
      "outputs": [
        {
          "output_type": "execute_result",
          "data": {
            "text/plain": [
              "index\n",
              "2        1\n",
              "3        1\n",
              "5        2\n",
              "8        1\n",
              "9        1\n",
              "        ..\n",
              "45525    1\n",
              "45526    2\n",
              "45527    2\n",
              "45530    1\n",
              "45531    1\n",
              "Name: voted, Length: 22310, dtype: int64"
            ]
          },
          "metadata": {
            "tags": []
          },
          "execution_count": 171
        }
      ]
    },
    {
      "cell_type": "code",
      "metadata": {
        "colab": {
          "base_uri": "https://localhost:8080/",
          "height": 245
        },
        "id": "UvS6UuthRYRo",
        "outputId": "20a3f807-a8f0-42db-ff4a-e450dc9a3c7e"
      },
      "source": [
        "x_train.head()"
      ],
      "execution_count": 172,
      "outputs": [
        {
          "output_type": "execute_result",
          "data": {
            "text/html": [
              "<div>\n",
              "<style scoped>\n",
              "    .dataframe tbody tr th:only-of-type {\n",
              "        vertical-align: middle;\n",
              "    }\n",
              "\n",
              "    .dataframe tbody tr th {\n",
              "        vertical-align: top;\n",
              "    }\n",
              "\n",
              "    .dataframe thead th {\n",
              "        text-align: right;\n",
              "    }\n",
              "</style>\n",
              "<table border=\"1\" class=\"dataframe\">\n",
              "  <thead>\n",
              "    <tr style=\"text-align: right;\">\n",
              "      <th></th>\n",
              "      <th>QaA</th>\n",
              "      <th>QaE</th>\n",
              "      <th>QbA</th>\n",
              "      <th>QbE</th>\n",
              "      <th>QcA</th>\n",
              "      <th>QcE</th>\n",
              "      <th>QdA</th>\n",
              "      <th>QdE</th>\n",
              "      <th>QeA</th>\n",
              "      <th>QeE</th>\n",
              "      <th>QfA</th>\n",
              "      <th>QfE</th>\n",
              "      <th>QgA</th>\n",
              "      <th>QgE</th>\n",
              "      <th>QhA</th>\n",
              "      <th>QhE</th>\n",
              "      <th>QiA</th>\n",
              "      <th>QiE</th>\n",
              "      <th>QjA</th>\n",
              "      <th>QjE</th>\n",
              "      <th>QkA</th>\n",
              "      <th>QkE</th>\n",
              "      <th>QlA</th>\n",
              "      <th>QlE</th>\n",
              "      <th>QmA</th>\n",
              "      <th>QmE</th>\n",
              "      <th>QnA</th>\n",
              "      <th>QnE</th>\n",
              "      <th>QoA</th>\n",
              "      <th>QoE</th>\n",
              "      <th>QpA</th>\n",
              "      <th>QpE</th>\n",
              "      <th>QqA</th>\n",
              "      <th>QqE</th>\n",
              "      <th>QrA</th>\n",
              "      <th>QrE</th>\n",
              "      <th>QsA</th>\n",
              "      <th>QsE</th>\n",
              "      <th>QtA</th>\n",
              "      <th>QtE</th>\n",
              "      <th>age_group</th>\n",
              "      <th>education</th>\n",
              "      <th>engnat</th>\n",
              "      <th>familysize</th>\n",
              "      <th>gender</th>\n",
              "      <th>hand</th>\n",
              "      <th>married</th>\n",
              "      <th>race</th>\n",
              "      <th>religion</th>\n",
              "      <th>tp01</th>\n",
              "      <th>tp02</th>\n",
              "      <th>tp03</th>\n",
              "      <th>tp04</th>\n",
              "      <th>tp05</th>\n",
              "      <th>tp06</th>\n",
              "      <th>tp07</th>\n",
              "      <th>tp08</th>\n",
              "      <th>tp09</th>\n",
              "      <th>tp10</th>\n",
              "      <th>urban</th>\n",
              "      <th>wf_01</th>\n",
              "      <th>wf_02</th>\n",
              "      <th>wf_03</th>\n",
              "      <th>wr_01</th>\n",
              "      <th>wr_02</th>\n",
              "      <th>wr_03</th>\n",
              "      <th>wr_04</th>\n",
              "      <th>wr_05</th>\n",
              "      <th>wr_06</th>\n",
              "      <th>wr_07</th>\n",
              "      <th>wr_08</th>\n",
              "      <th>wr_09</th>\n",
              "      <th>wr_10</th>\n",
              "      <th>wr_11</th>\n",
              "      <th>wr_12</th>\n",
              "      <th>wr_13</th>\n",
              "    </tr>\n",
              "    <tr>\n",
              "      <th>index</th>\n",
              "      <th></th>\n",
              "      <th></th>\n",
              "      <th></th>\n",
              "      <th></th>\n",
              "      <th></th>\n",
              "      <th></th>\n",
              "      <th></th>\n",
              "      <th></th>\n",
              "      <th></th>\n",
              "      <th></th>\n",
              "      <th></th>\n",
              "      <th></th>\n",
              "      <th></th>\n",
              "      <th></th>\n",
              "      <th></th>\n",
              "      <th></th>\n",
              "      <th></th>\n",
              "      <th></th>\n",
              "      <th></th>\n",
              "      <th></th>\n",
              "      <th></th>\n",
              "      <th></th>\n",
              "      <th></th>\n",
              "      <th></th>\n",
              "      <th></th>\n",
              "      <th></th>\n",
              "      <th></th>\n",
              "      <th></th>\n",
              "      <th></th>\n",
              "      <th></th>\n",
              "      <th></th>\n",
              "      <th></th>\n",
              "      <th></th>\n",
              "      <th></th>\n",
              "      <th></th>\n",
              "      <th></th>\n",
              "      <th></th>\n",
              "      <th></th>\n",
              "      <th></th>\n",
              "      <th></th>\n",
              "      <th></th>\n",
              "      <th></th>\n",
              "      <th></th>\n",
              "      <th></th>\n",
              "      <th></th>\n",
              "      <th></th>\n",
              "      <th></th>\n",
              "      <th></th>\n",
              "      <th></th>\n",
              "      <th></th>\n",
              "      <th></th>\n",
              "      <th></th>\n",
              "      <th></th>\n",
              "      <th></th>\n",
              "      <th></th>\n",
              "      <th></th>\n",
              "      <th></th>\n",
              "      <th></th>\n",
              "      <th></th>\n",
              "      <th></th>\n",
              "      <th></th>\n",
              "      <th></th>\n",
              "      <th></th>\n",
              "      <th></th>\n",
              "      <th></th>\n",
              "      <th></th>\n",
              "      <th></th>\n",
              "      <th></th>\n",
              "      <th></th>\n",
              "      <th></th>\n",
              "      <th></th>\n",
              "      <th></th>\n",
              "      <th></th>\n",
              "      <th></th>\n",
              "      <th></th>\n",
              "      <th></th>\n",
              "    </tr>\n",
              "  </thead>\n",
              "  <tbody>\n",
              "    <tr>\n",
              "      <th>2</th>\n",
              "      <td>4.0</td>\n",
              "      <td>1623</td>\n",
              "      <td>1.0</td>\n",
              "      <td>1480</td>\n",
              "      <td>1.0</td>\n",
              "      <td>1021</td>\n",
              "      <td>4.0</td>\n",
              "      <td>3374</td>\n",
              "      <td>5.0</td>\n",
              "      <td>1333</td>\n",
              "      <td>1.0</td>\n",
              "      <td>531</td>\n",
              "      <td>4.0</td>\n",
              "      <td>1167</td>\n",
              "      <td>1.0</td>\n",
              "      <td>1016</td>\n",
              "      <td>3.0</td>\n",
              "      <td>2653</td>\n",
              "      <td>2.0</td>\n",
              "      <td>1569</td>\n",
              "      <td>5.0</td>\n",
              "      <td>998</td>\n",
              "      <td>5.0</td>\n",
              "      <td>2547</td>\n",
              "      <td>2.0</td>\n",
              "      <td>918</td>\n",
              "      <td>4.0</td>\n",
              "      <td>2153</td>\n",
              "      <td>2.0</td>\n",
              "      <td>1304</td>\n",
              "      <td>1.0</td>\n",
              "      <td>1131</td>\n",
              "      <td>5.0</td>\n",
              "      <td>937</td>\n",
              "      <td>4.0</td>\n",
              "      <td>1327</td>\n",
              "      <td>1.0</td>\n",
              "      <td>1170</td>\n",
              "      <td>1.0</td>\n",
              "      <td>1409</td>\n",
              "      <td>30s</td>\n",
              "      <td>3</td>\n",
              "      <td>1</td>\n",
              "      <td>3</td>\n",
              "      <td>Male</td>\n",
              "      <td>1</td>\n",
              "      <td>2</td>\n",
              "      <td>White</td>\n",
              "      <td>Other</td>\n",
              "      <td>2</td>\n",
              "      <td>3</td>\n",
              "      <td>1</td>\n",
              "      <td>5</td>\n",
              "      <td>3</td>\n",
              "      <td>4</td>\n",
              "      <td>2</td>\n",
              "      <td>6</td>\n",
              "      <td>1</td>\n",
              "      <td>3</td>\n",
              "      <td>2</td>\n",
              "      <td>0</td>\n",
              "      <td>0</td>\n",
              "      <td>1</td>\n",
              "      <td>1</td>\n",
              "      <td>1</td>\n",
              "      <td>0</td>\n",
              "      <td>1</td>\n",
              "      <td>1</td>\n",
              "      <td>0</td>\n",
              "      <td>1</td>\n",
              "      <td>1</td>\n",
              "      <td>1</td>\n",
              "      <td>1</td>\n",
              "      <td>0</td>\n",
              "      <td>1</td>\n",
              "      <td>1</td>\n",
              "    </tr>\n",
              "    <tr>\n",
              "      <th>3</th>\n",
              "      <td>3.0</td>\n",
              "      <td>504</td>\n",
              "      <td>3.0</td>\n",
              "      <td>2311</td>\n",
              "      <td>4.0</td>\n",
              "      <td>992</td>\n",
              "      <td>3.0</td>\n",
              "      <td>3245</td>\n",
              "      <td>1.0</td>\n",
              "      <td>357</td>\n",
              "      <td>2.0</td>\n",
              "      <td>1519</td>\n",
              "      <td>4.0</td>\n",
              "      <td>159</td>\n",
              "      <td>3.0</td>\n",
              "      <td>2275</td>\n",
              "      <td>5.0</td>\n",
              "      <td>2809</td>\n",
              "      <td>4.0</td>\n",
              "      <td>5614</td>\n",
              "      <td>3.0</td>\n",
              "      <td>3219</td>\n",
              "      <td>4.0</td>\n",
              "      <td>1296</td>\n",
              "      <td>4.0</td>\n",
              "      <td>9046</td>\n",
              "      <td>4.0</td>\n",
              "      <td>1216</td>\n",
              "      <td>4.0</td>\n",
              "      <td>1169</td>\n",
              "      <td>4.0</td>\n",
              "      <td>23868</td>\n",
              "      <td>3.0</td>\n",
              "      <td>581</td>\n",
              "      <td>4.0</td>\n",
              "      <td>8830</td>\n",
              "      <td>4.0</td>\n",
              "      <td>2392</td>\n",
              "      <td>5.0</td>\n",
              "      <td>1312</td>\n",
              "      <td>20s</td>\n",
              "      <td>4</td>\n",
              "      <td>2</td>\n",
              "      <td>0</td>\n",
              "      <td>Female</td>\n",
              "      <td>1</td>\n",
              "      <td>1</td>\n",
              "      <td>Asian</td>\n",
              "      <td>Hindu</td>\n",
              "      <td>2</td>\n",
              "      <td>4</td>\n",
              "      <td>1</td>\n",
              "      <td>1</td>\n",
              "      <td>1</td>\n",
              "      <td>3</td>\n",
              "      <td>1</td>\n",
              "      <td>3</td>\n",
              "      <td>1</td>\n",
              "      <td>3</td>\n",
              "      <td>3</td>\n",
              "      <td>0</td>\n",
              "      <td>0</td>\n",
              "      <td>0</td>\n",
              "      <td>0</td>\n",
              "      <td>1</td>\n",
              "      <td>0</td>\n",
              "      <td>0</td>\n",
              "      <td>0</td>\n",
              "      <td>0</td>\n",
              "      <td>0</td>\n",
              "      <td>1</td>\n",
              "      <td>0</td>\n",
              "      <td>1</td>\n",
              "      <td>0</td>\n",
              "      <td>1</td>\n",
              "      <td>1</td>\n",
              "    </tr>\n",
              "    <tr>\n",
              "      <th>5</th>\n",
              "      <td>2.0</td>\n",
              "      <td>834</td>\n",
              "      <td>1.0</td>\n",
              "      <td>1769</td>\n",
              "      <td>4.0</td>\n",
              "      <td>2105</td>\n",
              "      <td>1.0</td>\n",
              "      <td>1070</td>\n",
              "      <td>5.0</td>\n",
              "      <td>1930</td>\n",
              "      <td>2.0</td>\n",
              "      <td>1258</td>\n",
              "      <td>5.0</td>\n",
              "      <td>1451</td>\n",
              "      <td>1.0</td>\n",
              "      <td>1029</td>\n",
              "      <td>3.0</td>\n",
              "      <td>1633</td>\n",
              "      <td>1.0</td>\n",
              "      <td>2254</td>\n",
              "      <td>5.0</td>\n",
              "      <td>1984</td>\n",
              "      <td>1.0</td>\n",
              "      <td>1158</td>\n",
              "      <td>3.0</td>\n",
              "      <td>1194</td>\n",
              "      <td>3.0</td>\n",
              "      <td>483</td>\n",
              "      <td>1.0</td>\n",
              "      <td>983</td>\n",
              "      <td>1.0</td>\n",
              "      <td>817</td>\n",
              "      <td>5.0</td>\n",
              "      <td>1052</td>\n",
              "      <td>1.0</td>\n",
              "      <td>1354</td>\n",
              "      <td>1.0</td>\n",
              "      <td>747</td>\n",
              "      <td>2.0</td>\n",
              "      <td>1826</td>\n",
              "      <td>40s</td>\n",
              "      <td>2</td>\n",
              "      <td>1</td>\n",
              "      <td>6</td>\n",
              "      <td>Female</td>\n",
              "      <td>1</td>\n",
              "      <td>3</td>\n",
              "      <td>White</td>\n",
              "      <td>Other</td>\n",
              "      <td>5</td>\n",
              "      <td>5</td>\n",
              "      <td>5</td>\n",
              "      <td>4</td>\n",
              "      <td>5</td>\n",
              "      <td>3</td>\n",
              "      <td>3</td>\n",
              "      <td>7</td>\n",
              "      <td>5</td>\n",
              "      <td>3</td>\n",
              "      <td>2</td>\n",
              "      <td>0</td>\n",
              "      <td>0</td>\n",
              "      <td>0</td>\n",
              "      <td>0</td>\n",
              "      <td>1</td>\n",
              "      <td>0</td>\n",
              "      <td>0</td>\n",
              "      <td>0</td>\n",
              "      <td>0</td>\n",
              "      <td>0</td>\n",
              "      <td>1</td>\n",
              "      <td>0</td>\n",
              "      <td>0</td>\n",
              "      <td>0</td>\n",
              "      <td>0</td>\n",
              "      <td>0</td>\n",
              "    </tr>\n",
              "    <tr>\n",
              "      <th>8</th>\n",
              "      <td>5.0</td>\n",
              "      <td>795</td>\n",
              "      <td>2.0</td>\n",
              "      <td>3469</td>\n",
              "      <td>4.0</td>\n",
              "      <td>1693</td>\n",
              "      <td>3.0</td>\n",
              "      <td>1991</td>\n",
              "      <td>4.0</td>\n",
              "      <td>5922</td>\n",
              "      <td>2.0</td>\n",
              "      <td>1322</td>\n",
              "      <td>5.0</td>\n",
              "      <td>1014</td>\n",
              "      <td>5.0</td>\n",
              "      <td>3014</td>\n",
              "      <td>3.0</td>\n",
              "      <td>3771</td>\n",
              "      <td>3.0</td>\n",
              "      <td>13295</td>\n",
              "      <td>5.0</td>\n",
              "      <td>3605</td>\n",
              "      <td>3.0</td>\n",
              "      <td>9265</td>\n",
              "      <td>4.0</td>\n",
              "      <td>2531</td>\n",
              "      <td>1.0</td>\n",
              "      <td>812</td>\n",
              "      <td>4.0</td>\n",
              "      <td>2595</td>\n",
              "      <td>5.0</td>\n",
              "      <td>1227</td>\n",
              "      <td>5.0</td>\n",
              "      <td>1837</td>\n",
              "      <td>4.0</td>\n",
              "      <td>1218</td>\n",
              "      <td>4.0</td>\n",
              "      <td>9923</td>\n",
              "      <td>5.0</td>\n",
              "      <td>1631</td>\n",
              "      <td>20s</td>\n",
              "      <td>4</td>\n",
              "      <td>2</td>\n",
              "      <td>0</td>\n",
              "      <td>Female</td>\n",
              "      <td>2</td>\n",
              "      <td>1</td>\n",
              "      <td>Other</td>\n",
              "      <td>Christian_Other</td>\n",
              "      <td>1</td>\n",
              "      <td>1</td>\n",
              "      <td>2</td>\n",
              "      <td>1</td>\n",
              "      <td>2</td>\n",
              "      <td>2</td>\n",
              "      <td>2</td>\n",
              "      <td>2</td>\n",
              "      <td>2</td>\n",
              "      <td>3</td>\n",
              "      <td>1</td>\n",
              "      <td>0</td>\n",
              "      <td>0</td>\n",
              "      <td>0</td>\n",
              "      <td>0</td>\n",
              "      <td>0</td>\n",
              "      <td>0</td>\n",
              "      <td>0</td>\n",
              "      <td>0</td>\n",
              "      <td>0</td>\n",
              "      <td>0</td>\n",
              "      <td>1</td>\n",
              "      <td>0</td>\n",
              "      <td>0</td>\n",
              "      <td>0</td>\n",
              "      <td>1</td>\n",
              "      <td>1</td>\n",
              "    </tr>\n",
              "    <tr>\n",
              "      <th>9</th>\n",
              "      <td>2.0</td>\n",
              "      <td>1668</td>\n",
              "      <td>1.0</td>\n",
              "      <td>866</td>\n",
              "      <td>1.0</td>\n",
              "      <td>895</td>\n",
              "      <td>1.0</td>\n",
              "      <td>1308</td>\n",
              "      <td>2.0</td>\n",
              "      <td>1715</td>\n",
              "      <td>5.0</td>\n",
              "      <td>563</td>\n",
              "      <td>5.0</td>\n",
              "      <td>574</td>\n",
              "      <td>1.0</td>\n",
              "      <td>1406</td>\n",
              "      <td>5.0</td>\n",
              "      <td>1698</td>\n",
              "      <td>3.0</td>\n",
              "      <td>1354</td>\n",
              "      <td>5.0</td>\n",
              "      <td>774</td>\n",
              "      <td>1.0</td>\n",
              "      <td>1299</td>\n",
              "      <td>1.0</td>\n",
              "      <td>810</td>\n",
              "      <td>5.0</td>\n",
              "      <td>327</td>\n",
              "      <td>1.0</td>\n",
              "      <td>646</td>\n",
              "      <td>1.0</td>\n",
              "      <td>957</td>\n",
              "      <td>4.0</td>\n",
              "      <td>850</td>\n",
              "      <td>5.0</td>\n",
              "      <td>693</td>\n",
              "      <td>1.0</td>\n",
              "      <td>1313</td>\n",
              "      <td>1.0</td>\n",
              "      <td>986</td>\n",
              "      <td>50s</td>\n",
              "      <td>3</td>\n",
              "      <td>1</td>\n",
              "      <td>3</td>\n",
              "      <td>Female</td>\n",
              "      <td>1</td>\n",
              "      <td>1</td>\n",
              "      <td>White</td>\n",
              "      <td>Christian_Other</td>\n",
              "      <td>0</td>\n",
              "      <td>1</td>\n",
              "      <td>1</td>\n",
              "      <td>2</td>\n",
              "      <td>0</td>\n",
              "      <td>3</td>\n",
              "      <td>0</td>\n",
              "      <td>4</td>\n",
              "      <td>1</td>\n",
              "      <td>5</td>\n",
              "      <td>2</td>\n",
              "      <td>0</td>\n",
              "      <td>0</td>\n",
              "      <td>1</td>\n",
              "      <td>1</td>\n",
              "      <td>1</td>\n",
              "      <td>0</td>\n",
              "      <td>1</td>\n",
              "      <td>1</td>\n",
              "      <td>0</td>\n",
              "      <td>1</td>\n",
              "      <td>1</td>\n",
              "      <td>0</td>\n",
              "      <td>1</td>\n",
              "      <td>1</td>\n",
              "      <td>1</td>\n",
              "      <td>1</td>\n",
              "    </tr>\n",
              "  </tbody>\n",
              "</table>\n",
              "</div>"
            ],
            "text/plain": [
              "       QaA   QaE  QbA   QbE  QcA  ...  wr_09  wr_10  wr_11  wr_12  wr_13\n",
              "index                             ...                                   \n",
              "2      4.0  1623  1.0  1480  1.0  ...      1      1      0      1      1\n",
              "3      3.0   504  3.0  2311  4.0  ...      0      1      0      1      1\n",
              "5      2.0   834  1.0  1769  4.0  ...      0      0      0      0      0\n",
              "8      5.0   795  2.0  3469  4.0  ...      0      0      0      1      1\n",
              "9      2.0  1668  1.0   866  1.0  ...      0      1      1      1      1\n",
              "\n",
              "[5 rows x 76 columns]"
            ]
          },
          "metadata": {
            "tags": []
          },
          "execution_count": 172
        }
      ]
    },
    {
      "cell_type": "markdown",
      "metadata": {
        "id": "iFbmroZbSFAE"
      },
      "source": [
        "#Preprocessing"
      ]
    },
    {
      "cell_type": "code",
      "metadata": {
        "id": "fB7jCaOSSSuq"
      },
      "source": [
        "from sklearn.preprocessing import LabelEncoder\r\n",
        "le=LabelEncoder()\r\n",
        "gender=le.fit_transform(x_train['gender'].values)\r\n",
        "race=le.fit_transform(x_train['race'].values)\r\n",
        "religion=le.fit_transform(x_train['religion'].values)"
      ],
      "execution_count": 173,
      "outputs": []
    },
    {
      "cell_type": "code",
      "metadata": {
        "colab": {
          "base_uri": "https://localhost:8080/",
          "height": 245
        },
        "id": "QYAZRz--kGZX",
        "outputId": "3b583eb9-94fc-46ac-80f9-273a854a061e"
      },
      "source": [
        "x_train['gender']=gender\r\n",
        "x_train['race']=race\r\n",
        "x_train['religion']=religion\r\n",
        "x_train.head()"
      ],
      "execution_count": 174,
      "outputs": [
        {
          "output_type": "execute_result",
          "data": {
            "text/html": [
              "<div>\n",
              "<style scoped>\n",
              "    .dataframe tbody tr th:only-of-type {\n",
              "        vertical-align: middle;\n",
              "    }\n",
              "\n",
              "    .dataframe tbody tr th {\n",
              "        vertical-align: top;\n",
              "    }\n",
              "\n",
              "    .dataframe thead th {\n",
              "        text-align: right;\n",
              "    }\n",
              "</style>\n",
              "<table border=\"1\" class=\"dataframe\">\n",
              "  <thead>\n",
              "    <tr style=\"text-align: right;\">\n",
              "      <th></th>\n",
              "      <th>QaA</th>\n",
              "      <th>QaE</th>\n",
              "      <th>QbA</th>\n",
              "      <th>QbE</th>\n",
              "      <th>QcA</th>\n",
              "      <th>QcE</th>\n",
              "      <th>QdA</th>\n",
              "      <th>QdE</th>\n",
              "      <th>QeA</th>\n",
              "      <th>QeE</th>\n",
              "      <th>QfA</th>\n",
              "      <th>QfE</th>\n",
              "      <th>QgA</th>\n",
              "      <th>QgE</th>\n",
              "      <th>QhA</th>\n",
              "      <th>QhE</th>\n",
              "      <th>QiA</th>\n",
              "      <th>QiE</th>\n",
              "      <th>QjA</th>\n",
              "      <th>QjE</th>\n",
              "      <th>QkA</th>\n",
              "      <th>QkE</th>\n",
              "      <th>QlA</th>\n",
              "      <th>QlE</th>\n",
              "      <th>QmA</th>\n",
              "      <th>QmE</th>\n",
              "      <th>QnA</th>\n",
              "      <th>QnE</th>\n",
              "      <th>QoA</th>\n",
              "      <th>QoE</th>\n",
              "      <th>QpA</th>\n",
              "      <th>QpE</th>\n",
              "      <th>QqA</th>\n",
              "      <th>QqE</th>\n",
              "      <th>QrA</th>\n",
              "      <th>QrE</th>\n",
              "      <th>QsA</th>\n",
              "      <th>QsE</th>\n",
              "      <th>QtA</th>\n",
              "      <th>QtE</th>\n",
              "      <th>age_group</th>\n",
              "      <th>education</th>\n",
              "      <th>engnat</th>\n",
              "      <th>familysize</th>\n",
              "      <th>gender</th>\n",
              "      <th>hand</th>\n",
              "      <th>married</th>\n",
              "      <th>race</th>\n",
              "      <th>religion</th>\n",
              "      <th>tp01</th>\n",
              "      <th>tp02</th>\n",
              "      <th>tp03</th>\n",
              "      <th>tp04</th>\n",
              "      <th>tp05</th>\n",
              "      <th>tp06</th>\n",
              "      <th>tp07</th>\n",
              "      <th>tp08</th>\n",
              "      <th>tp09</th>\n",
              "      <th>tp10</th>\n",
              "      <th>urban</th>\n",
              "      <th>wf_01</th>\n",
              "      <th>wf_02</th>\n",
              "      <th>wf_03</th>\n",
              "      <th>wr_01</th>\n",
              "      <th>wr_02</th>\n",
              "      <th>wr_03</th>\n",
              "      <th>wr_04</th>\n",
              "      <th>wr_05</th>\n",
              "      <th>wr_06</th>\n",
              "      <th>wr_07</th>\n",
              "      <th>wr_08</th>\n",
              "      <th>wr_09</th>\n",
              "      <th>wr_10</th>\n",
              "      <th>wr_11</th>\n",
              "      <th>wr_12</th>\n",
              "      <th>wr_13</th>\n",
              "    </tr>\n",
              "    <tr>\n",
              "      <th>index</th>\n",
              "      <th></th>\n",
              "      <th></th>\n",
              "      <th></th>\n",
              "      <th></th>\n",
              "      <th></th>\n",
              "      <th></th>\n",
              "      <th></th>\n",
              "      <th></th>\n",
              "      <th></th>\n",
              "      <th></th>\n",
              "      <th></th>\n",
              "      <th></th>\n",
              "      <th></th>\n",
              "      <th></th>\n",
              "      <th></th>\n",
              "      <th></th>\n",
              "      <th></th>\n",
              "      <th></th>\n",
              "      <th></th>\n",
              "      <th></th>\n",
              "      <th></th>\n",
              "      <th></th>\n",
              "      <th></th>\n",
              "      <th></th>\n",
              "      <th></th>\n",
              "      <th></th>\n",
              "      <th></th>\n",
              "      <th></th>\n",
              "      <th></th>\n",
              "      <th></th>\n",
              "      <th></th>\n",
              "      <th></th>\n",
              "      <th></th>\n",
              "      <th></th>\n",
              "      <th></th>\n",
              "      <th></th>\n",
              "      <th></th>\n",
              "      <th></th>\n",
              "      <th></th>\n",
              "      <th></th>\n",
              "      <th></th>\n",
              "      <th></th>\n",
              "      <th></th>\n",
              "      <th></th>\n",
              "      <th></th>\n",
              "      <th></th>\n",
              "      <th></th>\n",
              "      <th></th>\n",
              "      <th></th>\n",
              "      <th></th>\n",
              "      <th></th>\n",
              "      <th></th>\n",
              "      <th></th>\n",
              "      <th></th>\n",
              "      <th></th>\n",
              "      <th></th>\n",
              "      <th></th>\n",
              "      <th></th>\n",
              "      <th></th>\n",
              "      <th></th>\n",
              "      <th></th>\n",
              "      <th></th>\n",
              "      <th></th>\n",
              "      <th></th>\n",
              "      <th></th>\n",
              "      <th></th>\n",
              "      <th></th>\n",
              "      <th></th>\n",
              "      <th></th>\n",
              "      <th></th>\n",
              "      <th></th>\n",
              "      <th></th>\n",
              "      <th></th>\n",
              "      <th></th>\n",
              "      <th></th>\n",
              "      <th></th>\n",
              "    </tr>\n",
              "  </thead>\n",
              "  <tbody>\n",
              "    <tr>\n",
              "      <th>2</th>\n",
              "      <td>4.0</td>\n",
              "      <td>1623</td>\n",
              "      <td>1.0</td>\n",
              "      <td>1480</td>\n",
              "      <td>1.0</td>\n",
              "      <td>1021</td>\n",
              "      <td>4.0</td>\n",
              "      <td>3374</td>\n",
              "      <td>5.0</td>\n",
              "      <td>1333</td>\n",
              "      <td>1.0</td>\n",
              "      <td>531</td>\n",
              "      <td>4.0</td>\n",
              "      <td>1167</td>\n",
              "      <td>1.0</td>\n",
              "      <td>1016</td>\n",
              "      <td>3.0</td>\n",
              "      <td>2653</td>\n",
              "      <td>2.0</td>\n",
              "      <td>1569</td>\n",
              "      <td>5.0</td>\n",
              "      <td>998</td>\n",
              "      <td>5.0</td>\n",
              "      <td>2547</td>\n",
              "      <td>2.0</td>\n",
              "      <td>918</td>\n",
              "      <td>4.0</td>\n",
              "      <td>2153</td>\n",
              "      <td>2.0</td>\n",
              "      <td>1304</td>\n",
              "      <td>1.0</td>\n",
              "      <td>1131</td>\n",
              "      <td>5.0</td>\n",
              "      <td>937</td>\n",
              "      <td>4.0</td>\n",
              "      <td>1327</td>\n",
              "      <td>1.0</td>\n",
              "      <td>1170</td>\n",
              "      <td>1.0</td>\n",
              "      <td>1409</td>\n",
              "      <td>30s</td>\n",
              "      <td>3</td>\n",
              "      <td>1</td>\n",
              "      <td>3</td>\n",
              "      <td>1</td>\n",
              "      <td>1</td>\n",
              "      <td>2</td>\n",
              "      <td>6</td>\n",
              "      <td>10</td>\n",
              "      <td>2</td>\n",
              "      <td>3</td>\n",
              "      <td>1</td>\n",
              "      <td>5</td>\n",
              "      <td>3</td>\n",
              "      <td>4</td>\n",
              "      <td>2</td>\n",
              "      <td>6</td>\n",
              "      <td>1</td>\n",
              "      <td>3</td>\n",
              "      <td>2</td>\n",
              "      <td>0</td>\n",
              "      <td>0</td>\n",
              "      <td>1</td>\n",
              "      <td>1</td>\n",
              "      <td>1</td>\n",
              "      <td>0</td>\n",
              "      <td>1</td>\n",
              "      <td>1</td>\n",
              "      <td>0</td>\n",
              "      <td>1</td>\n",
              "      <td>1</td>\n",
              "      <td>1</td>\n",
              "      <td>1</td>\n",
              "      <td>0</td>\n",
              "      <td>1</td>\n",
              "      <td>1</td>\n",
              "    </tr>\n",
              "    <tr>\n",
              "      <th>3</th>\n",
              "      <td>3.0</td>\n",
              "      <td>504</td>\n",
              "      <td>3.0</td>\n",
              "      <td>2311</td>\n",
              "      <td>4.0</td>\n",
              "      <td>992</td>\n",
              "      <td>3.0</td>\n",
              "      <td>3245</td>\n",
              "      <td>1.0</td>\n",
              "      <td>357</td>\n",
              "      <td>2.0</td>\n",
              "      <td>1519</td>\n",
              "      <td>4.0</td>\n",
              "      <td>159</td>\n",
              "      <td>3.0</td>\n",
              "      <td>2275</td>\n",
              "      <td>5.0</td>\n",
              "      <td>2809</td>\n",
              "      <td>4.0</td>\n",
              "      <td>5614</td>\n",
              "      <td>3.0</td>\n",
              "      <td>3219</td>\n",
              "      <td>4.0</td>\n",
              "      <td>1296</td>\n",
              "      <td>4.0</td>\n",
              "      <td>9046</td>\n",
              "      <td>4.0</td>\n",
              "      <td>1216</td>\n",
              "      <td>4.0</td>\n",
              "      <td>1169</td>\n",
              "      <td>4.0</td>\n",
              "      <td>23868</td>\n",
              "      <td>3.0</td>\n",
              "      <td>581</td>\n",
              "      <td>4.0</td>\n",
              "      <td>8830</td>\n",
              "      <td>4.0</td>\n",
              "      <td>2392</td>\n",
              "      <td>5.0</td>\n",
              "      <td>1312</td>\n",
              "      <td>20s</td>\n",
              "      <td>4</td>\n",
              "      <td>2</td>\n",
              "      <td>0</td>\n",
              "      <td>0</td>\n",
              "      <td>1</td>\n",
              "      <td>1</td>\n",
              "      <td>1</td>\n",
              "      <td>7</td>\n",
              "      <td>2</td>\n",
              "      <td>4</td>\n",
              "      <td>1</td>\n",
              "      <td>1</td>\n",
              "      <td>1</td>\n",
              "      <td>3</td>\n",
              "      <td>1</td>\n",
              "      <td>3</td>\n",
              "      <td>1</td>\n",
              "      <td>3</td>\n",
              "      <td>3</td>\n",
              "      <td>0</td>\n",
              "      <td>0</td>\n",
              "      <td>0</td>\n",
              "      <td>0</td>\n",
              "      <td>1</td>\n",
              "      <td>0</td>\n",
              "      <td>0</td>\n",
              "      <td>0</td>\n",
              "      <td>0</td>\n",
              "      <td>0</td>\n",
              "      <td>1</td>\n",
              "      <td>0</td>\n",
              "      <td>1</td>\n",
              "      <td>0</td>\n",
              "      <td>1</td>\n",
              "      <td>1</td>\n",
              "    </tr>\n",
              "    <tr>\n",
              "      <th>5</th>\n",
              "      <td>2.0</td>\n",
              "      <td>834</td>\n",
              "      <td>1.0</td>\n",
              "      <td>1769</td>\n",
              "      <td>4.0</td>\n",
              "      <td>2105</td>\n",
              "      <td>1.0</td>\n",
              "      <td>1070</td>\n",
              "      <td>5.0</td>\n",
              "      <td>1930</td>\n",
              "      <td>2.0</td>\n",
              "      <td>1258</td>\n",
              "      <td>5.0</td>\n",
              "      <td>1451</td>\n",
              "      <td>1.0</td>\n",
              "      <td>1029</td>\n",
              "      <td>3.0</td>\n",
              "      <td>1633</td>\n",
              "      <td>1.0</td>\n",
              "      <td>2254</td>\n",
              "      <td>5.0</td>\n",
              "      <td>1984</td>\n",
              "      <td>1.0</td>\n",
              "      <td>1158</td>\n",
              "      <td>3.0</td>\n",
              "      <td>1194</td>\n",
              "      <td>3.0</td>\n",
              "      <td>483</td>\n",
              "      <td>1.0</td>\n",
              "      <td>983</td>\n",
              "      <td>1.0</td>\n",
              "      <td>817</td>\n",
              "      <td>5.0</td>\n",
              "      <td>1052</td>\n",
              "      <td>1.0</td>\n",
              "      <td>1354</td>\n",
              "      <td>1.0</td>\n",
              "      <td>747</td>\n",
              "      <td>2.0</td>\n",
              "      <td>1826</td>\n",
              "      <td>40s</td>\n",
              "      <td>2</td>\n",
              "      <td>1</td>\n",
              "      <td>6</td>\n",
              "      <td>0</td>\n",
              "      <td>1</td>\n",
              "      <td>3</td>\n",
              "      <td>6</td>\n",
              "      <td>10</td>\n",
              "      <td>5</td>\n",
              "      <td>5</td>\n",
              "      <td>5</td>\n",
              "      <td>4</td>\n",
              "      <td>5</td>\n",
              "      <td>3</td>\n",
              "      <td>3</td>\n",
              "      <td>7</td>\n",
              "      <td>5</td>\n",
              "      <td>3</td>\n",
              "      <td>2</td>\n",
              "      <td>0</td>\n",
              "      <td>0</td>\n",
              "      <td>0</td>\n",
              "      <td>0</td>\n",
              "      <td>1</td>\n",
              "      <td>0</td>\n",
              "      <td>0</td>\n",
              "      <td>0</td>\n",
              "      <td>0</td>\n",
              "      <td>0</td>\n",
              "      <td>1</td>\n",
              "      <td>0</td>\n",
              "      <td>0</td>\n",
              "      <td>0</td>\n",
              "      <td>0</td>\n",
              "      <td>0</td>\n",
              "    </tr>\n",
              "    <tr>\n",
              "      <th>8</th>\n",
              "      <td>5.0</td>\n",
              "      <td>795</td>\n",
              "      <td>2.0</td>\n",
              "      <td>3469</td>\n",
              "      <td>4.0</td>\n",
              "      <td>1693</td>\n",
              "      <td>3.0</td>\n",
              "      <td>1991</td>\n",
              "      <td>4.0</td>\n",
              "      <td>5922</td>\n",
              "      <td>2.0</td>\n",
              "      <td>1322</td>\n",
              "      <td>5.0</td>\n",
              "      <td>1014</td>\n",
              "      <td>5.0</td>\n",
              "      <td>3014</td>\n",
              "      <td>3.0</td>\n",
              "      <td>3771</td>\n",
              "      <td>3.0</td>\n",
              "      <td>13295</td>\n",
              "      <td>5.0</td>\n",
              "      <td>3605</td>\n",
              "      <td>3.0</td>\n",
              "      <td>9265</td>\n",
              "      <td>4.0</td>\n",
              "      <td>2531</td>\n",
              "      <td>1.0</td>\n",
              "      <td>812</td>\n",
              "      <td>4.0</td>\n",
              "      <td>2595</td>\n",
              "      <td>5.0</td>\n",
              "      <td>1227</td>\n",
              "      <td>5.0</td>\n",
              "      <td>1837</td>\n",
              "      <td>4.0</td>\n",
              "      <td>1218</td>\n",
              "      <td>4.0</td>\n",
              "      <td>9923</td>\n",
              "      <td>5.0</td>\n",
              "      <td>1631</td>\n",
              "      <td>20s</td>\n",
              "      <td>4</td>\n",
              "      <td>2</td>\n",
              "      <td>0</td>\n",
              "      <td>0</td>\n",
              "      <td>2</td>\n",
              "      <td>1</td>\n",
              "      <td>5</td>\n",
              "      <td>5</td>\n",
              "      <td>1</td>\n",
              "      <td>1</td>\n",
              "      <td>2</td>\n",
              "      <td>1</td>\n",
              "      <td>2</td>\n",
              "      <td>2</td>\n",
              "      <td>2</td>\n",
              "      <td>2</td>\n",
              "      <td>2</td>\n",
              "      <td>3</td>\n",
              "      <td>1</td>\n",
              "      <td>0</td>\n",
              "      <td>0</td>\n",
              "      <td>0</td>\n",
              "      <td>0</td>\n",
              "      <td>0</td>\n",
              "      <td>0</td>\n",
              "      <td>0</td>\n",
              "      <td>0</td>\n",
              "      <td>0</td>\n",
              "      <td>0</td>\n",
              "      <td>1</td>\n",
              "      <td>0</td>\n",
              "      <td>0</td>\n",
              "      <td>0</td>\n",
              "      <td>1</td>\n",
              "      <td>1</td>\n",
              "    </tr>\n",
              "    <tr>\n",
              "      <th>9</th>\n",
              "      <td>2.0</td>\n",
              "      <td>1668</td>\n",
              "      <td>1.0</td>\n",
              "      <td>866</td>\n",
              "      <td>1.0</td>\n",
              "      <td>895</td>\n",
              "      <td>1.0</td>\n",
              "      <td>1308</td>\n",
              "      <td>2.0</td>\n",
              "      <td>1715</td>\n",
              "      <td>5.0</td>\n",
              "      <td>563</td>\n",
              "      <td>5.0</td>\n",
              "      <td>574</td>\n",
              "      <td>1.0</td>\n",
              "      <td>1406</td>\n",
              "      <td>5.0</td>\n",
              "      <td>1698</td>\n",
              "      <td>3.0</td>\n",
              "      <td>1354</td>\n",
              "      <td>5.0</td>\n",
              "      <td>774</td>\n",
              "      <td>1.0</td>\n",
              "      <td>1299</td>\n",
              "      <td>1.0</td>\n",
              "      <td>810</td>\n",
              "      <td>5.0</td>\n",
              "      <td>327</td>\n",
              "      <td>1.0</td>\n",
              "      <td>646</td>\n",
              "      <td>1.0</td>\n",
              "      <td>957</td>\n",
              "      <td>4.0</td>\n",
              "      <td>850</td>\n",
              "      <td>5.0</td>\n",
              "      <td>693</td>\n",
              "      <td>1.0</td>\n",
              "      <td>1313</td>\n",
              "      <td>1.0</td>\n",
              "      <td>986</td>\n",
              "      <td>50s</td>\n",
              "      <td>3</td>\n",
              "      <td>1</td>\n",
              "      <td>3</td>\n",
              "      <td>0</td>\n",
              "      <td>1</td>\n",
              "      <td>1</td>\n",
              "      <td>6</td>\n",
              "      <td>5</td>\n",
              "      <td>0</td>\n",
              "      <td>1</td>\n",
              "      <td>1</td>\n",
              "      <td>2</td>\n",
              "      <td>0</td>\n",
              "      <td>3</td>\n",
              "      <td>0</td>\n",
              "      <td>4</td>\n",
              "      <td>1</td>\n",
              "      <td>5</td>\n",
              "      <td>2</td>\n",
              "      <td>0</td>\n",
              "      <td>0</td>\n",
              "      <td>1</td>\n",
              "      <td>1</td>\n",
              "      <td>1</td>\n",
              "      <td>0</td>\n",
              "      <td>1</td>\n",
              "      <td>1</td>\n",
              "      <td>0</td>\n",
              "      <td>1</td>\n",
              "      <td>1</td>\n",
              "      <td>0</td>\n",
              "      <td>1</td>\n",
              "      <td>1</td>\n",
              "      <td>1</td>\n",
              "      <td>1</td>\n",
              "    </tr>\n",
              "  </tbody>\n",
              "</table>\n",
              "</div>"
            ],
            "text/plain": [
              "       QaA   QaE  QbA   QbE  QcA  ...  wr_09  wr_10  wr_11  wr_12  wr_13\n",
              "index                             ...                                   \n",
              "2      4.0  1623  1.0  1480  1.0  ...      1      1      0      1      1\n",
              "3      3.0   504  3.0  2311  4.0  ...      0      1      0      1      1\n",
              "5      2.0   834  1.0  1769  4.0  ...      0      0      0      0      0\n",
              "8      5.0   795  2.0  3469  4.0  ...      0      0      0      1      1\n",
              "9      2.0  1668  1.0   866  1.0  ...      0      1      1      1      1\n",
              "\n",
              "[5 rows x 76 columns]"
            ]
          },
          "metadata": {
            "tags": []
          },
          "execution_count": 174
        }
      ]
    },
    {
      "cell_type": "code",
      "metadata": {
        "id": "X__wk0phkW0h"
      },
      "source": [
        "x_train=x_train.replace(['10s','20s','30s','40s','50s','60s','70s','+70s'],[10,20,30,40,50,60,70,80])"
      ],
      "execution_count": 175,
      "outputs": []
    },
    {
      "cell_type": "code",
      "metadata": {
        "colab": {
          "base_uri": "https://localhost:8080/",
          "height": 245
        },
        "id": "HZiR8uPAn2Rt",
        "outputId": "626256ae-f0c7-4aa5-8130-c894c69a9898"
      },
      "source": [
        "x_train.head()"
      ],
      "execution_count": 176,
      "outputs": [
        {
          "output_type": "execute_result",
          "data": {
            "text/html": [
              "<div>\n",
              "<style scoped>\n",
              "    .dataframe tbody tr th:only-of-type {\n",
              "        vertical-align: middle;\n",
              "    }\n",
              "\n",
              "    .dataframe tbody tr th {\n",
              "        vertical-align: top;\n",
              "    }\n",
              "\n",
              "    .dataframe thead th {\n",
              "        text-align: right;\n",
              "    }\n",
              "</style>\n",
              "<table border=\"1\" class=\"dataframe\">\n",
              "  <thead>\n",
              "    <tr style=\"text-align: right;\">\n",
              "      <th></th>\n",
              "      <th>QaA</th>\n",
              "      <th>QaE</th>\n",
              "      <th>QbA</th>\n",
              "      <th>QbE</th>\n",
              "      <th>QcA</th>\n",
              "      <th>QcE</th>\n",
              "      <th>QdA</th>\n",
              "      <th>QdE</th>\n",
              "      <th>QeA</th>\n",
              "      <th>QeE</th>\n",
              "      <th>QfA</th>\n",
              "      <th>QfE</th>\n",
              "      <th>QgA</th>\n",
              "      <th>QgE</th>\n",
              "      <th>QhA</th>\n",
              "      <th>QhE</th>\n",
              "      <th>QiA</th>\n",
              "      <th>QiE</th>\n",
              "      <th>QjA</th>\n",
              "      <th>QjE</th>\n",
              "      <th>QkA</th>\n",
              "      <th>QkE</th>\n",
              "      <th>QlA</th>\n",
              "      <th>QlE</th>\n",
              "      <th>QmA</th>\n",
              "      <th>QmE</th>\n",
              "      <th>QnA</th>\n",
              "      <th>QnE</th>\n",
              "      <th>QoA</th>\n",
              "      <th>QoE</th>\n",
              "      <th>QpA</th>\n",
              "      <th>QpE</th>\n",
              "      <th>QqA</th>\n",
              "      <th>QqE</th>\n",
              "      <th>QrA</th>\n",
              "      <th>QrE</th>\n",
              "      <th>QsA</th>\n",
              "      <th>QsE</th>\n",
              "      <th>QtA</th>\n",
              "      <th>QtE</th>\n",
              "      <th>age_group</th>\n",
              "      <th>education</th>\n",
              "      <th>engnat</th>\n",
              "      <th>familysize</th>\n",
              "      <th>gender</th>\n",
              "      <th>hand</th>\n",
              "      <th>married</th>\n",
              "      <th>race</th>\n",
              "      <th>religion</th>\n",
              "      <th>tp01</th>\n",
              "      <th>tp02</th>\n",
              "      <th>tp03</th>\n",
              "      <th>tp04</th>\n",
              "      <th>tp05</th>\n",
              "      <th>tp06</th>\n",
              "      <th>tp07</th>\n",
              "      <th>tp08</th>\n",
              "      <th>tp09</th>\n",
              "      <th>tp10</th>\n",
              "      <th>urban</th>\n",
              "      <th>wf_01</th>\n",
              "      <th>wf_02</th>\n",
              "      <th>wf_03</th>\n",
              "      <th>wr_01</th>\n",
              "      <th>wr_02</th>\n",
              "      <th>wr_03</th>\n",
              "      <th>wr_04</th>\n",
              "      <th>wr_05</th>\n",
              "      <th>wr_06</th>\n",
              "      <th>wr_07</th>\n",
              "      <th>wr_08</th>\n",
              "      <th>wr_09</th>\n",
              "      <th>wr_10</th>\n",
              "      <th>wr_11</th>\n",
              "      <th>wr_12</th>\n",
              "      <th>wr_13</th>\n",
              "    </tr>\n",
              "    <tr>\n",
              "      <th>index</th>\n",
              "      <th></th>\n",
              "      <th></th>\n",
              "      <th></th>\n",
              "      <th></th>\n",
              "      <th></th>\n",
              "      <th></th>\n",
              "      <th></th>\n",
              "      <th></th>\n",
              "      <th></th>\n",
              "      <th></th>\n",
              "      <th></th>\n",
              "      <th></th>\n",
              "      <th></th>\n",
              "      <th></th>\n",
              "      <th></th>\n",
              "      <th></th>\n",
              "      <th></th>\n",
              "      <th></th>\n",
              "      <th></th>\n",
              "      <th></th>\n",
              "      <th></th>\n",
              "      <th></th>\n",
              "      <th></th>\n",
              "      <th></th>\n",
              "      <th></th>\n",
              "      <th></th>\n",
              "      <th></th>\n",
              "      <th></th>\n",
              "      <th></th>\n",
              "      <th></th>\n",
              "      <th></th>\n",
              "      <th></th>\n",
              "      <th></th>\n",
              "      <th></th>\n",
              "      <th></th>\n",
              "      <th></th>\n",
              "      <th></th>\n",
              "      <th></th>\n",
              "      <th></th>\n",
              "      <th></th>\n",
              "      <th></th>\n",
              "      <th></th>\n",
              "      <th></th>\n",
              "      <th></th>\n",
              "      <th></th>\n",
              "      <th></th>\n",
              "      <th></th>\n",
              "      <th></th>\n",
              "      <th></th>\n",
              "      <th></th>\n",
              "      <th></th>\n",
              "      <th></th>\n",
              "      <th></th>\n",
              "      <th></th>\n",
              "      <th></th>\n",
              "      <th></th>\n",
              "      <th></th>\n",
              "      <th></th>\n",
              "      <th></th>\n",
              "      <th></th>\n",
              "      <th></th>\n",
              "      <th></th>\n",
              "      <th></th>\n",
              "      <th></th>\n",
              "      <th></th>\n",
              "      <th></th>\n",
              "      <th></th>\n",
              "      <th></th>\n",
              "      <th></th>\n",
              "      <th></th>\n",
              "      <th></th>\n",
              "      <th></th>\n",
              "      <th></th>\n",
              "      <th></th>\n",
              "      <th></th>\n",
              "      <th></th>\n",
              "    </tr>\n",
              "  </thead>\n",
              "  <tbody>\n",
              "    <tr>\n",
              "      <th>2</th>\n",
              "      <td>4.0</td>\n",
              "      <td>1623</td>\n",
              "      <td>1.0</td>\n",
              "      <td>1480</td>\n",
              "      <td>1.0</td>\n",
              "      <td>1021</td>\n",
              "      <td>4.0</td>\n",
              "      <td>3374</td>\n",
              "      <td>5.0</td>\n",
              "      <td>1333</td>\n",
              "      <td>1.0</td>\n",
              "      <td>531</td>\n",
              "      <td>4.0</td>\n",
              "      <td>1167</td>\n",
              "      <td>1.0</td>\n",
              "      <td>1016</td>\n",
              "      <td>3.0</td>\n",
              "      <td>2653</td>\n",
              "      <td>2.0</td>\n",
              "      <td>1569</td>\n",
              "      <td>5.0</td>\n",
              "      <td>998</td>\n",
              "      <td>5.0</td>\n",
              "      <td>2547</td>\n",
              "      <td>2.0</td>\n",
              "      <td>918</td>\n",
              "      <td>4.0</td>\n",
              "      <td>2153</td>\n",
              "      <td>2.0</td>\n",
              "      <td>1304</td>\n",
              "      <td>1.0</td>\n",
              "      <td>1131</td>\n",
              "      <td>5.0</td>\n",
              "      <td>937</td>\n",
              "      <td>4.0</td>\n",
              "      <td>1327</td>\n",
              "      <td>1.0</td>\n",
              "      <td>1170</td>\n",
              "      <td>1.0</td>\n",
              "      <td>1409</td>\n",
              "      <td>30</td>\n",
              "      <td>3</td>\n",
              "      <td>1</td>\n",
              "      <td>3</td>\n",
              "      <td>1</td>\n",
              "      <td>1</td>\n",
              "      <td>2</td>\n",
              "      <td>6</td>\n",
              "      <td>10</td>\n",
              "      <td>2</td>\n",
              "      <td>3</td>\n",
              "      <td>1</td>\n",
              "      <td>5</td>\n",
              "      <td>3</td>\n",
              "      <td>4</td>\n",
              "      <td>2</td>\n",
              "      <td>6</td>\n",
              "      <td>1</td>\n",
              "      <td>3</td>\n",
              "      <td>2</td>\n",
              "      <td>0</td>\n",
              "      <td>0</td>\n",
              "      <td>1</td>\n",
              "      <td>1</td>\n",
              "      <td>1</td>\n",
              "      <td>0</td>\n",
              "      <td>1</td>\n",
              "      <td>1</td>\n",
              "      <td>0</td>\n",
              "      <td>1</td>\n",
              "      <td>1</td>\n",
              "      <td>1</td>\n",
              "      <td>1</td>\n",
              "      <td>0</td>\n",
              "      <td>1</td>\n",
              "      <td>1</td>\n",
              "    </tr>\n",
              "    <tr>\n",
              "      <th>3</th>\n",
              "      <td>3.0</td>\n",
              "      <td>504</td>\n",
              "      <td>3.0</td>\n",
              "      <td>2311</td>\n",
              "      <td>4.0</td>\n",
              "      <td>992</td>\n",
              "      <td>3.0</td>\n",
              "      <td>3245</td>\n",
              "      <td>1.0</td>\n",
              "      <td>357</td>\n",
              "      <td>2.0</td>\n",
              "      <td>1519</td>\n",
              "      <td>4.0</td>\n",
              "      <td>159</td>\n",
              "      <td>3.0</td>\n",
              "      <td>2275</td>\n",
              "      <td>5.0</td>\n",
              "      <td>2809</td>\n",
              "      <td>4.0</td>\n",
              "      <td>5614</td>\n",
              "      <td>3.0</td>\n",
              "      <td>3219</td>\n",
              "      <td>4.0</td>\n",
              "      <td>1296</td>\n",
              "      <td>4.0</td>\n",
              "      <td>9046</td>\n",
              "      <td>4.0</td>\n",
              "      <td>1216</td>\n",
              "      <td>4.0</td>\n",
              "      <td>1169</td>\n",
              "      <td>4.0</td>\n",
              "      <td>23868</td>\n",
              "      <td>3.0</td>\n",
              "      <td>581</td>\n",
              "      <td>4.0</td>\n",
              "      <td>8830</td>\n",
              "      <td>4.0</td>\n",
              "      <td>2392</td>\n",
              "      <td>5.0</td>\n",
              "      <td>1312</td>\n",
              "      <td>20</td>\n",
              "      <td>4</td>\n",
              "      <td>2</td>\n",
              "      <td>0</td>\n",
              "      <td>0</td>\n",
              "      <td>1</td>\n",
              "      <td>1</td>\n",
              "      <td>1</td>\n",
              "      <td>7</td>\n",
              "      <td>2</td>\n",
              "      <td>4</td>\n",
              "      <td>1</td>\n",
              "      <td>1</td>\n",
              "      <td>1</td>\n",
              "      <td>3</td>\n",
              "      <td>1</td>\n",
              "      <td>3</td>\n",
              "      <td>1</td>\n",
              "      <td>3</td>\n",
              "      <td>3</td>\n",
              "      <td>0</td>\n",
              "      <td>0</td>\n",
              "      <td>0</td>\n",
              "      <td>0</td>\n",
              "      <td>1</td>\n",
              "      <td>0</td>\n",
              "      <td>0</td>\n",
              "      <td>0</td>\n",
              "      <td>0</td>\n",
              "      <td>0</td>\n",
              "      <td>1</td>\n",
              "      <td>0</td>\n",
              "      <td>1</td>\n",
              "      <td>0</td>\n",
              "      <td>1</td>\n",
              "      <td>1</td>\n",
              "    </tr>\n",
              "    <tr>\n",
              "      <th>5</th>\n",
              "      <td>2.0</td>\n",
              "      <td>834</td>\n",
              "      <td>1.0</td>\n",
              "      <td>1769</td>\n",
              "      <td>4.0</td>\n",
              "      <td>2105</td>\n",
              "      <td>1.0</td>\n",
              "      <td>1070</td>\n",
              "      <td>5.0</td>\n",
              "      <td>1930</td>\n",
              "      <td>2.0</td>\n",
              "      <td>1258</td>\n",
              "      <td>5.0</td>\n",
              "      <td>1451</td>\n",
              "      <td>1.0</td>\n",
              "      <td>1029</td>\n",
              "      <td>3.0</td>\n",
              "      <td>1633</td>\n",
              "      <td>1.0</td>\n",
              "      <td>2254</td>\n",
              "      <td>5.0</td>\n",
              "      <td>1984</td>\n",
              "      <td>1.0</td>\n",
              "      <td>1158</td>\n",
              "      <td>3.0</td>\n",
              "      <td>1194</td>\n",
              "      <td>3.0</td>\n",
              "      <td>483</td>\n",
              "      <td>1.0</td>\n",
              "      <td>983</td>\n",
              "      <td>1.0</td>\n",
              "      <td>817</td>\n",
              "      <td>5.0</td>\n",
              "      <td>1052</td>\n",
              "      <td>1.0</td>\n",
              "      <td>1354</td>\n",
              "      <td>1.0</td>\n",
              "      <td>747</td>\n",
              "      <td>2.0</td>\n",
              "      <td>1826</td>\n",
              "      <td>40</td>\n",
              "      <td>2</td>\n",
              "      <td>1</td>\n",
              "      <td>6</td>\n",
              "      <td>0</td>\n",
              "      <td>1</td>\n",
              "      <td>3</td>\n",
              "      <td>6</td>\n",
              "      <td>10</td>\n",
              "      <td>5</td>\n",
              "      <td>5</td>\n",
              "      <td>5</td>\n",
              "      <td>4</td>\n",
              "      <td>5</td>\n",
              "      <td>3</td>\n",
              "      <td>3</td>\n",
              "      <td>7</td>\n",
              "      <td>5</td>\n",
              "      <td>3</td>\n",
              "      <td>2</td>\n",
              "      <td>0</td>\n",
              "      <td>0</td>\n",
              "      <td>0</td>\n",
              "      <td>0</td>\n",
              "      <td>1</td>\n",
              "      <td>0</td>\n",
              "      <td>0</td>\n",
              "      <td>0</td>\n",
              "      <td>0</td>\n",
              "      <td>0</td>\n",
              "      <td>1</td>\n",
              "      <td>0</td>\n",
              "      <td>0</td>\n",
              "      <td>0</td>\n",
              "      <td>0</td>\n",
              "      <td>0</td>\n",
              "    </tr>\n",
              "    <tr>\n",
              "      <th>8</th>\n",
              "      <td>5.0</td>\n",
              "      <td>795</td>\n",
              "      <td>2.0</td>\n",
              "      <td>3469</td>\n",
              "      <td>4.0</td>\n",
              "      <td>1693</td>\n",
              "      <td>3.0</td>\n",
              "      <td>1991</td>\n",
              "      <td>4.0</td>\n",
              "      <td>5922</td>\n",
              "      <td>2.0</td>\n",
              "      <td>1322</td>\n",
              "      <td>5.0</td>\n",
              "      <td>1014</td>\n",
              "      <td>5.0</td>\n",
              "      <td>3014</td>\n",
              "      <td>3.0</td>\n",
              "      <td>3771</td>\n",
              "      <td>3.0</td>\n",
              "      <td>13295</td>\n",
              "      <td>5.0</td>\n",
              "      <td>3605</td>\n",
              "      <td>3.0</td>\n",
              "      <td>9265</td>\n",
              "      <td>4.0</td>\n",
              "      <td>2531</td>\n",
              "      <td>1.0</td>\n",
              "      <td>812</td>\n",
              "      <td>4.0</td>\n",
              "      <td>2595</td>\n",
              "      <td>5.0</td>\n",
              "      <td>1227</td>\n",
              "      <td>5.0</td>\n",
              "      <td>1837</td>\n",
              "      <td>4.0</td>\n",
              "      <td>1218</td>\n",
              "      <td>4.0</td>\n",
              "      <td>9923</td>\n",
              "      <td>5.0</td>\n",
              "      <td>1631</td>\n",
              "      <td>20</td>\n",
              "      <td>4</td>\n",
              "      <td>2</td>\n",
              "      <td>0</td>\n",
              "      <td>0</td>\n",
              "      <td>2</td>\n",
              "      <td>1</td>\n",
              "      <td>5</td>\n",
              "      <td>5</td>\n",
              "      <td>1</td>\n",
              "      <td>1</td>\n",
              "      <td>2</td>\n",
              "      <td>1</td>\n",
              "      <td>2</td>\n",
              "      <td>2</td>\n",
              "      <td>2</td>\n",
              "      <td>2</td>\n",
              "      <td>2</td>\n",
              "      <td>3</td>\n",
              "      <td>1</td>\n",
              "      <td>0</td>\n",
              "      <td>0</td>\n",
              "      <td>0</td>\n",
              "      <td>0</td>\n",
              "      <td>0</td>\n",
              "      <td>0</td>\n",
              "      <td>0</td>\n",
              "      <td>0</td>\n",
              "      <td>0</td>\n",
              "      <td>0</td>\n",
              "      <td>1</td>\n",
              "      <td>0</td>\n",
              "      <td>0</td>\n",
              "      <td>0</td>\n",
              "      <td>1</td>\n",
              "      <td>1</td>\n",
              "    </tr>\n",
              "    <tr>\n",
              "      <th>9</th>\n",
              "      <td>2.0</td>\n",
              "      <td>1668</td>\n",
              "      <td>1.0</td>\n",
              "      <td>866</td>\n",
              "      <td>1.0</td>\n",
              "      <td>895</td>\n",
              "      <td>1.0</td>\n",
              "      <td>1308</td>\n",
              "      <td>2.0</td>\n",
              "      <td>1715</td>\n",
              "      <td>5.0</td>\n",
              "      <td>563</td>\n",
              "      <td>5.0</td>\n",
              "      <td>574</td>\n",
              "      <td>1.0</td>\n",
              "      <td>1406</td>\n",
              "      <td>5.0</td>\n",
              "      <td>1698</td>\n",
              "      <td>3.0</td>\n",
              "      <td>1354</td>\n",
              "      <td>5.0</td>\n",
              "      <td>774</td>\n",
              "      <td>1.0</td>\n",
              "      <td>1299</td>\n",
              "      <td>1.0</td>\n",
              "      <td>810</td>\n",
              "      <td>5.0</td>\n",
              "      <td>327</td>\n",
              "      <td>1.0</td>\n",
              "      <td>646</td>\n",
              "      <td>1.0</td>\n",
              "      <td>957</td>\n",
              "      <td>4.0</td>\n",
              "      <td>850</td>\n",
              "      <td>5.0</td>\n",
              "      <td>693</td>\n",
              "      <td>1.0</td>\n",
              "      <td>1313</td>\n",
              "      <td>1.0</td>\n",
              "      <td>986</td>\n",
              "      <td>50</td>\n",
              "      <td>3</td>\n",
              "      <td>1</td>\n",
              "      <td>3</td>\n",
              "      <td>0</td>\n",
              "      <td>1</td>\n",
              "      <td>1</td>\n",
              "      <td>6</td>\n",
              "      <td>5</td>\n",
              "      <td>0</td>\n",
              "      <td>1</td>\n",
              "      <td>1</td>\n",
              "      <td>2</td>\n",
              "      <td>0</td>\n",
              "      <td>3</td>\n",
              "      <td>0</td>\n",
              "      <td>4</td>\n",
              "      <td>1</td>\n",
              "      <td>5</td>\n",
              "      <td>2</td>\n",
              "      <td>0</td>\n",
              "      <td>0</td>\n",
              "      <td>1</td>\n",
              "      <td>1</td>\n",
              "      <td>1</td>\n",
              "      <td>0</td>\n",
              "      <td>1</td>\n",
              "      <td>1</td>\n",
              "      <td>0</td>\n",
              "      <td>1</td>\n",
              "      <td>1</td>\n",
              "      <td>0</td>\n",
              "      <td>1</td>\n",
              "      <td>1</td>\n",
              "      <td>1</td>\n",
              "      <td>1</td>\n",
              "    </tr>\n",
              "  </tbody>\n",
              "</table>\n",
              "</div>"
            ],
            "text/plain": [
              "       QaA   QaE  QbA   QbE  QcA  ...  wr_09  wr_10  wr_11  wr_12  wr_13\n",
              "index                             ...                                   \n",
              "2      4.0  1623  1.0  1480  1.0  ...      1      1      0      1      1\n",
              "3      3.0   504  3.0  2311  4.0  ...      0      1      0      1      1\n",
              "5      2.0   834  1.0  1769  4.0  ...      0      0      0      0      0\n",
              "8      5.0   795  2.0  3469  4.0  ...      0      0      0      1      1\n",
              "9      2.0  1668  1.0   866  1.0  ...      0      1      1      1      1\n",
              "\n",
              "[5 rows x 76 columns]"
            ]
          },
          "metadata": {
            "tags": []
          },
          "execution_count": 176
        }
      ]
    },
    {
      "cell_type": "code",
      "metadata": {
        "colab": {
          "base_uri": "https://localhost:8080/",
          "height": 245
        },
        "id": "6XNDwg9BvGyh",
        "outputId": "7e245833-5bf5-4d7c-be1c-7dca726239e7"
      },
      "source": [
        "gender=le.fit_transform(test['gender'].values)\r\n",
        "race=le.fit_transform(test['race'].values)\r\n",
        "religion=le.fit_transform(test['religion'].values)\r\n",
        "test['gender']=gender\r\n",
        "test['race']=race\r\n",
        "test['religion']=religion\r\n",
        "test=test.replace(['10s','20s','30s','40s','50s','60s','70s','+70s'],[10,20,30,40,50,60,70,80])\r\n",
        "test.head()"
      ],
      "execution_count": 177,
      "outputs": [
        {
          "output_type": "execute_result",
          "data": {
            "text/html": [
              "<div>\n",
              "<style scoped>\n",
              "    .dataframe tbody tr th:only-of-type {\n",
              "        vertical-align: middle;\n",
              "    }\n",
              "\n",
              "    .dataframe tbody tr th {\n",
              "        vertical-align: top;\n",
              "    }\n",
              "\n",
              "    .dataframe thead th {\n",
              "        text-align: right;\n",
              "    }\n",
              "</style>\n",
              "<table border=\"1\" class=\"dataframe\">\n",
              "  <thead>\n",
              "    <tr style=\"text-align: right;\">\n",
              "      <th></th>\n",
              "      <th>QaA</th>\n",
              "      <th>QaE</th>\n",
              "      <th>QbA</th>\n",
              "      <th>QbE</th>\n",
              "      <th>QcA</th>\n",
              "      <th>QcE</th>\n",
              "      <th>QdA</th>\n",
              "      <th>QdE</th>\n",
              "      <th>QeA</th>\n",
              "      <th>QeE</th>\n",
              "      <th>QfA</th>\n",
              "      <th>QfE</th>\n",
              "      <th>QgA</th>\n",
              "      <th>QgE</th>\n",
              "      <th>QhA</th>\n",
              "      <th>QhE</th>\n",
              "      <th>QiA</th>\n",
              "      <th>QiE</th>\n",
              "      <th>QjA</th>\n",
              "      <th>QjE</th>\n",
              "      <th>QkA</th>\n",
              "      <th>QkE</th>\n",
              "      <th>QlA</th>\n",
              "      <th>QlE</th>\n",
              "      <th>QmA</th>\n",
              "      <th>QmE</th>\n",
              "      <th>QnA</th>\n",
              "      <th>QnE</th>\n",
              "      <th>QoA</th>\n",
              "      <th>QoE</th>\n",
              "      <th>QpA</th>\n",
              "      <th>QpE</th>\n",
              "      <th>QqA</th>\n",
              "      <th>QqE</th>\n",
              "      <th>QrA</th>\n",
              "      <th>QrE</th>\n",
              "      <th>QsA</th>\n",
              "      <th>QsE</th>\n",
              "      <th>QtA</th>\n",
              "      <th>QtE</th>\n",
              "      <th>age_group</th>\n",
              "      <th>education</th>\n",
              "      <th>engnat</th>\n",
              "      <th>familysize</th>\n",
              "      <th>gender</th>\n",
              "      <th>hand</th>\n",
              "      <th>married</th>\n",
              "      <th>race</th>\n",
              "      <th>religion</th>\n",
              "      <th>tp01</th>\n",
              "      <th>tp02</th>\n",
              "      <th>tp03</th>\n",
              "      <th>tp04</th>\n",
              "      <th>tp05</th>\n",
              "      <th>tp06</th>\n",
              "      <th>tp07</th>\n",
              "      <th>tp08</th>\n",
              "      <th>tp09</th>\n",
              "      <th>tp10</th>\n",
              "      <th>urban</th>\n",
              "      <th>wf_01</th>\n",
              "      <th>wf_02</th>\n",
              "      <th>wf_03</th>\n",
              "      <th>wr_01</th>\n",
              "      <th>wr_02</th>\n",
              "      <th>wr_03</th>\n",
              "      <th>wr_04</th>\n",
              "      <th>wr_05</th>\n",
              "      <th>wr_06</th>\n",
              "      <th>wr_07</th>\n",
              "      <th>wr_08</th>\n",
              "      <th>wr_09</th>\n",
              "      <th>wr_10</th>\n",
              "      <th>wr_11</th>\n",
              "      <th>wr_12</th>\n",
              "      <th>wr_13</th>\n",
              "    </tr>\n",
              "    <tr>\n",
              "      <th>index</th>\n",
              "      <th></th>\n",
              "      <th></th>\n",
              "      <th></th>\n",
              "      <th></th>\n",
              "      <th></th>\n",
              "      <th></th>\n",
              "      <th></th>\n",
              "      <th></th>\n",
              "      <th></th>\n",
              "      <th></th>\n",
              "      <th></th>\n",
              "      <th></th>\n",
              "      <th></th>\n",
              "      <th></th>\n",
              "      <th></th>\n",
              "      <th></th>\n",
              "      <th></th>\n",
              "      <th></th>\n",
              "      <th></th>\n",
              "      <th></th>\n",
              "      <th></th>\n",
              "      <th></th>\n",
              "      <th></th>\n",
              "      <th></th>\n",
              "      <th></th>\n",
              "      <th></th>\n",
              "      <th></th>\n",
              "      <th></th>\n",
              "      <th></th>\n",
              "      <th></th>\n",
              "      <th></th>\n",
              "      <th></th>\n",
              "      <th></th>\n",
              "      <th></th>\n",
              "      <th></th>\n",
              "      <th></th>\n",
              "      <th></th>\n",
              "      <th></th>\n",
              "      <th></th>\n",
              "      <th></th>\n",
              "      <th></th>\n",
              "      <th></th>\n",
              "      <th></th>\n",
              "      <th></th>\n",
              "      <th></th>\n",
              "      <th></th>\n",
              "      <th></th>\n",
              "      <th></th>\n",
              "      <th></th>\n",
              "      <th></th>\n",
              "      <th></th>\n",
              "      <th></th>\n",
              "      <th></th>\n",
              "      <th></th>\n",
              "      <th></th>\n",
              "      <th></th>\n",
              "      <th></th>\n",
              "      <th></th>\n",
              "      <th></th>\n",
              "      <th></th>\n",
              "      <th></th>\n",
              "      <th></th>\n",
              "      <th></th>\n",
              "      <th></th>\n",
              "      <th></th>\n",
              "      <th></th>\n",
              "      <th></th>\n",
              "      <th></th>\n",
              "      <th></th>\n",
              "      <th></th>\n",
              "      <th></th>\n",
              "      <th></th>\n",
              "      <th></th>\n",
              "      <th></th>\n",
              "      <th></th>\n",
              "      <th></th>\n",
              "    </tr>\n",
              "  </thead>\n",
              "  <tbody>\n",
              "    <tr>\n",
              "      <th>6</th>\n",
              "      <td>1.0</td>\n",
              "      <td>1382</td>\n",
              "      <td>1.0</td>\n",
              "      <td>1473</td>\n",
              "      <td>5.0</td>\n",
              "      <td>1479</td>\n",
              "      <td>4.0</td>\n",
              "      <td>2403</td>\n",
              "      <td>1.0</td>\n",
              "      <td>616</td>\n",
              "      <td>2.0</td>\n",
              "      <td>549</td>\n",
              "      <td>5.0</td>\n",
              "      <td>390</td>\n",
              "      <td>4.0</td>\n",
              "      <td>1601</td>\n",
              "      <td>5.0</td>\n",
              "      <td>1312</td>\n",
              "      <td>1.0</td>\n",
              "      <td>1699</td>\n",
              "      <td>4.0</td>\n",
              "      <td>1229</td>\n",
              "      <td>4.0</td>\n",
              "      <td>1175</td>\n",
              "      <td>1.0</td>\n",
              "      <td>1078</td>\n",
              "      <td>4.0</td>\n",
              "      <td>341</td>\n",
              "      <td>5.0</td>\n",
              "      <td>635</td>\n",
              "      <td>2.0</td>\n",
              "      <td>1448</td>\n",
              "      <td>4.0</td>\n",
              "      <td>838</td>\n",
              "      <td>4.0</td>\n",
              "      <td>765</td>\n",
              "      <td>3.0</td>\n",
              "      <td>1954</td>\n",
              "      <td>1.0</td>\n",
              "      <td>1482</td>\n",
              "      <td>20</td>\n",
              "      <td>2</td>\n",
              "      <td>1</td>\n",
              "      <td>3</td>\n",
              "      <td>1</td>\n",
              "      <td>1</td>\n",
              "      <td>1</td>\n",
              "      <td>6</td>\n",
              "      <td>1</td>\n",
              "      <td>2</td>\n",
              "      <td>4</td>\n",
              "      <td>3</td>\n",
              "      <td>5</td>\n",
              "      <td>1</td>\n",
              "      <td>1</td>\n",
              "      <td>3</td>\n",
              "      <td>2</td>\n",
              "      <td>1</td>\n",
              "      <td>5</td>\n",
              "      <td>2</td>\n",
              "      <td>0</td>\n",
              "      <td>1</td>\n",
              "      <td>0</td>\n",
              "      <td>1</td>\n",
              "      <td>1</td>\n",
              "      <td>1</td>\n",
              "      <td>1</td>\n",
              "      <td>1</td>\n",
              "      <td>1</td>\n",
              "      <td>1</td>\n",
              "      <td>1</td>\n",
              "      <td>0</td>\n",
              "      <td>1</td>\n",
              "      <td>0</td>\n",
              "      <td>1</td>\n",
              "      <td>1</td>\n",
              "    </tr>\n",
              "    <tr>\n",
              "      <th>10</th>\n",
              "      <td>1.0</td>\n",
              "      <td>1465</td>\n",
              "      <td>1.0</td>\n",
              "      <td>7581</td>\n",
              "      <td>4.0</td>\n",
              "      <td>1345</td>\n",
              "      <td>1.0</td>\n",
              "      <td>350</td>\n",
              "      <td>3.0</td>\n",
              "      <td>1747</td>\n",
              "      <td>1.0</td>\n",
              "      <td>1096</td>\n",
              "      <td>2.0</td>\n",
              "      <td>960</td>\n",
              "      <td>4.0</td>\n",
              "      <td>2785</td>\n",
              "      <td>5.0</td>\n",
              "      <td>7188</td>\n",
              "      <td>4.0</td>\n",
              "      <td>4032</td>\n",
              "      <td>4.0</td>\n",
              "      <td>1761</td>\n",
              "      <td>5.0</td>\n",
              "      <td>1306</td>\n",
              "      <td>5.0</td>\n",
              "      <td>2089</td>\n",
              "      <td>1.0</td>\n",
              "      <td>694</td>\n",
              "      <td>2.0</td>\n",
              "      <td>1527</td>\n",
              "      <td>1.0</td>\n",
              "      <td>1335</td>\n",
              "      <td>3.0</td>\n",
              "      <td>821</td>\n",
              "      <td>5.0</td>\n",
              "      <td>1826</td>\n",
              "      <td>4.0</td>\n",
              "      <td>1259</td>\n",
              "      <td>3.0</td>\n",
              "      <td>1564</td>\n",
              "      <td>20</td>\n",
              "      <td>4</td>\n",
              "      <td>2</td>\n",
              "      <td>2</td>\n",
              "      <td>0</td>\n",
              "      <td>1</td>\n",
              "      <td>1</td>\n",
              "      <td>1</td>\n",
              "      <td>0</td>\n",
              "      <td>2</td>\n",
              "      <td>5</td>\n",
              "      <td>0</td>\n",
              "      <td>1</td>\n",
              "      <td>1</td>\n",
              "      <td>4</td>\n",
              "      <td>1</td>\n",
              "      <td>6</td>\n",
              "      <td>1</td>\n",
              "      <td>1</td>\n",
              "      <td>3</td>\n",
              "      <td>0</td>\n",
              "      <td>0</td>\n",
              "      <td>0</td>\n",
              "      <td>0</td>\n",
              "      <td>1</td>\n",
              "      <td>0</td>\n",
              "      <td>0</td>\n",
              "      <td>1</td>\n",
              "      <td>0</td>\n",
              "      <td>1</td>\n",
              "      <td>1</td>\n",
              "      <td>0</td>\n",
              "      <td>1</td>\n",
              "      <td>1</td>\n",
              "      <td>1</td>\n",
              "      <td>1</td>\n",
              "    </tr>\n",
              "    <tr>\n",
              "      <th>12</th>\n",
              "      <td>2.0</td>\n",
              "      <td>466</td>\n",
              "      <td>4.0</td>\n",
              "      <td>1650</td>\n",
              "      <td>4.0</td>\n",
              "      <td>655</td>\n",
              "      <td>3.0</td>\n",
              "      <td>1241</td>\n",
              "      <td>5.0</td>\n",
              "      <td>1339</td>\n",
              "      <td>2.0</td>\n",
              "      <td>515</td>\n",
              "      <td>2.0</td>\n",
              "      <td>936</td>\n",
              "      <td>3.0</td>\n",
              "      <td>1583</td>\n",
              "      <td>5.0</td>\n",
              "      <td>1654</td>\n",
              "      <td>4.0</td>\n",
              "      <td>1676</td>\n",
              "      <td>5.0</td>\n",
              "      <td>818</td>\n",
              "      <td>5.0</td>\n",
              "      <td>1464</td>\n",
              "      <td>4.0</td>\n",
              "      <td>1153</td>\n",
              "      <td>5.0</td>\n",
              "      <td>871</td>\n",
              "      <td>5.0</td>\n",
              "      <td>937</td>\n",
              "      <td>4.0</td>\n",
              "      <td>906</td>\n",
              "      <td>4.0</td>\n",
              "      <td>1117</td>\n",
              "      <td>4.0</td>\n",
              "      <td>1278</td>\n",
              "      <td>3.0</td>\n",
              "      <td>619</td>\n",
              "      <td>5.0</td>\n",
              "      <td>1552</td>\n",
              "      <td>10</td>\n",
              "      <td>3</td>\n",
              "      <td>2</td>\n",
              "      <td>4</td>\n",
              "      <td>1</td>\n",
              "      <td>1</td>\n",
              "      <td>1</td>\n",
              "      <td>1</td>\n",
              "      <td>9</td>\n",
              "      <td>2</td>\n",
              "      <td>1</td>\n",
              "      <td>1</td>\n",
              "      <td>5</td>\n",
              "      <td>0</td>\n",
              "      <td>1</td>\n",
              "      <td>0</td>\n",
              "      <td>1</td>\n",
              "      <td>3</td>\n",
              "      <td>4</td>\n",
              "      <td>2</td>\n",
              "      <td>0</td>\n",
              "      <td>0</td>\n",
              "      <td>0</td>\n",
              "      <td>1</td>\n",
              "      <td>1</td>\n",
              "      <td>0</td>\n",
              "      <td>1</td>\n",
              "      <td>1</td>\n",
              "      <td>0</td>\n",
              "      <td>1</td>\n",
              "      <td>1</td>\n",
              "      <td>0</td>\n",
              "      <td>1</td>\n",
              "      <td>1</td>\n",
              "      <td>1</td>\n",
              "      <td>1</td>\n",
              "    </tr>\n",
              "    <tr>\n",
              "      <th>14</th>\n",
              "      <td>1.0</td>\n",
              "      <td>739</td>\n",
              "      <td>4.0</td>\n",
              "      <td>2544</td>\n",
              "      <td>5.0</td>\n",
              "      <td>880</td>\n",
              "      <td>1.0</td>\n",
              "      <td>1425</td>\n",
              "      <td>1.0</td>\n",
              "      <td>1424</td>\n",
              "      <td>2.0</td>\n",
              "      <td>1032</td>\n",
              "      <td>2.0</td>\n",
              "      <td>943</td>\n",
              "      <td>1.0</td>\n",
              "      <td>629</td>\n",
              "      <td>2.0</td>\n",
              "      <td>2556</td>\n",
              "      <td>4.0</td>\n",
              "      <td>146</td>\n",
              "      <td>2.0</td>\n",
              "      <td>1586</td>\n",
              "      <td>5.0</td>\n",
              "      <td>1526</td>\n",
              "      <td>4.0</td>\n",
              "      <td>869</td>\n",
              "      <td>2.0</td>\n",
              "      <td>661</td>\n",
              "      <td>5.0</td>\n",
              "      <td>2685</td>\n",
              "      <td>5.0</td>\n",
              "      <td>989</td>\n",
              "      <td>2.0</td>\n",
              "      <td>2225</td>\n",
              "      <td>1.0</td>\n",
              "      <td>1095</td>\n",
              "      <td>5.0</td>\n",
              "      <td>1147</td>\n",
              "      <td>5.0</td>\n",
              "      <td>947</td>\n",
              "      <td>60</td>\n",
              "      <td>3</td>\n",
              "      <td>1</td>\n",
              "      <td>3</td>\n",
              "      <td>1</td>\n",
              "      <td>1</td>\n",
              "      <td>3</td>\n",
              "      <td>6</td>\n",
              "      <td>5</td>\n",
              "      <td>5</td>\n",
              "      <td>0</td>\n",
              "      <td>1</td>\n",
              "      <td>1</td>\n",
              "      <td>2</td>\n",
              "      <td>5</td>\n",
              "      <td>2</td>\n",
              "      <td>4</td>\n",
              "      <td>4</td>\n",
              "      <td>6</td>\n",
              "      <td>3</td>\n",
              "      <td>0</td>\n",
              "      <td>0</td>\n",
              "      <td>0</td>\n",
              "      <td>0</td>\n",
              "      <td>1</td>\n",
              "      <td>0</td>\n",
              "      <td>1</td>\n",
              "      <td>1</td>\n",
              "      <td>0</td>\n",
              "      <td>1</td>\n",
              "      <td>1</td>\n",
              "      <td>0</td>\n",
              "      <td>1</td>\n",
              "      <td>0</td>\n",
              "      <td>1</td>\n",
              "      <td>1</td>\n",
              "    </tr>\n",
              "    <tr>\n",
              "      <th>25</th>\n",
              "      <td>3.0</td>\n",
              "      <td>483</td>\n",
              "      <td>2.0</td>\n",
              "      <td>871</td>\n",
              "      <td>2.0</td>\n",
              "      <td>849</td>\n",
              "      <td>2.0</td>\n",
              "      <td>650</td>\n",
              "      <td>5.0</td>\n",
              "      <td>974</td>\n",
              "      <td>1.0</td>\n",
              "      <td>576</td>\n",
              "      <td>4.0</td>\n",
              "      <td>1162</td>\n",
              "      <td>1.0</td>\n",
              "      <td>1167</td>\n",
              "      <td>5.0</td>\n",
              "      <td>2206</td>\n",
              "      <td>4.0</td>\n",
              "      <td>1999</td>\n",
              "      <td>5.0</td>\n",
              "      <td>1335</td>\n",
              "      <td>5.0</td>\n",
              "      <td>678</td>\n",
              "      <td>2.0</td>\n",
              "      <td>697</td>\n",
              "      <td>5.0</td>\n",
              "      <td>595</td>\n",
              "      <td>3.0</td>\n",
              "      <td>1464</td>\n",
              "      <td>2.0</td>\n",
              "      <td>1028</td>\n",
              "      <td>4.0</td>\n",
              "      <td>823</td>\n",
              "      <td>4.0</td>\n",
              "      <td>1130</td>\n",
              "      <td>2.0</td>\n",
              "      <td>528</td>\n",
              "      <td>4.0</td>\n",
              "      <td>1548</td>\n",
              "      <td>30</td>\n",
              "      <td>4</td>\n",
              "      <td>1</td>\n",
              "      <td>4</td>\n",
              "      <td>0</td>\n",
              "      <td>1</td>\n",
              "      <td>3</td>\n",
              "      <td>6</td>\n",
              "      <td>5</td>\n",
              "      <td>2</td>\n",
              "      <td>5</td>\n",
              "      <td>1</td>\n",
              "      <td>4</td>\n",
              "      <td>1</td>\n",
              "      <td>2</td>\n",
              "      <td>0</td>\n",
              "      <td>5</td>\n",
              "      <td>2</td>\n",
              "      <td>1</td>\n",
              "      <td>2</td>\n",
              "      <td>0</td>\n",
              "      <td>0</td>\n",
              "      <td>0</td>\n",
              "      <td>1</td>\n",
              "      <td>1</td>\n",
              "      <td>0</td>\n",
              "      <td>1</td>\n",
              "      <td>1</td>\n",
              "      <td>0</td>\n",
              "      <td>1</td>\n",
              "      <td>1</td>\n",
              "      <td>0</td>\n",
              "      <td>1</td>\n",
              "      <td>0</td>\n",
              "      <td>1</td>\n",
              "      <td>1</td>\n",
              "    </tr>\n",
              "  </tbody>\n",
              "</table>\n",
              "</div>"
            ],
            "text/plain": [
              "       QaA   QaE  QbA   QbE  QcA  ...  wr_09  wr_10  wr_11  wr_12  wr_13\n",
              "index                             ...                                   \n",
              "6      1.0  1382  1.0  1473  5.0  ...      0      1      0      1      1\n",
              "10     1.0  1465  1.0  7581  4.0  ...      0      1      1      1      1\n",
              "12     2.0   466  4.0  1650  4.0  ...      0      1      1      1      1\n",
              "14     1.0   739  4.0  2544  5.0  ...      0      1      0      1      1\n",
              "25     3.0   483  2.0   871  2.0  ...      0      1      0      1      1\n",
              "\n",
              "[5 rows x 76 columns]"
            ]
          },
          "metadata": {
            "tags": []
          },
          "execution_count": 177
        }
      ]
    },
    {
      "cell_type": "markdown",
      "metadata": {
        "id": "K4wSsezqRrkM"
      },
      "source": [
        "#Raw Data"
      ]
    },
    {
      "cell_type": "markdown",
      "metadata": {
        "id": "uoJL6KTMqCa7"
      },
      "source": [
        "##Logistic Regression"
      ]
    },
    {
      "cell_type": "code",
      "metadata": {
        "colab": {
          "base_uri": "https://localhost:8080/"
        },
        "id": "FllyIuaeRccV",
        "outputId": "f0ea9309-f1ee-4f28-fd3b-2873f4ee3a18"
      },
      "source": [
        "from sklearn.linear_model import LogisticRegression\r\n",
        "lg=LogisticRegression(random_state=11)\r\n",
        "lg.fit(x_train,y_train)\r\n",
        "y_train_pred=lg.predict(x_train)\r\n",
        "y_test_pred=lg.predict(test)"
      ],
      "execution_count": 179,
      "outputs": [
        {
          "output_type": "stream",
          "text": [
            "/usr/local/lib/python3.6/dist-packages/sklearn/linear_model/_logistic.py:940: ConvergenceWarning: lbfgs failed to converge (status=1):\n",
            "STOP: TOTAL NO. of ITERATIONS REACHED LIMIT.\n",
            "\n",
            "Increase the number of iterations (max_iter) or scale the data as shown in:\n",
            "    https://scikit-learn.org/stable/modules/preprocessing.html\n",
            "Please also refer to the documentation for alternative solver options:\n",
            "    https://scikit-learn.org/stable/modules/linear_model.html#logistic-regression\n",
            "  extra_warning_msg=_LOGISTIC_SOLVER_CONVERGENCE_MSG)\n"
          ],
          "name": "stderr"
        }
      ]
    },
    {
      "cell_type": "code",
      "metadata": {
        "id": "ZfIIxmnlqLP_",
        "colab": {
          "base_uri": "https://localhost:8080/"
        },
        "outputId": "563f5a7e-11d1-448f-eb3a-401fccee39ee"
      },
      "source": [
        "from sklearn.metrics import accuracy_score\r\n",
        "print(accuracy_score(y_train,y_train_pred))"
      ],
      "execution_count": 180,
      "outputs": [
        {
          "output_type": "stream",
          "text": [
            "0.5523532048408786\n"
          ],
          "name": "stdout"
        }
      ]
    },
    {
      "cell_type": "code",
      "metadata": {
        "colab": {
          "base_uri": "https://localhost:8080/"
        },
        "id": "7ZVy6TR0z2qx",
        "outputId": "06891444-2f47-402c-ae84-ec9bf442493e"
      },
      "source": [
        "submit['voted']=y_test_pred\r\n",
        "submit.to_csv('submit.csv',mode='w',index_label=None)\r\n",
        "#!kaggle competitions submit -c 2020ml4re -f submit.csv -m 'Logistic Regression'"
      ],
      "execution_count": 181,
      "outputs": [
        {
          "output_type": "stream",
          "text": [
            "100% 72.5k/72.5k [00:04<00:00, 17.7kB/s]\n",
            "Successfully submitted to 2020.ML.중간고사.문제4.다시풀기"
          ],
          "name": "stdout"
        }
      ]
    },
    {
      "cell_type": "markdown",
      "metadata": {
        "id": "FQ830M1H0qLp"
      },
      "source": [
        "score=0.54434"
      ]
    },
    {
      "cell_type": "markdown",
      "metadata": {
        "id": "PcspUqOS0vaF"
      },
      "source": [
        "##KNN"
      ]
    },
    {
      "cell_type": "code",
      "metadata": {
        "id": "4sqEPXTq0u4O"
      },
      "source": [
        "from sklearn.neighbors import KNeighborsClassifier\r\n",
        "knn=KNeighborsClassifier()"
      ],
      "execution_count": 182,
      "outputs": []
    },
    {
      "cell_type": "code",
      "metadata": {
        "id": "GzoemVQ803Zc"
      },
      "source": [
        "knn.fit(x_train,y_train)\r\n",
        "y_train_pred=knn.predict(x_train)\r\n",
        "y_test_pred=knn.predict(test)"
      ],
      "execution_count": 183,
      "outputs": []
    },
    {
      "cell_type": "code",
      "metadata": {
        "colab": {
          "base_uri": "https://localhost:8080/"
        },
        "id": "rda18fic1DV-",
        "outputId": "e4f3b02d-8529-4fda-d8d2-dcbd8c8887b2"
      },
      "source": [
        "print(accuracy_score(y_train,y_train_pred))"
      ],
      "execution_count": 184,
      "outputs": [
        {
          "output_type": "stream",
          "text": [
            "0.7024204392649036\n"
          ],
          "name": "stdout"
        }
      ]
    },
    {
      "cell_type": "code",
      "metadata": {
        "colab": {
          "base_uri": "https://localhost:8080/"
        },
        "id": "t9p2RlAv10Py",
        "outputId": "3a7bf170-331d-4b09-998f-16842f78b99e"
      },
      "source": [
        "submit['voted']=y_test_pred\r\n",
        "submit.to_csv('submit.csv',mode='w',index_label=None)\r\n",
        "!kaggle competitions submit -c 2020ml4re -f submit.csv -m 'KNN'"
      ],
      "execution_count": 185,
      "outputs": [
        {
          "output_type": "stream",
          "text": [
            "100% 72.5k/72.5k [00:05<00:00, 13.1kB/s]\n",
            "Successfully submitted to 2020.ML.중간고사.문제4.다시풀기"
          ],
          "name": "stdout"
        }
      ]
    },
    {
      "cell_type": "markdown",
      "metadata": {
        "id": "W7Ty3LBm457I"
      },
      "source": [
        "score=0.51024"
      ]
    },
    {
      "cell_type": "markdown",
      "metadata": {
        "id": "E1e6BruP4lBy"
      },
      "source": [
        "##LDA"
      ]
    },
    {
      "cell_type": "code",
      "metadata": {
        "id": "9sJtIZ4t12jn"
      },
      "source": [
        "from sklearn.discriminant_analysis import LinearDiscriminantAnalysis\r\n",
        "lda=LinearDiscriminantAnalysis(store_covariance=True)"
      ],
      "execution_count": 186,
      "outputs": []
    },
    {
      "cell_type": "code",
      "metadata": {
        "colab": {
          "base_uri": "https://localhost:8080/"
        },
        "id": "VudlkV1R4xh0",
        "outputId": "29a43334-7de7-4b70-9724-6333f8638336"
      },
      "source": [
        "lda.fit(x_train,y_train)\r\n",
        "y_train_pred=lda.predict(x_train)\r\n",
        "y_test_pred=lda.predict(test)\r\n",
        "\r\n",
        "print(accuracy_score(y_train,y_train_pred))"
      ],
      "execution_count": 187,
      "outputs": [
        {
          "output_type": "stream",
          "text": [
            "0.6741371582250112\n"
          ],
          "name": "stdout"
        }
      ]
    },
    {
      "cell_type": "code",
      "metadata": {
        "colab": {
          "base_uri": "https://localhost:8080/"
        },
        "id": "E9mYEyZa4yXa",
        "outputId": "c9306f52-b573-43bb-d421-b81caf05755b"
      },
      "source": [
        "submit['voted']=y_test_pred\r\n",
        "submit.to_csv('submit.csv',mode='w',index_label=None)\r\n",
        "!kaggle competitions submit -c 2020ml4re -f submit.csv -m 'LDA'"
      ],
      "execution_count": 188,
      "outputs": [
        {
          "output_type": "stream",
          "text": [
            "100% 72.5k/72.5k [00:03<00:00, 20.2kB/s]\n",
            "Successfully submitted to 2020.ML.중간고사.문제4.다시풀기"
          ],
          "name": "stdout"
        }
      ]
    },
    {
      "cell_type": "markdown",
      "metadata": {
        "id": "0YSgBg8S49hs"
      },
      "source": [
        "score=0.67098"
      ]
    },
    {
      "cell_type": "markdown",
      "metadata": {
        "id": "ZEsLReTw5NwQ"
      },
      "source": [
        "##QDA"
      ]
    },
    {
      "cell_type": "code",
      "metadata": {
        "colab": {
          "base_uri": "https://localhost:8080/"
        },
        "id": "EemaN7Oo49NI",
        "outputId": "69709e6b-f275-4fca-9251-45d5fd6cd589"
      },
      "source": [
        "from sklearn.discriminant_analysis import QuadraticDiscriminantAnalysis\r\n",
        "qda=QuadraticDiscriminantAnalysis()\r\n",
        "qda.fit(x_train,y_train)"
      ],
      "execution_count": 189,
      "outputs": [
        {
          "output_type": "execute_result",
          "data": {
            "text/plain": [
              "QuadraticDiscriminantAnalysis(priors=None, reg_param=0.0,\n",
              "                              store_covariance=False, tol=0.0001)"
            ]
          },
          "metadata": {
            "tags": []
          },
          "execution_count": 189
        }
      ]
    },
    {
      "cell_type": "code",
      "metadata": {
        "colab": {
          "base_uri": "https://localhost:8080/"
        },
        "id": "bZYqjol744B-",
        "outputId": "5eebbd17-8b45-4ec4-9c44-8d28694f43db"
      },
      "source": [
        "y_train_pred=qda.predict(x_train)\r\n",
        "y_test_pred=qda.predict(test)\r\n",
        "\r\n",
        "print(accuracy_score(y_train,y_train_pred))"
      ],
      "execution_count": 190,
      "outputs": [
        {
          "output_type": "stream",
          "text": [
            "0.5299417301658449\n"
          ],
          "name": "stdout"
        }
      ]
    },
    {
      "cell_type": "code",
      "metadata": {
        "colab": {
          "base_uri": "https://localhost:8080/"
        },
        "id": "_z879-go5RCM",
        "outputId": "d6e9c0dd-d61b-4ea3-aeb0-5cdddfeaf2e7"
      },
      "source": [
        "submit['voted']=y_test_pred\r\n",
        "submit.to_csv('submit.csv',mode='w',index_label=None)\r\n",
        "!kaggle competitions submit -c 2020ml4re -f submit.csv -m 'QDA'"
      ],
      "execution_count": 191,
      "outputs": [
        {
          "output_type": "stream",
          "text": [
            "100% 72.5k/72.5k [00:03<00:00, 19.5kB/s]\n",
            "Successfully submitted to 2020.ML.중간고사.문제4.다시풀기"
          ],
          "name": "stdout"
        }
      ]
    },
    {
      "cell_type": "markdown",
      "metadata": {
        "id": "pWu4XWaW5V3E"
      },
      "source": [
        "score=0.52311"
      ]
    },
    {
      "cell_type": "markdown",
      "metadata": {
        "id": "nv6N-LrP5Xgp"
      },
      "source": [
        "##Decision Tree"
      ]
    },
    {
      "cell_type": "code",
      "metadata": {
        "colab": {
          "base_uri": "https://localhost:8080/"
        },
        "id": "z3Ssw7bX5VMY",
        "outputId": "ad4c18db-e2cd-4b9c-fa4a-b487ae7bfa94"
      },
      "source": [
        "from sklearn.tree import DecisionTreeClassifier\r\n",
        "dtc=DecisionTreeClassifier()\r\n",
        "dtc.fit(x_train,y_train)"
      ],
      "execution_count": 193,
      "outputs": [
        {
          "output_type": "execute_result",
          "data": {
            "text/plain": [
              "DecisionTreeClassifier(ccp_alpha=0.0, class_weight=None, criterion='gini',\n",
              "                       max_depth=None, max_features=None, max_leaf_nodes=None,\n",
              "                       min_impurity_decrease=0.0, min_impurity_split=None,\n",
              "                       min_samples_leaf=1, min_samples_split=2,\n",
              "                       min_weight_fraction_leaf=0.0, presort='deprecated',\n",
              "                       random_state=None, splitter='best')"
            ]
          },
          "metadata": {
            "tags": []
          },
          "execution_count": 193
        }
      ]
    },
    {
      "cell_type": "code",
      "metadata": {
        "colab": {
          "base_uri": "https://localhost:8080/"
        },
        "id": "rqeYEH-i5c9g",
        "outputId": "72701107-34c9-45f2-c8ca-aeb3f38f6506"
      },
      "source": [
        "y_train_pred=dtc.predict(x_train)\r\n",
        "y_test_pred=dtc.predict(test)\r\n",
        "\r\n",
        "print(accuracy_score(y_train,y_train_pred))"
      ],
      "execution_count": 194,
      "outputs": [
        {
          "output_type": "stream",
          "text": [
            "1.0\n"
          ],
          "name": "stdout"
        }
      ]
    },
    {
      "cell_type": "code",
      "metadata": {
        "colab": {
          "base_uri": "https://localhost:8080/"
        },
        "id": "bj3_1wGZ5ita",
        "outputId": "3b26fdec-aa37-42d7-d68d-70c6b7f62b13"
      },
      "source": [
        "submit['voted']=y_test_pred\r\n",
        "submit.to_csv('submit.csv',mode='w',index_label=None)\r\n",
        "!kaggle competitions submit -c 2020ml4re -f submit.csv -m 'Decision Tree'"
      ],
      "execution_count": 195,
      "outputs": [
        {
          "output_type": "stream",
          "text": [
            "100% 72.5k/72.5k [00:04<00:00, 15.5kB/s]\n",
            "Successfully submitted to 2020.ML.중간고사.문제4.다시풀기"
          ],
          "name": "stdout"
        }
      ]
    },
    {
      "cell_type": "markdown",
      "metadata": {
        "id": "TlQgiDA45lnR"
      },
      "source": [
        "score=0.60112"
      ]
    },
    {
      "cell_type": "markdown",
      "metadata": {
        "id": "atlRpMM95uC6"
      },
      "source": [
        "#Standardization"
      ]
    },
    {
      "cell_type": "code",
      "metadata": {
        "id": "WDPas1705lZJ"
      },
      "source": [
        "from sklearn.preprocessing import StandardScaler\r\n",
        "sc=StandardScaler()\r\n",
        "sc.fit(x_train)\r\n",
        "x_train_std=sc.transform(x_train)\r\n",
        "test_std=sc.transform(test)"
      ],
      "execution_count": 197,
      "outputs": []
    },
    {
      "cell_type": "markdown",
      "metadata": {
        "id": "wNEx2swS9hsG"
      },
      "source": [
        "##Logistic Regression"
      ]
    },
    {
      "cell_type": "code",
      "metadata": {
        "id": "GHwU3EPi9hsH"
      },
      "source": [
        "from sklearn.linear_model import LogisticRegression\r\n",
        "lg=LogisticRegression(random_state=11)\r\n",
        "lg.fit(x_train_std,y_train)\r\n",
        "y_train_pred=lg.predict(x_train_std)\r\n",
        "y_test_pred=lg.predict(test_std)"
      ],
      "execution_count": 198,
      "outputs": []
    },
    {
      "cell_type": "code",
      "metadata": {
        "colab": {
          "base_uri": "https://localhost:8080/"
        },
        "id": "RGvEW0Q79hsI",
        "outputId": "79cf4e5b-7423-4ac7-c73c-1365de423bc1"
      },
      "source": [
        "from sklearn.metrics import accuracy_score\r\n",
        "print(accuracy_score(y_train,y_train_pred))"
      ],
      "execution_count": 199,
      "outputs": [
        {
          "output_type": "stream",
          "text": [
            "0.6736889287315105\n"
          ],
          "name": "stdout"
        }
      ]
    },
    {
      "cell_type": "code",
      "metadata": {
        "colab": {
          "base_uri": "https://localhost:8080/"
        },
        "id": "-xS-DiDV9hsJ",
        "outputId": "91e2c4ff-f3a2-4100-a136-4e44240c35ed"
      },
      "source": [
        "submit['voted']=y_test_pred\r\n",
        "submit.to_csv('submit.csv',mode='w',index_label=None)\r\n",
        "!kaggle competitions submit -c 2020ml4re -f submit.csv -m 'Logistic Regression std'"
      ],
      "execution_count": 200,
      "outputs": [
        {
          "output_type": "stream",
          "text": [
            "100% 72.5k/72.5k [00:05<00:00, 13.2kB/s]\n",
            "Successfully submitted to 2020.ML.중간고사.문제4.다시풀기"
          ],
          "name": "stdout"
        }
      ]
    },
    {
      "cell_type": "markdown",
      "metadata": {
        "id": "R-AFe3769hsK"
      },
      "source": [
        "score=0.67224"
      ]
    },
    {
      "cell_type": "markdown",
      "metadata": {
        "id": "wh0VZZg79xTQ"
      },
      "source": [
        "##KNN"
      ]
    },
    {
      "cell_type": "code",
      "metadata": {
        "id": "UzANIPd09xTY"
      },
      "source": [
        "from sklearn.neighbors import KNeighborsClassifier\r\n",
        "knn=KNeighborsClassifier()"
      ],
      "execution_count": 201,
      "outputs": []
    },
    {
      "cell_type": "code",
      "metadata": {
        "id": "MymAmwEC9xTZ"
      },
      "source": [
        "knn.fit(x_train_std,y_train)\r\n",
        "y_train_pred=knn.predict(x_train_std)\r\n",
        "y_test_pred=knn.predict(test_std)"
      ],
      "execution_count": 202,
      "outputs": []
    },
    {
      "cell_type": "code",
      "metadata": {
        "colab": {
          "base_uri": "https://localhost:8080/"
        },
        "id": "Ww_OqaQq9xTZ",
        "outputId": "78b45da5-63fc-40b3-82d2-e12a55886dad"
      },
      "source": [
        "print(accuracy_score(y_train,y_train_pred))"
      ],
      "execution_count": 204,
      "outputs": [
        {
          "output_type": "stream",
          "text": [
            "0.7511429852084267\n"
          ],
          "name": "stdout"
        }
      ]
    },
    {
      "cell_type": "code",
      "metadata": {
        "colab": {
          "base_uri": "https://localhost:8080/"
        },
        "id": "sdASfOqk9xTZ",
        "outputId": "40472f7a-cbd2-457a-9af8-7eb39e3426f0"
      },
      "source": [
        "submit['voted']=y_test_pred\r\n",
        "submit.to_csv('submit.csv',mode='w',index_label=None)\r\n",
        "!kaggle competitions submit -c 2020ml4re -f submit.csv -m 'KNN std'"
      ],
      "execution_count": 205,
      "outputs": [
        {
          "output_type": "stream",
          "text": [
            "100% 72.5k/72.5k [00:04<00:00, 16.1kB/s]\n",
            "Successfully submitted to 2020.ML.중간고사.문제4.다시풀기"
          ],
          "name": "stdout"
        }
      ]
    },
    {
      "cell_type": "markdown",
      "metadata": {
        "id": "rayRqKlv9xTa"
      },
      "source": [
        "score=0.61681"
      ]
    },
    {
      "cell_type": "markdown",
      "metadata": {
        "id": "WNylGQUJ-EPt"
      },
      "source": [
        "##LDA"
      ]
    },
    {
      "cell_type": "code",
      "metadata": {
        "id": "790sAw7J-EP4"
      },
      "source": [
        "from sklearn.discriminant_analysis import LinearDiscriminantAnalysis\r\n",
        "lda=LinearDiscriminantAnalysis(store_covariance=True)"
      ],
      "execution_count": 206,
      "outputs": []
    },
    {
      "cell_type": "code",
      "metadata": {
        "colab": {
          "base_uri": "https://localhost:8080/"
        },
        "id": "rvtyJigi-EP5",
        "outputId": "43567830-852a-4da9-acfa-7614b76736b4"
      },
      "source": [
        "lda.fit(x_train_std,y_train)\r\n",
        "y_train_pred=lda.predict(x_train_std)\r\n",
        "y_test_pred=lda.predict(test_std)\r\n",
        "\r\n",
        "print(accuracy_score(y_train,y_train_pred))"
      ],
      "execution_count": 207,
      "outputs": [
        {
          "output_type": "stream",
          "text": [
            "0.6741371582250112\n"
          ],
          "name": "stdout"
        }
      ]
    },
    {
      "cell_type": "code",
      "metadata": {
        "colab": {
          "base_uri": "https://localhost:8080/"
        },
        "id": "8QNOQB6u-EP6",
        "outputId": "f9990c6b-00ae-4f36-bc64-ff7e481cca53"
      },
      "source": [
        "submit['voted']=y_test_pred\r\n",
        "submit.to_csv('submit.csv',mode='w',index_label=None)\r\n",
        "!kaggle competitions submit -c 2020ml4re -f submit.csv -m 'LDA std'"
      ],
      "execution_count": 208,
      "outputs": [
        {
          "output_type": "stream",
          "text": [
            "100% 72.5k/72.5k [00:04<00:00, 15.6kB/s]\n",
            "Successfully submitted to 2020.ML.중간고사.문제4.다시풀기"
          ],
          "name": "stdout"
        }
      ]
    },
    {
      "cell_type": "markdown",
      "metadata": {
        "id": "7EOArqEy-EP6"
      },
      "source": [
        "score=0.67098"
      ]
    },
    {
      "cell_type": "markdown",
      "metadata": {
        "id": "1tIFtIRV-RdH"
      },
      "source": [
        "##QDA"
      ]
    },
    {
      "cell_type": "code",
      "metadata": {
        "colab": {
          "base_uri": "https://localhost:8080/"
        },
        "id": "c6Ck6hRB-RdH",
        "outputId": "d66c066f-226d-4d9a-d820-c1804e35c1ef"
      },
      "source": [
        "from sklearn.discriminant_analysis import QuadraticDiscriminantAnalysis\r\n",
        "qda=QuadraticDiscriminantAnalysis()\r\n",
        "qda.fit(x_train,y_train)"
      ],
      "execution_count": 209,
      "outputs": [
        {
          "output_type": "execute_result",
          "data": {
            "text/plain": [
              "QuadraticDiscriminantAnalysis(priors=None, reg_param=0.0,\n",
              "                              store_covariance=False, tol=0.0001)"
            ]
          },
          "metadata": {
            "tags": []
          },
          "execution_count": 209
        }
      ]
    },
    {
      "cell_type": "code",
      "metadata": {
        "colab": {
          "base_uri": "https://localhost:8080/"
        },
        "id": "c8xqxzYg-RdP",
        "outputId": "44b2e456-cc79-4842-eda7-9381a71003f3"
      },
      "source": [
        "y_train_pred=qda.predict(x_train)\r\n",
        "y_test_pred=qda.predict(test)\r\n",
        "\r\n",
        "print(accuracy_score(y_train,y_train_pred))"
      ],
      "execution_count": 210,
      "outputs": [
        {
          "output_type": "stream",
          "text": [
            "0.5299417301658449\n"
          ],
          "name": "stdout"
        }
      ]
    },
    {
      "cell_type": "code",
      "metadata": {
        "colab": {
          "base_uri": "https://localhost:8080/"
        },
        "id": "hQbbfoT5-RdQ",
        "outputId": "2cd09670-23b5-4533-b756-e334e3d9a630"
      },
      "source": [
        "submit['voted']=y_test_pred\r\n",
        "submit.to_csv('submit.csv',mode='w',index_label=None)\r\n",
        "!kaggle competitions submit -c 2020ml4re -f submit.csv -m 'QDA'"
      ],
      "execution_count": 211,
      "outputs": [
        {
          "output_type": "stream",
          "text": [
            "100% 72.5k/72.5k [00:05<00:00, 13.6kB/s]\n",
            "Successfully submitted to 2020.ML.중간고사.문제4.다시풀기"
          ],
          "name": "stdout"
        }
      ]
    },
    {
      "cell_type": "markdown",
      "metadata": {
        "id": "E9NAQNcd-j6Z"
      },
      "source": [
        "score=0.52311"
      ]
    },
    {
      "cell_type": "markdown",
      "metadata": {
        "id": "T4y6oo93-j6Y"
      },
      "source": [
        "##Decision Tree"
      ]
    },
    {
      "cell_type": "code",
      "metadata": {
        "colab": {
          "base_uri": "https://localhost:8080/"
        },
        "id": "lWiawhzv-j6Y",
        "outputId": "4b467a91-6ca5-4128-d1e9-199488ab8054"
      },
      "source": [
        "from sklearn.tree import DecisionTreeClassifier\r\n",
        "dtc=DecisionTreeClassifier()\r\n",
        "dtc.fit(x_train_std,y_train)"
      ],
      "execution_count": 212,
      "outputs": [
        {
          "output_type": "execute_result",
          "data": {
            "text/plain": [
              "DecisionTreeClassifier(ccp_alpha=0.0, class_weight=None, criterion='gini',\n",
              "                       max_depth=None, max_features=None, max_leaf_nodes=None,\n",
              "                       min_impurity_decrease=0.0, min_impurity_split=None,\n",
              "                       min_samples_leaf=1, min_samples_split=2,\n",
              "                       min_weight_fraction_leaf=0.0, presort='deprecated',\n",
              "                       random_state=None, splitter='best')"
            ]
          },
          "metadata": {
            "tags": []
          },
          "execution_count": 212
        }
      ]
    },
    {
      "cell_type": "code",
      "metadata": {
        "colab": {
          "base_uri": "https://localhost:8080/"
        },
        "id": "Tg0MpQwx-j6Z",
        "outputId": "3a73ec3d-c0f8-45e8-e4a7-57dd2b7edda5"
      },
      "source": [
        "y_train_pred=dtc.predict(x_train_std)\r\n",
        "y_test_pred=dtc.predict(test_std)\r\n",
        "\r\n",
        "print(accuracy_score(y_train,y_train_pred))"
      ],
      "execution_count": 213,
      "outputs": [
        {
          "output_type": "stream",
          "text": [
            "1.0\n"
          ],
          "name": "stdout"
        }
      ]
    },
    {
      "cell_type": "code",
      "metadata": {
        "colab": {
          "base_uri": "https://localhost:8080/"
        },
        "id": "49TWA45D-j6Z",
        "outputId": "3ac83cca-2a66-4f36-f31b-3b55785a1b7c"
      },
      "source": [
        "submit['voted']=y_test_pred\r\n",
        "submit.to_csv('submit.csv',mode='w',index_label=None)\r\n",
        "!kaggle competitions submit -c 2020ml4re -f submit.csv -m 'Decision Tree std'"
      ],
      "execution_count": 214,
      "outputs": [
        {
          "output_type": "stream",
          "text": [
            "100% 72.5k/72.5k [00:04<00:00, 17.1kB/s]\n",
            "Successfully submitted to 2020.ML.중간고사.문제4.다시풀기"
          ],
          "name": "stdout"
        }
      ]
    },
    {
      "cell_type": "markdown",
      "metadata": {
        "id": "R0m-WXg6-RdQ"
      },
      "source": [
        "score=0.60290"
      ]
    },
    {
      "cell_type": "code",
      "metadata": {
        "id": "9qxhsmwt-d59"
      },
      "source": [
        ""
      ],
      "execution_count": null,
      "outputs": []
    },
    {
      "cell_type": "markdown",
      "metadata": {
        "id": "wM0WTufD_Upg"
      },
      "source": [
        "#파라미터 바꿔가며 실험"
      ]
    },
    {
      "cell_type": "markdown",
      "metadata": {
        "id": "ri-KO_Ic_Upu"
      },
      "source": [
        "##Logistic Regression"
      ]
    },
    {
      "cell_type": "code",
      "metadata": {
        "id": "s4kwYu8F_Upu"
      },
      "source": [
        "from sklearn.linear_model import LogisticRegression\r\n",
        "lg=LogisticRegression(random_state=11,C=10)\r\n",
        "lg.fit(x_train_std,y_train)\r\n",
        "y_train_pred=lg.predict(x_train_std)\r\n",
        "y_test_pred=lg.predict(test_std)"
      ],
      "execution_count": 221,
      "outputs": []
    },
    {
      "cell_type": "code",
      "metadata": {
        "colab": {
          "base_uri": "https://localhost:8080/"
        },
        "id": "knA2545k_Upu",
        "outputId": "d1e3f880-60f7-45b9-e96f-2510a197bc88"
      },
      "source": [
        "from sklearn.metrics import accuracy_score\r\n",
        "print(accuracy_score(y_train,y_train_pred))"
      ],
      "execution_count": 222,
      "outputs": [
        {
          "output_type": "stream",
          "text": [
            "0.6736889287315105\n"
          ],
          "name": "stdout"
        }
      ]
    },
    {
      "cell_type": "code",
      "metadata": {
        "colab": {
          "base_uri": "https://localhost:8080/"
        },
        "id": "elPS8BNx_Upv",
        "outputId": "99622da9-df2c-4720-d42c-2db51b2e6276"
      },
      "source": [
        "submit['voted']=y_test_pred\r\n",
        "submit.to_csv('submit.csv',mode='w',index_label=None)\r\n",
        "!kaggle competitions submit -c 2020ml4re -f submit.csv -m 'Logistic Regression std c=10'"
      ],
      "execution_count": 223,
      "outputs": [
        {
          "output_type": "stream",
          "text": [
            "100% 72.5k/72.5k [00:03<00:00, 20.1kB/s]\n",
            "Successfully submitted to 2020.ML.중간고사.문제4.다시풀기"
          ],
          "name": "stdout"
        }
      ]
    },
    {
      "cell_type": "markdown",
      "metadata": {
        "id": "EJ410wzm_Upw"
      },
      "source": [
        "c=1000 score=0.67213/\r\n",
        "c=100 score=0.67213/\r\n",
        "c=10 score=0.67213"
      ]
    },
    {
      "cell_type": "markdown",
      "metadata": {
        "id": "gGasXkW5_Upw"
      },
      "source": [
        "##KNN"
      ]
    },
    {
      "cell_type": "code",
      "metadata": {
        "id": "85t1qLd4_Upw"
      },
      "source": [
        "from sklearn.neighbors import KNeighborsClassifier\r\n",
        "knn=KNeighborsClassifier(n_neighbors=200, weights='uniform')"
      ],
      "execution_count": 240,
      "outputs": []
    },
    {
      "cell_type": "code",
      "metadata": {
        "id": "SjGzIfdm_Upx"
      },
      "source": [
        "knn.fit(x_train_std,y_train)\r\n",
        "y_train_pred=knn.predict(x_train_std)\r\n",
        "y_test_pred=knn.predict(test_std)"
      ],
      "execution_count": 241,
      "outputs": []
    },
    {
      "cell_type": "code",
      "metadata": {
        "colab": {
          "base_uri": "https://localhost:8080/"
        },
        "id": "_CAjDjpc_Upx",
        "outputId": "6f3b9212-da71-4d4d-cd25-af7b12f16a2d"
      },
      "source": [
        "print(accuracy_score(y_train,y_train_pred))"
      ],
      "execution_count": 242,
      "outputs": [
        {
          "output_type": "stream",
          "text": [
            "0.6676378305692514\n"
          ],
          "name": "stdout"
        }
      ]
    },
    {
      "cell_type": "code",
      "metadata": {
        "colab": {
          "base_uri": "https://localhost:8080/"
        },
        "id": "8WyFsica_Upx",
        "outputId": "c88c6ac5-d206-47a2-ca0c-e600b8e61da2"
      },
      "source": [
        "submit['voted']=y_test_pred\r\n",
        "submit.to_csv('submit.csv',mode='w',index_label=None)\r\n",
        "!kaggle competitions submit -c 2020ml4re -f submit.csv -m 'KNN std n_neighbors=200 weights=uniform'"
      ],
      "execution_count": 243,
      "outputs": [
        {
          "output_type": "stream",
          "text": [
            "100% 72.5k/72.5k [00:02<00:00, 27.5kB/s]\n",
            "Successfully submitted to 2020.ML.중간고사.문제4.다시풀기"
          ],
          "name": "stdout"
        }
      ]
    },
    {
      "cell_type": "markdown",
      "metadata": {
        "id": "4WmNQcWO_Upy"
      },
      "source": [
        "n_neighbors=10 weights=uniform score=0.63030/\r\n",
        "n_neighbors=10 weights=distance score= 0.62832/\r\n",
        "n_neighbors=15 weights=uniform score=0.63783 /\r\n",
        "n_neighbors=100 weights=distance score= 0.65728/\r\n",
        "n_neighbors=200 weights=uniform score= 0.65843"
      ]
    },
    {
      "cell_type": "markdown",
      "metadata": {
        "id": "iw-q3BNU_Upy"
      },
      "source": [
        "##LDA"
      ]
    },
    {
      "cell_type": "code",
      "metadata": {
        "id": "6BZQz8xH_Upy"
      },
      "source": [
        "from sklearn.discriminant_analysis import LinearDiscriminantAnalysis\r\n",
        "lda=LinearDiscriminantAnalysis(store_covariance=True,n_components=3)"
      ],
      "execution_count": 259,
      "outputs": []
    },
    {
      "cell_type": "code",
      "metadata": {
        "colab": {
          "base_uri": "https://localhost:8080/"
        },
        "id": "JXDBtTIs_Upy",
        "outputId": "7871c1e7-7db3-4dfb-96e8-bd12662300bb"
      },
      "source": [
        "lda.fit(x_train_std,y_train)\r\n",
        "y_train_pred=lda.predict(x_train_std)\r\n",
        "y_test_pred=lda.predict(test_std)\r\n",
        "\r\n",
        "print(accuracy_score(y_train,y_train_pred))"
      ],
      "execution_count": 260,
      "outputs": [
        {
          "output_type": "stream",
          "text": [
            "/usr/local/lib/python3.6/dist-packages/sklearn/discriminant_analysis.py:463: ChangedBehaviorWarning: n_components cannot be larger than min(n_features, n_classes - 1). Using min(n_features, n_classes - 1) = min(76, 2 - 1) = 1 components.\n",
            "  ChangedBehaviorWarning)\n",
            "/usr/local/lib/python3.6/dist-packages/sklearn/discriminant_analysis.py:469: FutureWarning: In version 0.23, setting n_components > min(n_features, n_classes - 1) will raise a ValueError. You should set n_components to None (default), or a value smaller or equal to min(n_features, n_classes - 1).\n",
            "  warnings.warn(future_msg, FutureWarning)\n"
          ],
          "name": "stderr"
        },
        {
          "output_type": "stream",
          "text": [
            "0.6741371582250112\n"
          ],
          "name": "stdout"
        }
      ]
    },
    {
      "cell_type": "code",
      "metadata": {
        "colab": {
          "base_uri": "https://localhost:8080/"
        },
        "id": "2E0rNvPn_Upz",
        "outputId": "446bd0c7-0383-4bc0-c230-7169fac1711a"
      },
      "source": [
        "submit['voted']=y_test_pred\r\n",
        "submit.to_csv('submit.csv',mode='w',index_label=None)\r\n",
        "!kaggle competitions submit -c 2020ml4re -f submit.csv -m 'LDA std n_components=3'"
      ],
      "execution_count": 261,
      "outputs": [
        {
          "output_type": "stream",
          "text": [
            "100% 72.5k/72.5k [00:02<00:00, 28.8kB/s]\n",
            "Successfully submitted to 2020.ML.중간고사.문제4.다시풀기"
          ],
          "name": "stdout"
        }
      ]
    },
    {
      "cell_type": "markdown",
      "metadata": {
        "id": "DHQuDdEU_Upz"
      },
      "source": [
        "n_components=10 score=0.67098/\r\n",
        "n_components=3 score=0.67098/"
      ]
    },
    {
      "cell_type": "markdown",
      "metadata": {
        "id": "OYorLpum_Up0"
      },
      "source": [
        "##Decision Tree"
      ]
    },
    {
      "cell_type": "code",
      "metadata": {
        "colab": {
          "base_uri": "https://localhost:8080/"
        },
        "id": "WjuISiCE_Up1",
        "outputId": "38923faa-b5c5-469b-c8ab-91352901429c"
      },
      "source": [
        "from sklearn.tree import DecisionTreeClassifier\r\n",
        "dtc=DecisionTreeClassifier(max_depth=5,random_state=1,criterion='entropy', splitter='random')\r\n",
        "dtc.fit(x_train_std,y_train)"
      ],
      "execution_count": 274,
      "outputs": [
        {
          "output_type": "execute_result",
          "data": {
            "text/plain": [
              "DecisionTreeClassifier(ccp_alpha=0.0, class_weight=None, criterion='entropy',\n",
              "                       max_depth=5, max_features=None, max_leaf_nodes=None,\n",
              "                       min_impurity_decrease=0.0, min_impurity_split=None,\n",
              "                       min_samples_leaf=1, min_samples_split=2,\n",
              "                       min_weight_fraction_leaf=0.0, presort='deprecated',\n",
              "                       random_state=1, splitter='random')"
            ]
          },
          "metadata": {
            "tags": []
          },
          "execution_count": 274
        }
      ]
    },
    {
      "cell_type": "code",
      "metadata": {
        "colab": {
          "base_uri": "https://localhost:8080/"
        },
        "id": "DLIA17UH_Up1",
        "outputId": "75d75f6c-c7cd-46b5-86f8-a8df61069c5e"
      },
      "source": [
        "y_train_pred=dtc.predict(x_train_std)\r\n",
        "y_test_pred=dtc.predict(test_std)\r\n",
        "\r\n",
        "print(accuracy_score(y_train,y_train_pred))"
      ],
      "execution_count": 275,
      "outputs": [
        {
          "output_type": "stream",
          "text": [
            "0.6895114298520842\n"
          ],
          "name": "stdout"
        }
      ]
    },
    {
      "cell_type": "code",
      "metadata": {
        "colab": {
          "base_uri": "https://localhost:8080/"
        },
        "id": "MWw_jpDw_Up1",
        "outputId": "d703f131-3211-4929-aba7-b8f0142aece9"
      },
      "source": [
        "submit['voted']=y_test_pred\r\n",
        "submit.to_csv('submit.csv',mode='w',index_label=None)\r\n",
        "!kaggle competitions submit -c 2020ml4re -f submit.csv -m 'Decision Tree std max_depth=5,random_state=1,criterion=entropy, splitter=random'"
      ],
      "execution_count": 276,
      "outputs": [
        {
          "output_type": "stream",
          "text": [
            "100% 72.5k/72.5k [00:02<00:00, 36.6kB/s]\n",
            "Successfully submitted to 2020.ML.중간고사.문제4.다시풀기"
          ],
          "name": "stdout"
        }
      ]
    },
    {
      "cell_type": "markdown",
      "metadata": {
        "id": "UR8JjRfm_Up1"
      },
      "source": [
        "max_depth=5,random_state=1,criterion=entropy, splitter=best score=0.68092/\r\n",
        "max_depth=4,random_state=1,criterion=entropy, splitter=best score=0.68019/\r\n",
        "max_depth=6,random_state=1,criterion=entropy, splitter=best score=0.67391/\r\n",
        "max_depth=5,random_state=1,criterion=gini, splitter=best score=0.68061/\r\n",
        "max_depth=5,random_state=1,criterion=entropy, splitter=random score=0.67862\r\n"
      ]
    }
  ]
}