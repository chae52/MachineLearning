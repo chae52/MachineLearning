{
  "nbformat": 4,
  "nbformat_minor": 0,
  "metadata": {
    "colab": {
      "name": "기계학습_2주차 실습",
      "provenance": [],
      "collapsed_sections": [],
      "toc_visible": true
    },
    "kernelspec": {
      "name": "python3",
      "display_name": "Python 3"
    }
  },
  "cells": [
    {
      "cell_type": "markdown",
      "metadata": {
        "id": "dgMsk5nVzOsN"
      },
      "source": [
        "#범주형 자료의 수량화"
      ]
    },
    {
      "cell_type": "code",
      "metadata": {
        "id": "B2-GI0JLxpKj"
      },
      "source": [
        "x=[{'city':'seoul','temp':10.0},{'city':'dubai','temp':33.5},{'city':'LA','temp':20.5}]"
      ],
      "execution_count": 1,
      "outputs": []
    },
    {
      "cell_type": "code",
      "metadata": {
        "colab": {
          "base_uri": "https://localhost:8080/"
        },
        "id": "r_xni5XPySlg",
        "outputId": "1ba32aed-bb4d-417b-ddab-38f413ca7b92"
      },
      "source": [
        "from sklearn.feature_extraction import DictVectorizer\r\n",
        "vec=DictVectorizer(sparse=False)\r\n",
        "#sparse=True 로 하면 희귀행렬이라고 볼 수 없는 형태임\r\n",
        "vec.fit_transform(x)"
      ],
      "execution_count": 2,
      "outputs": [
        {
          "output_type": "execute_result",
          "data": {
            "text/plain": [
              "array([[ 0. ,  0. ,  1. , 10. ],\n",
              "       [ 0. ,  1. ,  0. , 33.5],\n",
              "       [ 1. ,  0. ,  0. , 20.5]])"
            ]
          },
          "metadata": {
            "tags": []
          },
          "execution_count": 2
        }
      ]
    },
    {
      "cell_type": "code",
      "metadata": {
        "colab": {
          "base_uri": "https://localhost:8080/"
        },
        "id": "SOwCJFiCyn-C",
        "outputId": "69aef764-607d-423a-9d88-b13ea5a00792"
      },
      "source": [
        "#메모리를 줄이기 위해 sparse=True\r\n",
        "vec1=DictVectorizer(sparse=True)\r\n",
        "x1=vec1.fit_transform(x)\r\n",
        "x1"
      ],
      "execution_count": 3,
      "outputs": [
        {
          "output_type": "execute_result",
          "data": {
            "text/plain": [
              "<3x4 sparse matrix of type '<class 'numpy.float64'>'\n",
              "\twith 6 stored elements in Compressed Sparse Row format>"
            ]
          },
          "metadata": {
            "tags": []
          },
          "execution_count": 3
        }
      ]
    },
    {
      "cell_type": "code",
      "metadata": {
        "colab": {
          "base_uri": "https://localhost:8080/"
        },
        "id": "9E7ad7Eby121",
        "outputId": "58be1e74-2f3c-4e7b-a622-13dd491b5acd"
      },
      "source": [
        "#sparse=True 를 풀고 배열로 변경\r\n",
        "x1.toarray()\r\n",
        "vec1.get_feature_names()"
      ],
      "execution_count": 4,
      "outputs": [
        {
          "output_type": "execute_result",
          "data": {
            "text/plain": [
              "['city=LA', 'city=dubai', 'city=seoul', 'temp']"
            ]
          },
          "metadata": {
            "tags": []
          },
          "execution_count": 4
        }
      ]
    },
    {
      "cell_type": "markdown",
      "metadata": {
        "id": "IJQ61HjpzQTT"
      },
      "source": [
        "#텍스트 자료의 수량화"
      ]
    },
    {
      "cell_type": "code",
      "metadata": {
        "colab": {
          "base_uri": "https://localhost:8080/"
        },
        "id": "AwacLbtTzHDy",
        "outputId": "e688407b-dbcc-426c-855b-19ae21b6866d"
      },
      "source": [
        "text=['떴다 떴다 비행기 날아라 날아라',\r\n",
        "      '높이 높이 날아라 우리 비행기',\r\n",
        "      '내가 만든 비행기 날아라 날아라',\r\n",
        "      '멀리 멀리 날아라 우리 비행기']\r\n",
        "\r\n",
        "text"
      ],
      "execution_count": 38,
      "outputs": [
        {
          "output_type": "execute_result",
          "data": {
            "text/plain": [
              "['떴다 떴다 비행기 날아라 날아라',\n",
              " '높이 높이 날아라 우리 비행기',\n",
              " '내가 만든 비행기 날아라 날아라',\n",
              " '멀리 멀리 날아라 우리 비행기']"
            ]
          },
          "metadata": {
            "tags": []
          },
          "execution_count": 38
        }
      ]
    },
    {
      "cell_type": "code",
      "metadata": {
        "colab": {
          "base_uri": "https://localhost:8080/"
        },
        "id": "xylBijw0zVEZ",
        "outputId": "0977a911-71ff-475c-8905-491925899699"
      },
      "source": [
        "from sklearn.feature_extraction.text import CountVectorizer\r\n",
        "vec2=CountVectorizer() #default 는 sparse=True\r\n",
        "t=vec2.fit_transform(text).toarray() #sparse=True를 toarray()로 풀고 text를 수량화 배열 자료로 변화\r\n",
        "t"
      ],
      "execution_count": 39,
      "outputs": [
        {
          "output_type": "execute_result",
          "data": {
            "text/plain": [
              "array([[2, 0, 0, 2, 0, 0, 1, 0],\n",
              "       [1, 0, 2, 0, 0, 0, 1, 1],\n",
              "       [2, 1, 0, 0, 1, 0, 1, 0],\n",
              "       [1, 0, 0, 0, 0, 2, 1, 1]])"
            ]
          },
          "metadata": {
            "tags": []
          },
          "execution_count": 39
        }
      ]
    },
    {
      "cell_type": "code",
      "metadata": {
        "colab": {
          "base_uri": "https://localhost:8080/",
          "height": 166
        },
        "id": "u_HbEUwcz-HV",
        "outputId": "603bc2a0-2bdf-4bf3-f7e4-baf096d5d58b"
      },
      "source": [
        "import pandas as pd\r\n",
        "t1=pd.DataFrame(t, columns=vec2.get_feature_names())\r\n",
        "t1"
      ],
      "execution_count": 40,
      "outputs": [
        {
          "output_type": "execute_result",
          "data": {
            "text/html": [
              "<div>\n",
              "<style scoped>\n",
              "    .dataframe tbody tr th:only-of-type {\n",
              "        vertical-align: middle;\n",
              "    }\n",
              "\n",
              "    .dataframe tbody tr th {\n",
              "        vertical-align: top;\n",
              "    }\n",
              "\n",
              "    .dataframe thead th {\n",
              "        text-align: right;\n",
              "    }\n",
              "</style>\n",
              "<table border=\"1\" class=\"dataframe\">\n",
              "  <thead>\n",
              "    <tr style=\"text-align: right;\">\n",
              "      <th></th>\n",
              "      <th>날아라</th>\n",
              "      <th>내가</th>\n",
              "      <th>높이</th>\n",
              "      <th>떴다</th>\n",
              "      <th>만든</th>\n",
              "      <th>멀리</th>\n",
              "      <th>비행기</th>\n",
              "      <th>우리</th>\n",
              "    </tr>\n",
              "  </thead>\n",
              "  <tbody>\n",
              "    <tr>\n",
              "      <th>0</th>\n",
              "      <td>2</td>\n",
              "      <td>0</td>\n",
              "      <td>0</td>\n",
              "      <td>2</td>\n",
              "      <td>0</td>\n",
              "      <td>0</td>\n",
              "      <td>1</td>\n",
              "      <td>0</td>\n",
              "    </tr>\n",
              "    <tr>\n",
              "      <th>1</th>\n",
              "      <td>1</td>\n",
              "      <td>0</td>\n",
              "      <td>2</td>\n",
              "      <td>0</td>\n",
              "      <td>0</td>\n",
              "      <td>0</td>\n",
              "      <td>1</td>\n",
              "      <td>1</td>\n",
              "    </tr>\n",
              "    <tr>\n",
              "      <th>2</th>\n",
              "      <td>2</td>\n",
              "      <td>1</td>\n",
              "      <td>0</td>\n",
              "      <td>0</td>\n",
              "      <td>1</td>\n",
              "      <td>0</td>\n",
              "      <td>1</td>\n",
              "      <td>0</td>\n",
              "    </tr>\n",
              "    <tr>\n",
              "      <th>3</th>\n",
              "      <td>1</td>\n",
              "      <td>0</td>\n",
              "      <td>0</td>\n",
              "      <td>0</td>\n",
              "      <td>0</td>\n",
              "      <td>2</td>\n",
              "      <td>1</td>\n",
              "      <td>1</td>\n",
              "    </tr>\n",
              "  </tbody>\n",
              "</table>\n",
              "</div>"
            ],
            "text/plain": [
              "   날아라  내가  높이  떴다  만든  멀리  비행기  우리\n",
              "0    2   0   0   2   0   0    1   0\n",
              "1    1   0   2   0   0   0    1   1\n",
              "2    2   1   0   0   1   0    1   0\n",
              "3    1   0   0   0   0   2    1   1"
            ]
          },
          "metadata": {
            "tags": []
          },
          "execution_count": 40
        }
      ]
    },
    {
      "cell_type": "code",
      "metadata": {
        "colab": {
          "base_uri": "https://localhost:8080/"
        },
        "id": "Gtz5AmB30UpD",
        "outputId": "36fe6911-7694-4024-a458-3a78274b903f"
      },
      "source": [
        "from sklearn.feature_extraction.text import TfidfVectorizer as tfid\r\n",
        "#인스턴스를 만드셨다\r\n",
        "tfid=TfidfVectorizer()\r\n",
        "#높은 빈도는 낮은 가중치, 낮은 빈도는 높은 가중치\r\n",
        "t2=tfid.fit_transform(text).toarray()\r\n",
        "t2"
      ],
      "execution_count": 47,
      "outputs": [
        {
          "output_type": "execute_result",
          "data": {
            "text/plain": [
              "array([[0.45073542, 0.        , 0.        , 0.86374011, 0.        ,\n",
              "        0.        , 0.22536771, 0.        ],\n",
              "       [0.22958935, 0.        , 0.8799199 , 0.        , 0.        ,\n",
              "        0.        , 0.22958935, 0.34686948],\n",
              "       [0.56924084, 0.54541547, 0.        , 0.        , 0.54541547,\n",
              "        0.        , 0.28462042, 0.        ],\n",
              "       [0.22958935, 0.        , 0.        , 0.        , 0.        ,\n",
              "        0.8799199 , 0.22958935, 0.34686948]])"
            ]
          },
          "metadata": {
            "tags": []
          },
          "execution_count": 47
        }
      ]
    },
    {
      "cell_type": "code",
      "metadata": {
        "colab": {
          "base_uri": "https://localhost:8080/",
          "height": 166
        },
        "id": "kxvCHHEU0kGp",
        "outputId": "6b2ba95b-b9e7-4152-e143-b2cda7470dcf"
      },
      "source": [
        "t3=pd.DataFrame(t2,columns=tfid.get_feature_names())\r\n",
        "t3"
      ],
      "execution_count": 48,
      "outputs": [
        {
          "output_type": "execute_result",
          "data": {
            "text/html": [
              "<div>\n",
              "<style scoped>\n",
              "    .dataframe tbody tr th:only-of-type {\n",
              "        vertical-align: middle;\n",
              "    }\n",
              "\n",
              "    .dataframe tbody tr th {\n",
              "        vertical-align: top;\n",
              "    }\n",
              "\n",
              "    .dataframe thead th {\n",
              "        text-align: right;\n",
              "    }\n",
              "</style>\n",
              "<table border=\"1\" class=\"dataframe\">\n",
              "  <thead>\n",
              "    <tr style=\"text-align: right;\">\n",
              "      <th></th>\n",
              "      <th>날아라</th>\n",
              "      <th>내가</th>\n",
              "      <th>높이</th>\n",
              "      <th>떴다</th>\n",
              "      <th>만든</th>\n",
              "      <th>멀리</th>\n",
              "      <th>비행기</th>\n",
              "      <th>우리</th>\n",
              "    </tr>\n",
              "  </thead>\n",
              "  <tbody>\n",
              "    <tr>\n",
              "      <th>0</th>\n",
              "      <td>0.450735</td>\n",
              "      <td>0.000000</td>\n",
              "      <td>0.00000</td>\n",
              "      <td>0.86374</td>\n",
              "      <td>0.000000</td>\n",
              "      <td>0.00000</td>\n",
              "      <td>0.225368</td>\n",
              "      <td>0.000000</td>\n",
              "    </tr>\n",
              "    <tr>\n",
              "      <th>1</th>\n",
              "      <td>0.229589</td>\n",
              "      <td>0.000000</td>\n",
              "      <td>0.87992</td>\n",
              "      <td>0.00000</td>\n",
              "      <td>0.000000</td>\n",
              "      <td>0.00000</td>\n",
              "      <td>0.229589</td>\n",
              "      <td>0.346869</td>\n",
              "    </tr>\n",
              "    <tr>\n",
              "      <th>2</th>\n",
              "      <td>0.569241</td>\n",
              "      <td>0.545415</td>\n",
              "      <td>0.00000</td>\n",
              "      <td>0.00000</td>\n",
              "      <td>0.545415</td>\n",
              "      <td>0.00000</td>\n",
              "      <td>0.284620</td>\n",
              "      <td>0.000000</td>\n",
              "    </tr>\n",
              "    <tr>\n",
              "      <th>3</th>\n",
              "      <td>0.229589</td>\n",
              "      <td>0.000000</td>\n",
              "      <td>0.00000</td>\n",
              "      <td>0.00000</td>\n",
              "      <td>0.000000</td>\n",
              "      <td>0.87992</td>\n",
              "      <td>0.229589</td>\n",
              "      <td>0.346869</td>\n",
              "    </tr>\n",
              "  </tbody>\n",
              "</table>\n",
              "</div>"
            ],
            "text/plain": [
              "        날아라        내가       높이       떴다        만든       멀리       비행기        우리\n",
              "0  0.450735  0.000000  0.00000  0.86374  0.000000  0.00000  0.225368  0.000000\n",
              "1  0.229589  0.000000  0.87992  0.00000  0.000000  0.00000  0.229589  0.346869\n",
              "2  0.569241  0.545415  0.00000  0.00000  0.545415  0.00000  0.284620  0.000000\n",
              "3  0.229589  0.000000  0.00000  0.00000  0.000000  0.87992  0.229589  0.346869"
            ]
          },
          "metadata": {
            "tags": []
          },
          "execution_count": 48
        }
      ]
    },
    {
      "cell_type": "markdown",
      "metadata": {
        "id": "S-i5dC368ikU"
      },
      "source": [
        "#결측 데이터 채우기"
      ]
    },
    {
      "cell_type": "code",
      "metadata": {
        "colab": {
          "base_uri": "https://localhost:8080/"
        },
        "id": "oDE-S6lq71DO",
        "outputId": "66aa89b9-1fd5-4b22-da0e-7364290ee084"
      },
      "source": [
        "import numpy as np\r\n",
        "# 결측자료\r\n",
        "x_miss=np.array([[1,2,3,None],[5,np.NAN,7,8],[None,10,11,12],[13,np.nan,15,16]])\r\n",
        "x_miss"
      ],
      "execution_count": 83,
      "outputs": [
        {
          "output_type": "execute_result",
          "data": {
            "text/plain": [
              "array([[1, 2, 3, None],\n",
              "       [5, nan, 7, 8],\n",
              "       [None, 10, 11, 12],\n",
              "       [13, nan, 15, 16]], dtype=object)"
            ]
          },
          "metadata": {
            "tags": []
          },
          "execution_count": 83
        }
      ]
    },
    {
      "cell_type": "code",
      "metadata": {
        "colab": {
          "base_uri": "https://localhost:8080/"
        },
        "id": "9ZTd32DS8FB4",
        "outputId": "db6f1a75-ef7f-42f5-a96b-423fcbde6849"
      },
      "source": [
        "from sklearn.impute import SimpleImputer\r\n",
        "#열의 평균값으로 대체\r\n",
        "im=SimpleImputer(missing_values=np.nan,strategy='mean')\r\n",
        "im.fit(x_miss)\r\n",
        "print(im.transform(x_miss))"
      ],
      "execution_count": 84,
      "outputs": [
        {
          "output_type": "stream",
          "text": [
            "[[ 1.          2.          3.         12.        ]\n",
            " [ 5.          6.          7.          8.        ]\n",
            " [ 6.33333333 10.         11.         12.        ]\n",
            " [13.          6.         15.         16.        ]]\n"
          ],
          "name": "stdout"
        }
      ]
    },
    {
      "cell_type": "code",
      "metadata": {
        "colab": {
          "base_uri": "https://localhost:8080/"
        },
        "id": "MLYLKsYEBcQD",
        "outputId": "04057b1c-47b0-4fb0-be05-28bc4545f314"
      },
      "source": [
        "im.fit_transform(x_miss)"
      ],
      "execution_count": 85,
      "outputs": [
        {
          "output_type": "execute_result",
          "data": {
            "text/plain": [
              "array([[ 1.        ,  2.        ,  3.        , 12.        ],\n",
              "       [ 5.        ,  6.        ,  7.        ,  8.        ],\n",
              "       [ 6.33333333, 10.        , 11.        , 12.        ],\n",
              "       [13.        ,  6.        , 15.        , 16.        ]])"
            ]
          },
          "metadata": {
            "tags": []
          },
          "execution_count": 85
        }
      ]
    },
    {
      "cell_type": "markdown",
      "metadata": {
        "id": "XNchYRG7BqTx"
      },
      "source": [
        "#데이터 합치기"
      ]
    },
    {
      "cell_type": "markdown",
      "metadata": {
        "id": "ET93NuCq-HLc"
      },
      "source": [
        "##Data downoad"
      ]
    },
    {
      "cell_type": "markdown",
      "metadata": {
        "id": "CwuY_fxW97BU"
      },
      "source": [
        "www.kaggle.com/c/rossmann-store-sales/data 에서 자료를 다운받거나 직접 api로 다운"
      ]
    },
    {
      "cell_type": "code",
      "metadata": {
        "colab": {
          "base_uri": "https://localhost:8080/"
        },
        "id": "xTKAxn-W8bXV",
        "outputId": "4e9adc53-a482-4454-dc20-c5e069fd98b2"
      },
      "source": [
        "!ls -lha kaggle.json\r\n",
        "\r\n",
        "!pip uninstall -y kaggle\r\n",
        "!pip install --upgrade pip\r\n",
        "!pip install kaggle==1.5.6"
      ],
      "execution_count": 58,
      "outputs": [
        {
          "output_type": "stream",
          "text": [
            "-rw-r--r-- 1 root root 62 Jan 30 11:02 kaggle.json\n",
            "Found existing installation: kaggle 1.5.6\n",
            "Uninstalling kaggle-1.5.6:\n",
            "  Successfully uninstalled kaggle-1.5.6\n",
            "Requirement already satisfied: pip in /usr/local/lib/python3.6/dist-packages (21.0)\n",
            "Collecting pip\n",
            "  Using cached pip-21.0-py3-none-any.whl (1.5 MB)\n",
            "  Using cached pip-20.3.4-py2.py3-none-any.whl (1.5 MB)\n",
            "Collecting kaggle==1.5.6\n",
            "  Using cached kaggle-1.5.6-py3-none-any.whl\n",
            "Requirement already satisfied: requests in /usr/local/lib/python3.6/dist-packages (from kaggle==1.5.6) (2.23.0)\n",
            "Requirement already satisfied: python-dateutil in /usr/local/lib/python3.6/dist-packages (from kaggle==1.5.6) (2.8.1)\n",
            "Requirement already satisfied: urllib3<1.25,>=1.21.1 in /usr/local/lib/python3.6/dist-packages (from kaggle==1.5.6) (1.24.3)\n",
            "Requirement already satisfied: tqdm in /usr/local/lib/python3.6/dist-packages (from kaggle==1.5.6) (4.41.1)\n",
            "Requirement already satisfied: six>=1.10 in /usr/local/lib/python3.6/dist-packages (from kaggle==1.5.6) (1.15.0)\n",
            "Requirement already satisfied: certifi in /usr/local/lib/python3.6/dist-packages (from kaggle==1.5.6) (2020.12.5)\n",
            "Requirement already satisfied: python-slugify in /usr/local/lib/python3.6/dist-packages (from kaggle==1.5.6) (4.0.1)\n",
            "Requirement already satisfied: text-unidecode>=1.3 in /usr/local/lib/python3.6/dist-packages (from python-slugify->kaggle==1.5.6) (1.3)\n",
            "Requirement already satisfied: idna<3,>=2.5 in /usr/local/lib/python3.6/dist-packages (from requests->kaggle==1.5.6) (2.10)\n",
            "Requirement already satisfied: chardet<4,>=3.0.2 in /usr/local/lib/python3.6/dist-packages (from requests->kaggle==1.5.6) (3.0.4)\n",
            "Installing collected packages: kaggle\n",
            "Successfully installed kaggle-1.5.6\n"
          ],
          "name": "stdout"
        }
      ]
    },
    {
      "cell_type": "code",
      "metadata": {
        "colab": {
          "base_uri": "https://localhost:8080/"
        },
        "id": "Hi81Jvpr9tmY",
        "outputId": "b80b3cc2-4ac3-4281-926d-58e70a2fe648"
      },
      "source": [
        "! mkdir -p ~/.kaggle\r\n",
        "! cp kaggle.json ~/.kaggle/\r\n",
        "! chmod 600 ~/.kaggle/kaggle.json\r\n",
        "\r\n",
        "! kaggle -v"
      ],
      "execution_count": 60,
      "outputs": [
        {
          "output_type": "stream",
          "text": [
            "Kaggle API 1.5.6\n"
          ],
          "name": "stdout"
        }
      ]
    },
    {
      "cell_type": "code",
      "metadata": {
        "colab": {
          "base_uri": "https://localhost:8080/"
        },
        "id": "3uIcLOY59Qke",
        "outputId": "264eeb40-0b1b-475b-dea6-017235a409e8"
      },
      "source": [
        "!kaggle competitions download -c rossmann-store-sales"
      ],
      "execution_count": 61,
      "outputs": [
        {
          "output_type": "stream",
          "text": [
            "Downloading rossmann-store-sales.zip to /content\n",
            " 72% 5.00M/6.99M [00:01<00:00, 3.88MB/s]\n",
            "100% 6.99M/6.99M [00:01<00:00, 5.40MB/s]\n"
          ],
          "name": "stdout"
        }
      ]
    },
    {
      "cell_type": "code",
      "metadata": {
        "colab": {
          "base_uri": "https://localhost:8080/"
        },
        "id": "Q6nFBPzR9V9m",
        "outputId": "52d322ee-dee2-4508-80bb-2e12387ba616"
      },
      "source": [
        "!unzip rossmann-store-sales.zip"
      ],
      "execution_count": 62,
      "outputs": [
        {
          "output_type": "stream",
          "text": [
            "Archive:  rossmann-store-sales.zip\n",
            "  inflating: sample_submission.csv   \n",
            "  inflating: store.csv               \n",
            "  inflating: test.csv                \n",
            "  inflating: train.csv               \n"
          ],
          "name": "stdout"
        }
      ]
    },
    {
      "cell_type": "markdown",
      "metadata": {
        "id": "TXyV14c7-Sug"
      },
      "source": [
        "##데이터 불러오기"
      ]
    },
    {
      "cell_type": "code",
      "metadata": {
        "colab": {
          "base_uri": "https://localhost:8080/"
        },
        "id": "F_WhZ0uf91Kx",
        "outputId": "48cb990c-7988-406b-82bd-14c8707a2231"
      },
      "source": [
        "import pandas as pd\r\n",
        "df1=pd.read_csv(\"train.csv\", engine='python')\r\n",
        "print(df1.shape)"
      ],
      "execution_count": 63,
      "outputs": [
        {
          "output_type": "stream",
          "text": [
            "(1017209, 9)\n"
          ],
          "name": "stdout"
        }
      ]
    },
    {
      "cell_type": "code",
      "metadata": {
        "colab": {
          "base_uri": "https://localhost:8080/"
        },
        "id": "s-vFmOr8-N8l",
        "outputId": "de9af486-58bb-4268-fb4d-2a587ff78073"
      },
      "source": [
        "type(df1)"
      ],
      "execution_count": 64,
      "outputs": [
        {
          "output_type": "execute_result",
          "data": {
            "text/plain": [
              "pandas.core.frame.DataFrame"
            ]
          },
          "metadata": {
            "tags": []
          },
          "execution_count": 64
        }
      ]
    },
    {
      "cell_type": "code",
      "metadata": {
        "colab": {
          "base_uri": "https://localhost:8080/",
          "height": 299
        },
        "id": "GflJWaUw-j4g",
        "outputId": "c8033c53-09dc-4363-aef4-007f5175f325"
      },
      "source": [
        "df1.head()"
      ],
      "execution_count": 65,
      "outputs": [
        {
          "output_type": "execute_result",
          "data": {
            "text/html": [
              "<div>\n",
              "<style scoped>\n",
              "    .dataframe tbody tr th:only-of-type {\n",
              "        vertical-align: middle;\n",
              "    }\n",
              "\n",
              "    .dataframe tbody tr th {\n",
              "        vertical-align: top;\n",
              "    }\n",
              "\n",
              "    .dataframe thead th {\n",
              "        text-align: right;\n",
              "    }\n",
              "</style>\n",
              "<table border=\"1\" class=\"dataframe\">\n",
              "  <thead>\n",
              "    <tr style=\"text-align: right;\">\n",
              "      <th></th>\n",
              "      <th>Store</th>\n",
              "      <th>DayOfWeek</th>\n",
              "      <th>Date</th>\n",
              "      <th>Sales</th>\n",
              "      <th>Customers</th>\n",
              "      <th>Open</th>\n",
              "      <th>Promo</th>\n",
              "      <th>StateHoliday</th>\n",
              "      <th>SchoolHoliday</th>\n",
              "    </tr>\n",
              "  </thead>\n",
              "  <tbody>\n",
              "    <tr>\n",
              "      <th>0</th>\n",
              "      <td>1</td>\n",
              "      <td>5</td>\n",
              "      <td>2015-07-31</td>\n",
              "      <td>5263</td>\n",
              "      <td>555</td>\n",
              "      <td>1</td>\n",
              "      <td>1</td>\n",
              "      <td>0</td>\n",
              "      <td>1</td>\n",
              "    </tr>\n",
              "    <tr>\n",
              "      <th>1</th>\n",
              "      <td>2</td>\n",
              "      <td>5</td>\n",
              "      <td>2015-07-31</td>\n",
              "      <td>6064</td>\n",
              "      <td>625</td>\n",
              "      <td>1</td>\n",
              "      <td>1</td>\n",
              "      <td>0</td>\n",
              "      <td>1</td>\n",
              "    </tr>\n",
              "    <tr>\n",
              "      <th>2</th>\n",
              "      <td>3</td>\n",
              "      <td>5</td>\n",
              "      <td>2015-07-31</td>\n",
              "      <td>8314</td>\n",
              "      <td>821</td>\n",
              "      <td>1</td>\n",
              "      <td>1</td>\n",
              "      <td>0</td>\n",
              "      <td>1</td>\n",
              "    </tr>\n",
              "    <tr>\n",
              "      <th>3</th>\n",
              "      <td>4</td>\n",
              "      <td>5</td>\n",
              "      <td>2015-07-31</td>\n",
              "      <td>13995</td>\n",
              "      <td>1498</td>\n",
              "      <td>1</td>\n",
              "      <td>1</td>\n",
              "      <td>0</td>\n",
              "      <td>1</td>\n",
              "    </tr>\n",
              "    <tr>\n",
              "      <th>4</th>\n",
              "      <td>5</td>\n",
              "      <td>5</td>\n",
              "      <td>2015-07-31</td>\n",
              "      <td>4822</td>\n",
              "      <td>559</td>\n",
              "      <td>1</td>\n",
              "      <td>1</td>\n",
              "      <td>0</td>\n",
              "      <td>1</td>\n",
              "    </tr>\n",
              "  </tbody>\n",
              "</table>\n",
              "</div>"
            ],
            "text/plain": [
              "   Store  DayOfWeek        Date  Sales  ...  Open  Promo  StateHoliday SchoolHoliday\n",
              "0      1          5  2015-07-31   5263  ...     1      1             0             1\n",
              "1      2          5  2015-07-31   6064  ...     1      1             0             1\n",
              "2      3          5  2015-07-31   8314  ...     1      1             0             1\n",
              "3      4          5  2015-07-31  13995  ...     1      1             0             1\n",
              "4      5          5  2015-07-31   4822  ...     1      1             0             1\n",
              "\n",
              "[5 rows x 9 columns]"
            ]
          },
          "metadata": {
            "tags": []
          },
          "execution_count": 65
        }
      ]
    },
    {
      "cell_type": "code",
      "metadata": {
        "colab": {
          "base_uri": "https://localhost:8080/",
          "height": 233
        },
        "id": "EyjmXsc_-mGW",
        "outputId": "d224ae59-3493-4174-9678-0e2d321d75bb"
      },
      "source": [
        "df2=pd.read_csv(\"store.csv\",engine='python')\r\n",
        "print(df2.shape)\r\n",
        "df2.head()"
      ],
      "execution_count": 67,
      "outputs": [
        {
          "output_type": "stream",
          "text": [
            "(1115, 10)\n"
          ],
          "name": "stdout"
        },
        {
          "output_type": "execute_result",
          "data": {
            "text/html": [
              "<div>\n",
              "<style scoped>\n",
              "    .dataframe tbody tr th:only-of-type {\n",
              "        vertical-align: middle;\n",
              "    }\n",
              "\n",
              "    .dataframe tbody tr th {\n",
              "        vertical-align: top;\n",
              "    }\n",
              "\n",
              "    .dataframe thead th {\n",
              "        text-align: right;\n",
              "    }\n",
              "</style>\n",
              "<table border=\"1\" class=\"dataframe\">\n",
              "  <thead>\n",
              "    <tr style=\"text-align: right;\">\n",
              "      <th></th>\n",
              "      <th>Store</th>\n",
              "      <th>StoreType</th>\n",
              "      <th>Assortment</th>\n",
              "      <th>CompetitionDistance</th>\n",
              "      <th>CompetitionOpenSinceMonth</th>\n",
              "      <th>CompetitionOpenSinceYear</th>\n",
              "      <th>Promo2</th>\n",
              "      <th>Promo2SinceWeek</th>\n",
              "      <th>Promo2SinceYear</th>\n",
              "      <th>PromoInterval</th>\n",
              "    </tr>\n",
              "  </thead>\n",
              "  <tbody>\n",
              "    <tr>\n",
              "      <th>0</th>\n",
              "      <td>1</td>\n",
              "      <td>c</td>\n",
              "      <td>a</td>\n",
              "      <td>1270.0</td>\n",
              "      <td>9.0</td>\n",
              "      <td>2008.0</td>\n",
              "      <td>0</td>\n",
              "      <td>NaN</td>\n",
              "      <td>NaN</td>\n",
              "      <td>NaN</td>\n",
              "    </tr>\n",
              "    <tr>\n",
              "      <th>1</th>\n",
              "      <td>2</td>\n",
              "      <td>a</td>\n",
              "      <td>a</td>\n",
              "      <td>570.0</td>\n",
              "      <td>11.0</td>\n",
              "      <td>2007.0</td>\n",
              "      <td>1</td>\n",
              "      <td>13.0</td>\n",
              "      <td>2010.0</td>\n",
              "      <td>Jan,Apr,Jul,Oct</td>\n",
              "    </tr>\n",
              "    <tr>\n",
              "      <th>2</th>\n",
              "      <td>3</td>\n",
              "      <td>a</td>\n",
              "      <td>a</td>\n",
              "      <td>14130.0</td>\n",
              "      <td>12.0</td>\n",
              "      <td>2006.0</td>\n",
              "      <td>1</td>\n",
              "      <td>14.0</td>\n",
              "      <td>2011.0</td>\n",
              "      <td>Jan,Apr,Jul,Oct</td>\n",
              "    </tr>\n",
              "    <tr>\n",
              "      <th>3</th>\n",
              "      <td>4</td>\n",
              "      <td>c</td>\n",
              "      <td>c</td>\n",
              "      <td>620.0</td>\n",
              "      <td>9.0</td>\n",
              "      <td>2009.0</td>\n",
              "      <td>0</td>\n",
              "      <td>NaN</td>\n",
              "      <td>NaN</td>\n",
              "      <td>NaN</td>\n",
              "    </tr>\n",
              "    <tr>\n",
              "      <th>4</th>\n",
              "      <td>5</td>\n",
              "      <td>a</td>\n",
              "      <td>a</td>\n",
              "      <td>29910.0</td>\n",
              "      <td>4.0</td>\n",
              "      <td>2015.0</td>\n",
              "      <td>0</td>\n",
              "      <td>NaN</td>\n",
              "      <td>NaN</td>\n",
              "      <td>NaN</td>\n",
              "    </tr>\n",
              "  </tbody>\n",
              "</table>\n",
              "</div>"
            ],
            "text/plain": [
              "   Store StoreType  ... Promo2SinceYear    PromoInterval\n",
              "0      1         c  ...             NaN              NaN\n",
              "1      2         a  ...          2010.0  Jan,Apr,Jul,Oct\n",
              "2      3         a  ...          2011.0  Jan,Apr,Jul,Oct\n",
              "3      4         c  ...             NaN              NaN\n",
              "4      5         a  ...             NaN              NaN\n",
              "\n",
              "[5 rows x 10 columns]"
            ]
          },
          "metadata": {
            "tags": []
          },
          "execution_count": 67
        }
      ]
    },
    {
      "cell_type": "code",
      "metadata": {
        "colab": {
          "base_uri": "https://localhost:8080/"
        },
        "id": "PmRlLKSlA0fr",
        "outputId": "5db0a5b3-1a44-4282-b0ed-89d3d3ca9d98"
      },
      "source": [
        "df=pd.merge(df1,df2,on='Store')\r\n",
        "print(df.shape)\r\n",
        "print(df.dtypes)\r\n",
        "#10+9-1=18 로 합쳐짐"
      ],
      "execution_count": 87,
      "outputs": [
        {
          "output_type": "stream",
          "text": [
            "(1017209, 18)\n",
            "Store                          int64\n",
            "DayOfWeek                      int64\n",
            "Date                          object\n",
            "Sales                          int64\n",
            "Customers                      int64\n",
            "Open                           int64\n",
            "Promo                          int64\n",
            "StateHoliday                  object\n",
            "SchoolHoliday                  int64\n",
            "StoreType                     object\n",
            "Assortment                    object\n",
            "CompetitionDistance          float64\n",
            "CompetitionOpenSinceMonth    float64\n",
            "CompetitionOpenSinceYear     float64\n",
            "Promo2                         int64\n",
            "Promo2SinceWeek              float64\n",
            "Promo2SinceYear              float64\n",
            "PromoInterval                 object\n",
            "dtype: object\n"
          ],
          "name": "stdout"
        }
      ]
    },
    {
      "cell_type": "markdown",
      "metadata": {
        "id": "nILWvq9vK5ha"
      },
      "source": [
        "#데이터 불균형"
      ]
    },
    {
      "cell_type": "code",
      "metadata": {
        "colab": {
          "base_uri": "https://localhost:8080/"
        },
        "id": "1nR5yWRgBVBT",
        "outputId": "96ffc5a2-0d6d-4617-acca-acbe39af925d"
      },
      "source": [
        "from collections import Counter\r\n",
        "from sklearn.datasets import make_classification\r\n",
        "from imblearn.over_sampling import SMOTE, ADASYN\r\n",
        "\r\n",
        "# n_feature 변경, n_formative 와 n_redundant 추가\r\n",
        "X ,y = make_classification(n_classes=3, weights=[0.03, 0.07, 0.9], n_features=2, n_informative=2, n_redundant=0,\r\n",
        "                           n_clusters_per_class=1, n_samples=200, random_state=10)\r\n",
        "\r\n",
        "print('Original dataset shape %s' % Counter(y))"
      ],
      "execution_count": 2,
      "outputs": [
        {
          "output_type": "stream",
          "text": [
            "/usr/local/lib/python3.6/dist-packages/sklearn/externals/six.py:31: FutureWarning: The module is deprecated in version 0.21 and will be removed in version 0.23 since we've dropped support for Python 2.7. Please rely on the official version of six (https://pypi.org/project/six/).\n",
            "  \"(https://pypi.org/project/six/).\", FutureWarning)\n"
          ],
          "name": "stderr"
        },
        {
          "output_type": "stream",
          "text": [
            "Original dataset shape Counter({2: 180, 1: 14, 0: 6})\n"
          ],
          "name": "stdout"
        },
        {
          "output_type": "stream",
          "text": [
            "/usr/local/lib/python3.6/dist-packages/sklearn/utils/deprecation.py:144: FutureWarning: The sklearn.neighbors.base module is  deprecated in version 0.22 and will be removed in version 0.24. The corresponding classes / functions should instead be imported from sklearn.neighbors. Anything that cannot be imported from sklearn.neighbors is now part of the private API.\n",
            "  warnings.warn(message, FutureWarning)\n"
          ],
          "name": "stderr"
        }
      ]
    },
    {
      "cell_type": "code",
      "metadata": {
        "colab": {
          "base_uri": "https://localhost:8080/",
          "height": 283
        },
        "id": "9xCb7FPoMHwC",
        "outputId": "f5dcc3aa-bec9-4ccc-d3e2-ee064cdea406"
      },
      "source": [
        "import matplotlib.pyplot as plt\r\n",
        "#marker->찍는 모양, c=class, s=원 크기\r\n",
        "#edgecolors=모서리 색, linewidth=모서리굵기\r\n",
        "plt.scatter(X[:,0], X[:,1], marker='o', c=y, s=100, edgecolors=\"k\",linewidth=0.5)\r\n",
        "plt.xlabel(\"$X_1$\")\r\n",
        "plt.ylabel(\"$X_2$\")\r\n",
        "plt.show()"
      ],
      "execution_count": 3,
      "outputs": [
        {
          "output_type": "display_data",
          "data": {
            "image/png": "[encoded data removed]",
            "text/plain": [
              "<Figure size 432x288 with 1 Axes>"
            ]
          },
          "metadata": {
            "tags": [],
            "needs_background": "light"
          }
        }
      ]
    },
    {
      "cell_type": "markdown",
      "metadata": {
        "id": "oUZsoWSe-Mht"
      },
      "source": [
        "##Over Sampling"
      ]
    },
    {
      "cell_type": "markdown",
      "metadata": {
        "id": "upOUywpr7Udp"
      },
      "source": [
        "###SMOTE"
      ]
    },
    {
      "cell_type": "code",
      "metadata": {
        "colab": {
          "base_uri": "https://localhost:8080/"
        },
        "id": "QsNlyNiLNE1L",
        "outputId": "4dd0b7d4-c484-4ddc-c047-b8650e38d486"
      },
      "source": [
        "sm= SMOTE(random_state=42)\r\n",
        "X_res,y_res=sm.fit_resample(X,y)\r\n",
        "print('Resampled dataset shape %s'% Counter(y_res))"
      ],
      "execution_count": 4,
      "outputs": [
        {
          "output_type": "stream",
          "text": [
            "Resampled dataset shape Counter({2: 180, 1: 180, 0: 180})\n"
          ],
          "name": "stdout"
        },
        {
          "output_type": "stream",
          "text": [
            "/usr/local/lib/python3.6/dist-packages/sklearn/utils/deprecation.py:87: FutureWarning: Function safe_indexing is deprecated; safe_indexing is deprecated in version 0.22 and will be removed in version 0.24.\n",
            "  warnings.warn(msg, category=FutureWarning)\n",
            "/usr/local/lib/python3.6/dist-packages/sklearn/utils/deprecation.py:87: FutureWarning: Function safe_indexing is deprecated; safe_indexing is deprecated in version 0.22 and will be removed in version 0.24.\n",
            "  warnings.warn(msg, category=FutureWarning)\n"
          ],
          "name": "stderr"
        }
      ]
    },
    {
      "cell_type": "code",
      "metadata": {
        "colab": {
          "base_uri": "https://localhost:8080/",
          "height": 283
        },
        "id": "TVj1_G_uPq0s",
        "outputId": "08dffe80-5530-4a13-b2ab-851e33b22f6d"
      },
      "source": [
        "import matplotlib.pyplot as plt\r\n",
        "\r\n",
        "plt.scatter(X_res[:,0],X_res[:,1],marker='o',c=y_res, s=80, edgecolors=\"k\", linewidth=1)\r\n",
        "\r\n",
        "plt.xlabel(\"$X_1$\")\r\n",
        "plt.ylabel(\"$X_2$\")\r\n",
        "plt.show()"
      ],
      "execution_count": 5,
      "outputs": [
        {
          "output_type": "display_data",
          "data": {
            "image/png": "[encoded data removed]",
            "text/plain": [
              "<Figure size 432x288 with 1 Axes>"
            ]
          },
          "metadata": {
            "tags": [],
            "needs_background": "light"
          }
        }
      ]
    },
    {
      "cell_type": "markdown",
      "metadata": {
        "id": "WBkL6j6w7g7P"
      },
      "source": [
        "###ADASYN"
      ]
    },
    {
      "cell_type": "code",
      "metadata": {
        "colab": {
          "base_uri": "https://localhost:8080/"
        },
        "id": "PsKkyq6JQ_ll",
        "outputId": "015966bc-b3a2-4b20-b461-fd66adadff8c"
      },
      "source": [
        "ada=ADASYN(random_state=0)\r\n",
        "X_syn, y_syn=ada.fit_resample(X,y)\r\n",
        "print('Resampled dataset shape from ADASYN %s' % Counter(y_syn))"
      ],
      "execution_count": 6,
      "outputs": [
        {
          "output_type": "stream",
          "text": [
            "Resampled dataset shape from ADASYN Counter({2: 180, 1: 179, 0: 178})\n"
          ],
          "name": "stdout"
        },
        {
          "output_type": "stream",
          "text": [
            "/usr/local/lib/python3.6/dist-packages/sklearn/utils/deprecation.py:87: FutureWarning: Function safe_indexing is deprecated; safe_indexing is deprecated in version 0.22 and will be removed in version 0.24.\n",
            "  warnings.warn(msg, category=FutureWarning)\n",
            "/usr/local/lib/python3.6/dist-packages/sklearn/utils/deprecation.py:87: FutureWarning: Function safe_indexing is deprecated; safe_indexing is deprecated in version 0.22 and will be removed in version 0.24.\n",
            "  warnings.warn(msg, category=FutureWarning)\n"
          ],
          "name": "stderr"
        }
      ]
    },
    {
      "cell_type": "code",
      "metadata": {
        "colab": {
          "base_uri": "https://localhost:8080/",
          "height": 283
        },
        "id": "IQ-iDn8P89fm",
        "outputId": "2489d45a-14ee-43ee-8942-59fbb1870bf5"
      },
      "source": [
        "plt.scatter(X_syn[:,0],X_syn[:,1],marker='o',edgecolors=\"k\",linewidths=1,c=y_syn, s=100)\r\n",
        "\r\n",
        "plt.xlabel(\"$X_1$\")\r\n",
        "plt.ylabel(\"$X_2$\")\r\n",
        "plt.show()"
      ],
      "execution_count": 10,
      "outputs": [
        {
          "output_type": "display_data",
          "data": {
            "image/png": "[encoded data removed]",
            "text/plain": [
              "<Figure size 432x288 with 1 Axes>"
            ]
          },
          "metadata": {
            "tags": [],
            "needs_background": "light"
          }
        }
      ]
    },
    {
      "cell_type": "markdown",
      "metadata": {
        "id": "EkjeI1wd-PaH"
      },
      "source": [
        "##Under Sampling"
      ]
    },
    {
      "cell_type": "code",
      "metadata": {
        "colab": {
          "base_uri": "https://localhost:8080/"
        },
        "id": "u3t7vdBD9qzU",
        "outputId": "c3c3a38b-69c7-409a-8a66-7b9193f48f56"
      },
      "source": [
        "from imblearn.under_sampling import NearMiss\r\n",
        "undersample=NearMiss(version=3, n_neighbors_ver3=3)\r\n",
        "X_Under, y_Under=undersample.fit_resample(X,y)"
      ],
      "execution_count": 11,
      "outputs": [
        {
          "output_type": "stream",
          "text": [
            "/usr/local/lib/python3.6/dist-packages/sklearn/utils/deprecation.py:87: FutureWarning: Function safe_indexing is deprecated; safe_indexing is deprecated in version 0.22 and will be removed in version 0.24.\n",
            "  warnings.warn(msg, category=FutureWarning)\n",
            "/usr/local/lib/python3.6/dist-packages/sklearn/utils/deprecation.py:87: FutureWarning: Function safe_indexing is deprecated; safe_indexing is deprecated in version 0.22 and will be removed in version 0.24.\n",
            "  warnings.warn(msg, category=FutureWarning)\n",
            "/usr/local/lib/python3.6/dist-packages/sklearn/utils/deprecation.py:87: FutureWarning: Function safe_indexing is deprecated; safe_indexing is deprecated in version 0.22 and will be removed in version 0.24.\n",
            "  warnings.warn(msg, category=FutureWarning)\n",
            "/usr/local/lib/python3.6/dist-packages/sklearn/utils/deprecation.py:87: FutureWarning: Function safe_indexing is deprecated; safe_indexing is deprecated in version 0.22 and will be removed in version 0.24.\n",
            "  warnings.warn(msg, category=FutureWarning)\n",
            "/usr/local/lib/python3.6/dist-packages/sklearn/utils/deprecation.py:87: FutureWarning: Function safe_indexing is deprecated; safe_indexing is deprecated in version 0.22 and will be removed in version 0.24.\n",
            "  warnings.warn(msg, category=FutureWarning)\n",
            "/usr/local/lib/python3.6/dist-packages/sklearn/utils/deprecation.py:87: FutureWarning: Function safe_indexing is deprecated; safe_indexing is deprecated in version 0.22 and will be removed in version 0.24.\n",
            "  warnings.warn(msg, category=FutureWarning)\n",
            "/usr/local/lib/python3.6/dist-packages/sklearn/utils/deprecation.py:87: FutureWarning: Function safe_indexing is deprecated; safe_indexing is deprecated in version 0.22 and will be removed in version 0.24.\n",
            "  warnings.warn(msg, category=FutureWarning)\n",
            "/usr/local/lib/python3.6/dist-packages/sklearn/utils/deprecation.py:87: FutureWarning: Function safe_indexing is deprecated; safe_indexing is deprecated in version 0.22 and will be removed in version 0.24.\n",
            "  warnings.warn(msg, category=FutureWarning)\n"
          ],
          "name": "stderr"
        }
      ]
    },
    {
      "cell_type": "code",
      "metadata": {
        "colab": {
          "base_uri": "https://localhost:8080/"
        },
        "id": "PTYWz9ln-r8d",
        "outputId": "e30d3692-a890-43da-cfd1-6ceb4ed2f01e"
      },
      "source": [
        "X_Under"
      ],
      "execution_count": 12,
      "outputs": [
        {
          "output_type": "execute_result",
          "data": {
            "text/plain": [
              "array([[-1.03299817,  0.99712508],\n",
              "       [-0.95051752,  1.04470696],\n",
              "       [-2.30786084,  0.64042828],\n",
              "       [-1.03483946,  0.96440487],\n",
              "       [-0.09531068,  1.26657692],\n",
              "       [-3.85126503,  0.26839761],\n",
              "       [-1.59896271, -0.99343202],\n",
              "       [-1.23773251, -0.56435167],\n",
              "       [-0.69786663, -0.2872872 ],\n",
              "       [-1.15209784, -0.21034017],\n",
              "       [-0.97186717,  0.31871053],\n",
              "       [-1.03380506,  0.51081469],\n",
              "       [-0.10276596, -0.26267046],\n",
              "       [-0.28285261, -0.30407951],\n",
              "       [ 0.55001871,  1.34307094],\n",
              "       [-0.02305955,  0.25952395],\n",
              "       [ 0.03175702,  0.37383963],\n",
              "       [ 0.2814798 ,  0.77915311]])"
            ]
          },
          "metadata": {
            "tags": []
          },
          "execution_count": 12
        }
      ]
    },
    {
      "cell_type": "code",
      "metadata": {
        "colab": {
          "base_uri": "https://localhost:8080/"
        },
        "id": "Qox-7P8j-5hn",
        "outputId": "c48729f4-34b1-4eac-a263-dc977362484e"
      },
      "source": [
        "y_Under"
      ],
      "execution_count": 13,
      "outputs": [
        {
          "output_type": "execute_result",
          "data": {
            "text/plain": [
              "array([0, 0, 0, 0, 0, 0, 1, 1, 1, 1, 1, 1, 2, 2, 2, 2, 2, 2])"
            ]
          },
          "metadata": {
            "tags": []
          },
          "execution_count": 13
        }
      ]
    },
    {
      "cell_type": "code",
      "metadata": {
        "colab": {
          "base_uri": "https://localhost:8080/",
          "height": 283
        },
        "id": "GgU8qDJ_-mkn",
        "outputId": "f233b6fd-1f96-4b93-abd5-b0092a8669bd"
      },
      "source": [
        "plt.scatter(X_Under[:,0],X_Under[:,1],c=y_Under,marker='o',linewidths=1, edgecolors=\"k\",s=100)\r\n",
        "plt.xlabel(\"$X_1$\")\r\n",
        "plt.ylabel(\"$X_2$\")\r\n",
        "plt.show()"
      ],
      "execution_count": 16,
      "outputs": [
        {
          "output_type": "display_data",
          "data": {
            "image/png": "[encoded data removed]",
            "text/plain": [
              "<Figure size 432x288 with 1 Axes>"
            ]
          },
          "metadata": {
            "tags": [],
            "needs_background": "light"
          }
        }
      ]
    },
    {
      "cell_type": "code",
      "metadata": {
        "id": "wyyj6kiq_OlG"
      },
      "source": [
        ""
      ],
      "execution_count": null,
      "outputs": []
    }
  ]
}