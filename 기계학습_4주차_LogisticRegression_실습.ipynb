{
  "nbformat": 4,
  "nbformat_minor": 0,
  "metadata": {
    "colab": {
      "name": "기계학습_4주차_LogisticRegression_실습",
      "provenance": [],
      "collapsed_sections": [],
      "authorship_tag": "ABX9TyM0FzobPSK7+iTwhB85cTMw",
      "include_colab_link": true
    },
    "kernelspec": {
      "name": "python3",
      "display_name": "Python 3"
    }
  },
  "cells": [
    {
      "cell_type": "markdown",
      "metadata": {
        "id": "view-in-github",
        "colab_type": "text"
      },
      "source": [
        "<a href=\"https://colab.research.google.com/github/chae52/MachineLearning/blob/main/%EA%B8%B0%EA%B3%84%ED%95%99%EC%8A%B5_4%EC%A3%BC%EC%B0%A8_LogisticRegression_%EC%8B%A4%EC%8A%B5.ipynb\" target=\"_parent\"><img src=\"https://colab.research.google.com/assets/colab-badge.svg\" alt=\"Open In Colab\"/></a>"
      ]
    },
    {
      "cell_type": "markdown",
      "metadata": {
        "id": "XHBDtlZueSR6"
      },
      "source": [
        "#IRIS"
      ]
    },
    {
      "cell_type": "markdown",
      "metadata": {
        "id": "lIgGenAZVVj8"
      },
      "source": [
        "##Data load"
      ]
    },
    {
      "cell_type": "code",
      "metadata": {
        "colab": {
          "base_uri": "https://localhost:8080/",
          "height": 195
        },
        "id": "eX7Sd8hiUyy5",
        "outputId": "e9c378af-e2f4-4d50-d7d4-7085973a05c6"
      },
      "source": [
        "import seaborn as sns\r\n",
        "iris=sns.load_dataset('iris')\r\n",
        "iris.head()"
      ],
      "execution_count": 62,
      "outputs": [
        {
          "output_type": "execute_result",
          "data": {
            "text/html": [
              "<div>\n",
              "<style scoped>\n",
              "    .dataframe tbody tr th:only-of-type {\n",
              "        vertical-align: middle;\n",
              "    }\n",
              "\n",
              "    .dataframe tbody tr th {\n",
              "        vertical-align: top;\n",
              "    }\n",
              "\n",
              "    .dataframe thead th {\n",
              "        text-align: right;\n",
              "    }\n",
              "</style>\n",
              "<table border=\"1\" class=\"dataframe\">\n",
              "  <thead>\n",
              "    <tr style=\"text-align: right;\">\n",
              "      <th></th>\n",
              "      <th>sepal_length</th>\n",
              "      <th>sepal_width</th>\n",
              "      <th>petal_length</th>\n",
              "      <th>petal_width</th>\n",
              "      <th>species</th>\n",
              "    </tr>\n",
              "  </thead>\n",
              "  <tbody>\n",
              "    <tr>\n",
              "      <th>0</th>\n",
              "      <td>5.1</td>\n",
              "      <td>3.5</td>\n",
              "      <td>1.4</td>\n",
              "      <td>0.2</td>\n",
              "      <td>setosa</td>\n",
              "    </tr>\n",
              "    <tr>\n",
              "      <th>1</th>\n",
              "      <td>4.9</td>\n",
              "      <td>3.0</td>\n",
              "      <td>1.4</td>\n",
              "      <td>0.2</td>\n",
              "      <td>setosa</td>\n",
              "    </tr>\n",
              "    <tr>\n",
              "      <th>2</th>\n",
              "      <td>4.7</td>\n",
              "      <td>3.2</td>\n",
              "      <td>1.3</td>\n",
              "      <td>0.2</td>\n",
              "      <td>setosa</td>\n",
              "    </tr>\n",
              "    <tr>\n",
              "      <th>3</th>\n",
              "      <td>4.6</td>\n",
              "      <td>3.1</td>\n",
              "      <td>1.5</td>\n",
              "      <td>0.2</td>\n",
              "      <td>setosa</td>\n",
              "    </tr>\n",
              "    <tr>\n",
              "      <th>4</th>\n",
              "      <td>5.0</td>\n",
              "      <td>3.6</td>\n",
              "      <td>1.4</td>\n",
              "      <td>0.2</td>\n",
              "      <td>setosa</td>\n",
              "    </tr>\n",
              "  </tbody>\n",
              "</table>\n",
              "</div>"
            ],
            "text/plain": [
              "   sepal_length  sepal_width  petal_length  petal_width species\n",
              "0           5.1          3.5           1.4          0.2  setosa\n",
              "1           4.9          3.0           1.4          0.2  setosa\n",
              "2           4.7          3.2           1.3          0.2  setosa\n",
              "3           4.6          3.1           1.5          0.2  setosa\n",
              "4           5.0          3.6           1.4          0.2  setosa"
            ]
          },
          "metadata": {
            "tags": []
          },
          "execution_count": 62
        }
      ]
    },
    {
      "cell_type": "code",
      "metadata": {
        "id": "moOGzeBCUyuE"
      },
      "source": [
        "iris_x=iris.drop('species',axis=1)\r\n",
        "iris_y=iris['species']"
      ],
      "execution_count": 63,
      "outputs": []
    },
    {
      "cell_type": "code",
      "metadata": {
        "colab": {
          "base_uri": "https://localhost:8080/"
        },
        "id": "8LSIVLLXUyo9",
        "outputId": "7f891bd3-bc9e-476e-e229-502d5087e984"
      },
      "source": [
        "from sklearn.preprocessing import LabelEncoder\r\n",
        "classle=LabelEncoder()\r\n",
        "iris_y=classle.fit_transform(iris['species'].values)\r\n",
        "\r\n",
        "import numpy as np\r\n",
        "print('species : ', np.unique(iris_y))"
      ],
      "execution_count": 64,
      "outputs": [
        {
          "output_type": "stream",
          "text": [
            "species :  [0 1 2]\n"
          ],
          "name": "stdout"
        }
      ]
    },
    {
      "cell_type": "code",
      "metadata": {
        "colab": {
          "base_uri": "https://localhost:8080/"
        },
        "id": "lHi07TCGUyiw",
        "outputId": "5618961d-80ca-48f5-e65e-6d8ae190bbe5"
      },
      "source": [
        "from sklearn.model_selection import train_test_split\r\n",
        "print(iris_x.shape,iris_y.shape)\r\n",
        "\r\n",
        "iris_x_train, iris_x_test, iris_y_train, iris_y_test=train_test_split(iris_x,iris_y,test_size=0.3, random_state=1,stratify=y)"
      ],
      "execution_count": 65,
      "outputs": [
        {
          "output_type": "stream",
          "text": [
            "(150, 4) (150,)\n"
          ],
          "name": "stdout"
        }
      ]
    },
    {
      "cell_type": "markdown",
      "metadata": {
        "id": "P-a2_DlsYiHJ"
      },
      "source": [
        "##표준화"
      ]
    },
    {
      "cell_type": "code",
      "metadata": {
        "id": "7NoMbmPSYm22"
      },
      "source": [
        "from sklearn.preprocessing import StandardScaler\r\n",
        "sc=StandardScaler()\r\n",
        "sc.fit(iris_x_train)\r\n",
        "iris_x_train_std=sc.transform(iris_x_train)\r\n",
        "iris_x_test_std=sc.transform(iris_x_test)"
      ],
      "execution_count": 66,
      "outputs": []
    },
    {
      "cell_type": "markdown",
      "metadata": {
        "id": "l9_3HXipdLF0"
      },
      "source": [
        "##학습"
      ]
    },
    {
      "cell_type": "code",
      "metadata": {
        "id": "OBKula6UZXJ3"
      },
      "source": [
        "from sklearn.linear_model import LogisticRegression\r\n",
        "#c=1/람다 \r\n",
        "logit=LogisticRegression(C=200,random_state=11)\r\n",
        "l_1=logit.fit(iris_x_train_std,iris_y_train)\r\n",
        "iris_y_train_pred=logit.predict(iris_x_train_std)\r\n",
        "iris_y_test_pred=logit.predict(iris_x_test_std)"
      ],
      "execution_count": 67,
      "outputs": []
    },
    {
      "cell_type": "markdown",
      "metadata": {
        "id": "8El2OfQqd6-i"
      },
      "source": [
        "##평가"
      ]
    },
    {
      "cell_type": "code",
      "metadata": {
        "colab": {
          "base_uri": "https://localhost:8080/"
        },
        "id": "_UBL3Do7aXqh",
        "outputId": "bddb8846-a34f-4933-be7b-546e18e4d5db"
      },
      "source": [
        "from sklearn.metrics import accuracy_score\r\n",
        "print(accuracy_score(iris_y_train,iris_y_train_pred))\r\n",
        "print(accuracy_score(iris_y_test,iris_y_test_pred))"
      ],
      "execution_count": 68,
      "outputs": [
        {
          "output_type": "stream",
          "text": [
            "0.9809523809523809\n",
            "1.0\n"
          ],
          "name": "stdout"
        }
      ]
    },
    {
      "cell_type": "code",
      "metadata": {
        "colab": {
          "base_uri": "https://localhost:8080/"
        },
        "id": "oBJftiF5aXop",
        "outputId": "648f693a-bcb3-4317-8214-445206c9e052"
      },
      "source": [
        "from sklearn.metrics import confusion_matrix\r\n",
        "print(confusion_matrix(iris_y_test,iris_y_test_pred))"
      ],
      "execution_count": 69,
      "outputs": [
        {
          "output_type": "stream",
          "text": [
            "[[15  0  0]\n",
            " [ 0 15  0]\n",
            " [ 0  0 15]]\n"
          ],
          "name": "stdout"
        }
      ]
    },
    {
      "cell_type": "markdown",
      "metadata": {
        "id": "QpmEZyUzUzKT"
      },
      "source": [
        "#Regularization(규제화)"
      ]
    },
    {
      "cell_type": "code",
      "metadata": {
        "id": "6H0JjoziJU01"
      },
      "source": [
        "import pandas as pd\r\n",
        "import numpy as np"
      ],
      "execution_count": 105,
      "outputs": []
    },
    {
      "cell_type": "markdown",
      "metadata": {
        "id": "1GeyXWeo_pLb"
      },
      "source": [
        "##Wine data load"
      ]
    },
    {
      "cell_type": "code",
      "metadata": {
        "colab": {
          "base_uri": "https://localhost:8080/",
          "height": 195
        },
        "id": "nClfBVUmJ_wf",
        "outputId": "137ca3f0-3be5-43a4-d1a1-41017e8efa0e"
      },
      "source": [
        "data_wine=pd.read_csv('http://archive.ics.uci.edu/ml/machine-learning-databases/'\r\n",
        "                     'wine/wine.data',header=None)\r\n",
        "data_wine.head()"
      ],
      "execution_count": 106,
      "outputs": [
        {
          "output_type": "execute_result",
          "data": {
            "text/html": [
              "<div>\n",
              "<style scoped>\n",
              "    .dataframe tbody tr th:only-of-type {\n",
              "        vertical-align: middle;\n",
              "    }\n",
              "\n",
              "    .dataframe tbody tr th {\n",
              "        vertical-align: top;\n",
              "    }\n",
              "\n",
              "    .dataframe thead th {\n",
              "        text-align: right;\n",
              "    }\n",
              "</style>\n",
              "<table border=\"1\" class=\"dataframe\">\n",
              "  <thead>\n",
              "    <tr style=\"text-align: right;\">\n",
              "      <th></th>\n",
              "      <th>0</th>\n",
              "      <th>1</th>\n",
              "      <th>2</th>\n",
              "      <th>3</th>\n",
              "      <th>4</th>\n",
              "      <th>5</th>\n",
              "      <th>6</th>\n",
              "      <th>7</th>\n",
              "      <th>8</th>\n",
              "      <th>9</th>\n",
              "      <th>10</th>\n",
              "      <th>11</th>\n",
              "      <th>12</th>\n",
              "      <th>13</th>\n",
              "    </tr>\n",
              "  </thead>\n",
              "  <tbody>\n",
              "    <tr>\n",
              "      <th>0</th>\n",
              "      <td>1</td>\n",
              "      <td>14.23</td>\n",
              "      <td>1.71</td>\n",
              "      <td>2.43</td>\n",
              "      <td>15.6</td>\n",
              "      <td>127</td>\n",
              "      <td>2.80</td>\n",
              "      <td>3.06</td>\n",
              "      <td>0.28</td>\n",
              "      <td>2.29</td>\n",
              "      <td>5.64</td>\n",
              "      <td>1.04</td>\n",
              "      <td>3.92</td>\n",
              "      <td>1065</td>\n",
              "    </tr>\n",
              "    <tr>\n",
              "      <th>1</th>\n",
              "      <td>1</td>\n",
              "      <td>13.20</td>\n",
              "      <td>1.78</td>\n",
              "      <td>2.14</td>\n",
              "      <td>11.2</td>\n",
              "      <td>100</td>\n",
              "      <td>2.65</td>\n",
              "      <td>2.76</td>\n",
              "      <td>0.26</td>\n",
              "      <td>1.28</td>\n",
              "      <td>4.38</td>\n",
              "      <td>1.05</td>\n",
              "      <td>3.40</td>\n",
              "      <td>1050</td>\n",
              "    </tr>\n",
              "    <tr>\n",
              "      <th>2</th>\n",
              "      <td>1</td>\n",
              "      <td>13.16</td>\n",
              "      <td>2.36</td>\n",
              "      <td>2.67</td>\n",
              "      <td>18.6</td>\n",
              "      <td>101</td>\n",
              "      <td>2.80</td>\n",
              "      <td>3.24</td>\n",
              "      <td>0.30</td>\n",
              "      <td>2.81</td>\n",
              "      <td>5.68</td>\n",
              "      <td>1.03</td>\n",
              "      <td>3.17</td>\n",
              "      <td>1185</td>\n",
              "    </tr>\n",
              "    <tr>\n",
              "      <th>3</th>\n",
              "      <td>1</td>\n",
              "      <td>14.37</td>\n",
              "      <td>1.95</td>\n",
              "      <td>2.50</td>\n",
              "      <td>16.8</td>\n",
              "      <td>113</td>\n",
              "      <td>3.85</td>\n",
              "      <td>3.49</td>\n",
              "      <td>0.24</td>\n",
              "      <td>2.18</td>\n",
              "      <td>7.80</td>\n",
              "      <td>0.86</td>\n",
              "      <td>3.45</td>\n",
              "      <td>1480</td>\n",
              "    </tr>\n",
              "    <tr>\n",
              "      <th>4</th>\n",
              "      <td>1</td>\n",
              "      <td>13.24</td>\n",
              "      <td>2.59</td>\n",
              "      <td>2.87</td>\n",
              "      <td>21.0</td>\n",
              "      <td>118</td>\n",
              "      <td>2.80</td>\n",
              "      <td>2.69</td>\n",
              "      <td>0.39</td>\n",
              "      <td>1.82</td>\n",
              "      <td>4.32</td>\n",
              "      <td>1.04</td>\n",
              "      <td>2.93</td>\n",
              "      <td>735</td>\n",
              "    </tr>\n",
              "  </tbody>\n",
              "</table>\n",
              "</div>"
            ],
            "text/plain": [
              "   0      1     2     3     4    5   ...    8     9     10    11    12    13\n",
              "0   1  14.23  1.71  2.43  15.6  127  ...  0.28  2.29  5.64  1.04  3.92  1065\n",
              "1   1  13.20  1.78  2.14  11.2  100  ...  0.26  1.28  4.38  1.05  3.40  1050\n",
              "2   1  13.16  2.36  2.67  18.6  101  ...  0.30  2.81  5.68  1.03  3.17  1185\n",
              "3   1  14.37  1.95  2.50  16.8  113  ...  0.24  2.18  7.80  0.86  3.45  1480\n",
              "4   1  13.24  2.59  2.87  21.0  118  ...  0.39  1.82  4.32  1.04  2.93   735\n",
              "\n",
              "[5 rows x 14 columns]"
            ]
          },
          "metadata": {
            "tags": []
          },
          "execution_count": 106
        }
      ]
    },
    {
      "cell_type": "code",
      "metadata": {
        "id": "aKX_vJyxNHGm",
        "colab": {
          "base_uri": "https://localhost:8080/",
          "height": 213
        },
        "outputId": "d121932e-15a0-45cf-df32-f427590e3ed6"
      },
      "source": [
        "#열 이름 지정\r\n",
        "data_wine.columns=['class label', 'alchohol', 'malic acid', 'ash', \r\n",
        "                    'alcalinity of ash', 'magnesium', 'total phenols', \r\n",
        "                    'flavanoids', 'nonflavanoid phenols', \r\n",
        "                    'proanthocyanins', 'color intensity', 'hue', \r\n",
        "                    'OD208', 'proline'] \r\n",
        "print('class label:', np.unique(data_wine['class label']))\r\n",
        "data_wine.head()"
      ],
      "execution_count": 107,
      "outputs": [
        {
          "output_type": "stream",
          "text": [
            "class label: [1 2 3]\n"
          ],
          "name": "stdout"
        },
        {
          "output_type": "execute_result",
          "data": {
            "text/html": [
              "<div>\n",
              "<style scoped>\n",
              "    .dataframe tbody tr th:only-of-type {\n",
              "        vertical-align: middle;\n",
              "    }\n",
              "\n",
              "    .dataframe tbody tr th {\n",
              "        vertical-align: top;\n",
              "    }\n",
              "\n",
              "    .dataframe thead th {\n",
              "        text-align: right;\n",
              "    }\n",
              "</style>\n",
              "<table border=\"1\" class=\"dataframe\">\n",
              "  <thead>\n",
              "    <tr style=\"text-align: right;\">\n",
              "      <th></th>\n",
              "      <th>class label</th>\n",
              "      <th>alchohol</th>\n",
              "      <th>malic acid</th>\n",
              "      <th>ash</th>\n",
              "      <th>alcalinity of ash</th>\n",
              "      <th>magnesium</th>\n",
              "      <th>total phenols</th>\n",
              "      <th>flavanoids</th>\n",
              "      <th>nonflavanoid phenols</th>\n",
              "      <th>proanthocyanins</th>\n",
              "      <th>color intensity</th>\n",
              "      <th>hue</th>\n",
              "      <th>OD208</th>\n",
              "      <th>proline</th>\n",
              "    </tr>\n",
              "  </thead>\n",
              "  <tbody>\n",
              "    <tr>\n",
              "      <th>0</th>\n",
              "      <td>1</td>\n",
              "      <td>14.23</td>\n",
              "      <td>1.71</td>\n",
              "      <td>2.43</td>\n",
              "      <td>15.6</td>\n",
              "      <td>127</td>\n",
              "      <td>2.80</td>\n",
              "      <td>3.06</td>\n",
              "      <td>0.28</td>\n",
              "      <td>2.29</td>\n",
              "      <td>5.64</td>\n",
              "      <td>1.04</td>\n",
              "      <td>3.92</td>\n",
              "      <td>1065</td>\n",
              "    </tr>\n",
              "    <tr>\n",
              "      <th>1</th>\n",
              "      <td>1</td>\n",
              "      <td>13.20</td>\n",
              "      <td>1.78</td>\n",
              "      <td>2.14</td>\n",
              "      <td>11.2</td>\n",
              "      <td>100</td>\n",
              "      <td>2.65</td>\n",
              "      <td>2.76</td>\n",
              "      <td>0.26</td>\n",
              "      <td>1.28</td>\n",
              "      <td>4.38</td>\n",
              "      <td>1.05</td>\n",
              "      <td>3.40</td>\n",
              "      <td>1050</td>\n",
              "    </tr>\n",
              "    <tr>\n",
              "      <th>2</th>\n",
              "      <td>1</td>\n",
              "      <td>13.16</td>\n",
              "      <td>2.36</td>\n",
              "      <td>2.67</td>\n",
              "      <td>18.6</td>\n",
              "      <td>101</td>\n",
              "      <td>2.80</td>\n",
              "      <td>3.24</td>\n",
              "      <td>0.30</td>\n",
              "      <td>2.81</td>\n",
              "      <td>5.68</td>\n",
              "      <td>1.03</td>\n",
              "      <td>3.17</td>\n",
              "      <td>1185</td>\n",
              "    </tr>\n",
              "    <tr>\n",
              "      <th>3</th>\n",
              "      <td>1</td>\n",
              "      <td>14.37</td>\n",
              "      <td>1.95</td>\n",
              "      <td>2.50</td>\n",
              "      <td>16.8</td>\n",
              "      <td>113</td>\n",
              "      <td>3.85</td>\n",
              "      <td>3.49</td>\n",
              "      <td>0.24</td>\n",
              "      <td>2.18</td>\n",
              "      <td>7.80</td>\n",
              "      <td>0.86</td>\n",
              "      <td>3.45</td>\n",
              "      <td>1480</td>\n",
              "    </tr>\n",
              "    <tr>\n",
              "      <th>4</th>\n",
              "      <td>1</td>\n",
              "      <td>13.24</td>\n",
              "      <td>2.59</td>\n",
              "      <td>2.87</td>\n",
              "      <td>21.0</td>\n",
              "      <td>118</td>\n",
              "      <td>2.80</td>\n",
              "      <td>2.69</td>\n",
              "      <td>0.39</td>\n",
              "      <td>1.82</td>\n",
              "      <td>4.32</td>\n",
              "      <td>1.04</td>\n",
              "      <td>2.93</td>\n",
              "      <td>735</td>\n",
              "    </tr>\n",
              "  </tbody>\n",
              "</table>\n",
              "</div>"
            ],
            "text/plain": [
              "   class label  alchohol  malic acid  ...   hue  OD208  proline\n",
              "0            1     14.23        1.71  ...  1.04   3.92     1065\n",
              "1            1     13.20        1.78  ...  1.05   3.40     1050\n",
              "2            1     13.16        2.36  ...  1.03   3.17     1185\n",
              "3            1     14.37        1.95  ...  0.86   3.45     1480\n",
              "4            1     13.24        2.59  ...  1.04   2.93      735\n",
              "\n",
              "[5 rows x 14 columns]"
            ]
          },
          "metadata": {
            "tags": []
          },
          "execution_count": 107
        }
      ]
    },
    {
      "cell_type": "code",
      "metadata": {
        "id": "5kk4KxRLOf7X"
      },
      "source": [
        "from sklearn.model_selection import train_test_split\r\n",
        "x,y = data_wine.iloc[:,1:].values, data_wine.iloc[:,0].values\r\n",
        "x_train, x_test, y_train, y_test=train_test_split(x,y, test_size=0.3 ,random_state=1, stratify=y)"
      ],
      "execution_count": 108,
      "outputs": []
    },
    {
      "cell_type": "markdown",
      "metadata": {
        "id": "G3r-uTs4tIo0"
      },
      "source": [
        "##표준화"
      ]
    },
    {
      "cell_type": "code",
      "metadata": {
        "id": "IU53pzpOQBtO"
      },
      "source": [
        "from sklearn.preprocessing import StandardScaler\r\n",
        "std=StandardScaler()\r\n",
        "\r\n",
        "#x_train에 fit된 기준을 x_test에도 똑같이 맞춤(동일한 기준)\r\n",
        "x_train_std=std.fit_transform(x_train)\r\n",
        "x_test_std=std.transform(x_test)"
      ],
      "execution_count": 109,
      "outputs": []
    },
    {
      "cell_type": "markdown",
      "metadata": {
        "id": "0H4cnt_RuH4D"
      },
      "source": [
        "##L1&L2 Regularization"
      ]
    },
    {
      "cell_type": "code",
      "metadata": {
        "id": "5dNjZ_kERuUj"
      },
      "source": [
        "from sklearn.linear_model import LogisticRegression\r\n",
        "lr1_10=LogisticRegression(penalty='l1', C=10.0, solver='saga')# L1 with C(=1/λ)=10\r\n",
        "lr1_1=LogisticRegression(penalty='l1', C=1.0, solver='saga')\r\n",
        "lr1_0_1=LogisticRegression(penalty='l1', C=0.1, solver='saga')\r\n",
        "\r\n",
        "lr2_10=LogisticRegression(penalty='l2', C=10.0, solver='saga')\r\n",
        "lr2_1=LogisticRegression(penalty='l2', C=1.0, solver='saga')\r\n",
        "lr2_0_1=LogisticRegression(penalty='l2', C=0.1, solver='saga')"
      ],
      "execution_count": 110,
      "outputs": []
    },
    {
      "cell_type": "code",
      "metadata": {
        "colab": {
          "base_uri": "https://localhost:8080/"
        },
        "id": "mLK103Svu16n",
        "outputId": "ac7bda02-f5f1-460d-90ac-7b17fb2f497d"
      },
      "source": [
        "#.score 대신 accuracy_score을 사용해도 됨\r\n",
        "\r\n",
        "print('L1★★★★★★★★')\r\n",
        "lr1_10.fit(x_train_std,y_train)\r\n",
        "print('Trainng accuracy with L1 and λ=0.1 : ', lr1_10.score(x_train_std,y_train))\r\n",
        "print('Test accuracy with L1 and λ=0.1 : ', lr1_10.score(x_test_std, y_test))\r\n",
        "\r\n",
        "lr1_1.fit(x_train_std,y_train)\r\n",
        "print('Trainng accuracy with L1 and λ=1 : ', lr1_1.score(x_train_std,y_train))\r\n",
        "print('Test accuracy with L1 and λ=1 : ', lr1_1.score(x_test_std, y_test))\r\n",
        "\r\n",
        "lr1_0_1.fit(x_train_std,y_train)\r\n",
        "print('Trainng accuracy with L1 and λ=10 : ', lr1_0_1.score(x_train_std,y_train))\r\n",
        "print('Test accuracy with L1 and λ=10 : ', lr1_0_1.score(x_test_std, y_test))\r\n",
        "\r\n",
        "print('L2★★★★★★★★')\r\n",
        "lr2_10.fit(x_train_std,y_train)\r\n",
        "print('Train accuracy with L2 and λ=0.1', lr2_10.score(x_train_std,y_train))\r\n",
        "print('Test accuracy with L2 and λ=0.1', lr2_10.score(x_test_std,y_test))\r\n",
        "\r\n",
        "lr2_1.fit(x_train_std,y_train)\r\n",
        "print('Train accuracy with L2 and λ=1', lr2_1.score(x_train_std,y_train))\r\n",
        "print('Test accuracy with L2 and λ=1', lr2_1.score(x_test_std,y_test))\r\n",
        "\r\n",
        "lr2_0_1.fit(x_train_std,y_train)\r\n",
        "print('Train accuracy with L2 and λ=10', lr2_0_1.score(x_train_std,y_train))\r\n",
        "print('Test accuracy with L2 and λ=10', lr2_0_1.score(x_test_std,y_test))"
      ],
      "execution_count": 111,
      "outputs": [
        {
          "output_type": "stream",
          "text": [
            "L1★★★★★★★★\n",
            "Trainng accuracy with L1 and λ=0.1 :  1.0\n",
            "Test accuracy with L1 and λ=0.1 :  0.9814814814814815\n",
            "Trainng accuracy with L1 and λ=1 :  1.0\n",
            "Test accuracy with L1 and λ=1 :  1.0\n",
            "Trainng accuracy with L1 and λ=10 :  0.967741935483871\n",
            "Test accuracy with L1 and λ=10 :  0.9444444444444444\n",
            "L2★★★★★★★★\n",
            "Train accuracy with L2 and λ=0.1 1.0\n",
            "Test accuracy with L2 and λ=0.1 0.9814814814814815\n",
            "Train accuracy with L2 and λ=1 1.0\n",
            "Test accuracy with L2 and λ=1 0.9814814814814815\n",
            "Train accuracy with L2 and λ=10 1.0\n",
            "Test accuracy with L2 and λ=10 1.0\n"
          ],
          "name": "stdout"
        },
        {
          "output_type": "stream",
          "text": [
            "/usr/local/lib/python3.6/dist-packages/sklearn/linear_model/_sag.py:330: ConvergenceWarning: The max_iter was reached which means the coef_ did not converge\n",
            "  \"the coef_ did not converge\", ConvergenceWarning)\n",
            "/usr/local/lib/python3.6/dist-packages/sklearn/linear_model/_sag.py:330: ConvergenceWarning: The max_iter was reached which means the coef_ did not converge\n",
            "  \"the coef_ did not converge\", ConvergenceWarning)\n",
            "/usr/local/lib/python3.6/dist-packages/sklearn/linear_model/_sag.py:330: ConvergenceWarning: The max_iter was reached which means the coef_ did not converge\n",
            "  \"the coef_ did not converge\", ConvergenceWarning)\n",
            "/usr/local/lib/python3.6/dist-packages/sklearn/linear_model/_sag.py:330: ConvergenceWarning: The max_iter was reached which means the coef_ did not converge\n",
            "  \"the coef_ did not converge\", ConvergenceWarning)\n"
          ],
          "name": "stderr"
        }
      ]
    },
    {
      "cell_type": "markdown",
      "metadata": {
        "id": "H0UMroFGzwI2"
      },
      "source": [
        "###L1"
      ]
    },
    {
      "cell_type": "code",
      "metadata": {
        "colab": {
          "base_uri": "https://localhost:8080/"
        },
        "id": "KKKJT4gozr94",
        "outputId": "950f8800-592d-46bd-9d14-f9fa7c045a8a"
      },
      "source": [
        "print('★★★★★★★★★상수항(계수추정치),y절편★★★★')\r\n",
        "#클래스가 3개이기 때문에 intercept도 3개가 나온다\r\n",
        "print(lr1_10.intercept_)\r\n",
        "print(lr1_1.intercept_)\r\n",
        "print(lr1_0_1.intercept_)\r\n",
        "\r\n",
        "print('★★★★★★★★★계수★★★★')\r\n",
        "print('★★★★10★★★★')\r\n",
        "print(lr1_10.coef_)\r\n",
        "print('★★★★1★★★★')\r\n",
        "print(lr1_1.coef_)\r\n",
        "print('★★★★0.1★★★★')#규제강도가 점점 높아짐\r\n",
        "print(lr1_0_1.coef_)"
      ],
      "execution_count": 112,
      "outputs": [
        {
          "output_type": "stream",
          "text": [
            "★★★★★★★★★상수항(계수추정치),y절편★★★★\n",
            "[ 0.32340002  0.56486214 -0.88826216]\n",
            "[ 0.2874285   0.53768107 -0.82510957]\n",
            "[ 0.05084043  0.30693171 -0.35777214]\n",
            "★★★★★★★★★계수★★★★\n",
            "★★★★10★★★★\n",
            "[[ 1.2259883   0.          0.18287813 -1.62617846  0.          0.33535173\n",
            "   0.71668311  0.          0.          0.          0.          0.93226671\n",
            "   1.59147558]\n",
            " [-1.75723741 -0.48814289 -1.45127923  1.06696289 -0.30258213 -0.46467391\n",
            "   0.73453115  0.44567889  0.15695646 -1.44815482  1.13037738  0.\n",
            "  -2.00627928]\n",
            " [ 0.005879    0.10972899  0.74141446  0.0362277   0.18226499  0.\n",
            "  -1.97181987 -0.02985296 -0.38740338  1.34789027 -1.2109583  -0.91689666\n",
            "   0.        ]]\n",
            "★★★★1★★★★\n",
            "[[ 0.02748942  0.          0.         -1.17920995  0.          0.\n",
            "   0.04469769  0.          0.          0.          0.          0.61282629\n",
            "   0.97972961]\n",
            " [-1.57063825 -0.14985598 -0.76518821  0.03542203 -0.06798917  0.\n",
            "   0.          0.13315451  0.         -1.03089703  0.22306348  0.\n",
            "  -1.21394086]\n",
            " [ 0.          0.          0.          0.          0.          0.\n",
            "  -2.05261104  0.         -0.04346981  0.24016966 -0.80645601 -0.67762889\n",
            "   0.        ]]\n",
            "★★★★0.1★★★★\n",
            "[[ 0.          0.          0.         -0.04187719  0.          0.\n",
            "   0.23313693  0.          0.          0.          0.          0.\n",
            "   0.84029587]\n",
            " [-0.8348101   0.          0.          0.          0.          0.\n",
            "   0.          0.          0.         -0.42343503  0.          0.\n",
            "  -0.20658733]\n",
            " [ 0.          0.          0.          0.          0.          0.\n",
            "  -0.60067281  0.          0.          0.10468284 -0.35234483 -0.52176502\n",
            "   0.        ]]\n"
          ],
          "name": "stdout"
        }
      ]
    },
    {
      "cell_type": "markdown",
      "metadata": {
        "id": "QArNcs4-zuJg"
      },
      "source": [
        "###L2"
      ]
    },
    {
      "cell_type": "code",
      "metadata": {
        "colab": {
          "base_uri": "https://localhost:8080/"
        },
        "id": "0LG4tLy-xhQX",
        "outputId": "e6f0dd0b-4740-422d-9b77-ec613534188f"
      },
      "source": [
        "print('★★★★★★★★★추정치★★★★')\r\n",
        "print(lr2_10.intercept_)\r\n",
        "print(lr2_1.intercept_)\r\n",
        "print(lr2_0_1.intercept_)\r\n",
        "\r\n",
        "print('★★★★★★★★★계수★★★★')\r\n",
        "print('★★★★10★★★★')\r\n",
        "print(lr2_10.coef_)\r\n",
        "print('★★★★1★★★★')\r\n",
        "print(lr2_1.coef_)\r\n",
        "print('★★★★0.1★★★★')\r\n",
        "print(lr2_0_1.coef_)"
      ],
      "execution_count": 113,
      "outputs": [
        {
          "output_type": "stream",
          "text": [
            "★★★★★★★★★추정치★★★★\n",
            "[ 0.35543266  0.63564187 -0.99107452]\n",
            "[ 0.28120926  0.60221872 -0.88342798]\n",
            "[ 0.0683491   0.45677868 -0.52512778]\n",
            "★★★★★★★★★계수★★★★\n",
            "★★★★10★★★★\n",
            "[[ 1.21829247  0.20175807  0.40374148 -1.5253365   0.0474662   0.45174934\n",
            "   0.78950608 -0.31212787  0.12032044  0.12746052  0.09392905  0.90869296\n",
            "   1.45662046]\n",
            " [-1.53617882 -0.46567644 -1.24892749  1.20666884 -0.30052051 -0.58385178\n",
            "   0.88848379  0.41272497  0.39700433 -1.29702136  1.13978064  0.09350063\n",
            "  -1.81143942]\n",
            " [ 0.31788636  0.26391837  0.84518601  0.31866766  0.25305431  0.13210244\n",
            "  -1.67798987 -0.1005971  -0.51732477  1.16956084 -1.23370969 -1.00219359\n",
            "   0.35481896]]\n",
            "★★★★1★★★★\n",
            "[[ 0.75495368  0.06167923  0.23374683 -0.8927082   0.02661043  0.29471545\n",
            "   0.56016823 -0.20717178  0.13400776  0.12730763  0.10188727  0.61764178\n",
            "   0.90968482]\n",
            " [-0.98654874 -0.32326036 -0.65180321  0.6679768  -0.22927424 -0.20768448\n",
            "   0.43808631  0.19878757  0.24376048 -0.78046365  0.6369763   0.08551665\n",
            "  -1.03469523]\n",
            " [ 0.23159506  0.26158113  0.41805638  0.2247314   0.20266382 -0.08703097\n",
            "  -0.99825454  0.00838422 -0.37776824  0.65315602 -0.73886357 -0.70315844\n",
            "   0.12501041]]\n",
            "★★★★0.1★★★★\n",
            "[[ 0.41029269 -0.03150389  0.13678882 -0.41134391  0.05383836  0.22359874\n",
            "   0.31669669 -0.15966563  0.11370629  0.07038297  0.11106498  0.30979759\n",
            "   0.51690039]\n",
            " [-0.54265837 -0.20155834 -0.25666165  0.28072336 -0.14836609 -0.04061659\n",
            "   0.12452259  0.08292275  0.10085821 -0.4457483   0.27318437  0.09644128\n",
            "  -0.51872157]\n",
            " [ 0.13236568  0.23306223  0.11987283  0.13062055  0.09452773 -0.18298215\n",
            "  -0.44121928  0.07674288 -0.2145645   0.37536533 -0.38424935 -0.40623886\n",
            "   0.00182118]]\n"
          ],
          "name": "stdout"
        }
      ]
    }
  ]
}